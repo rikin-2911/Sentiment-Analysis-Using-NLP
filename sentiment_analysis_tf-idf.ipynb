{
 "cells": [
  {
   "cell_type": "markdown",
   "metadata": {},
   "source": [
    "# Sentiment Analyis Using Natural Language Processing a Machine Learning Technique"
   ]
  },
  {
   "cell_type": "markdown",
   "metadata": {},
   "source": [
    "- STEPS --\n",
    "1. Gather and Explore the dataset."
   ]
  },
  {
   "cell_type": "code",
   "execution_count": 1,
   "metadata": {},
   "outputs": [],
   "source": [
    "# Importing the pandas library to see our data in the dataframe format..\n",
    "import pandas as pd\n",
    "raw_df = pd.read_csv('Sentiment_dataset.csv', encoding = 'ISO-8859-1')"
   ]
  },
  {
   "cell_type": "code",
   "execution_count": 2,
   "metadata": {},
   "outputs": [
    {
     "data": {
      "application/vnd.microsoft.datawrangler.viewer.v0+json": {
       "columns": [
        {
         "name": "index",
         "rawType": "int64",
         "type": "integer"
        },
        {
         "name": "0",
         "rawType": "int64",
         "type": "integer"
        },
        {
         "name": "1467810369",
         "rawType": "int64",
         "type": "integer"
        },
        {
         "name": "Mon Apr 06 22:19:45 PDT 2009",
         "rawType": "object",
         "type": "string"
        },
        {
         "name": "NO_QUERY",
         "rawType": "object",
         "type": "string"
        },
        {
         "name": "_TheSpecialOne_",
         "rawType": "object",
         "type": "string"
        },
        {
         "name": "@switchfoot http://twitpic.com/2y1zl - Awww, that's a bummer.  You shoulda got David Carr of Third Day to do it. ;D",
         "rawType": "object",
         "type": "string"
        }
       ],
       "conversionMethod": "pd.DataFrame",
       "ref": "086c5039-573f-4a6e-902f-01ac0e424f9e",
       "rows": [
        [
         "0",
         "0",
         "1467810672",
         "Mon Apr 06 22:19:49 PDT 2009",
         "NO_QUERY",
         "scotthamilton",
         "is upset that he can't update his Facebook by texting it... and might cry as a result  School today also. Blah!"
        ],
        [
         "1",
         "0",
         "1467810917",
         "Mon Apr 06 22:19:53 PDT 2009",
         "NO_QUERY",
         "mattycus",
         "@Kenichan I dived many times for the ball. Managed to save 50%  The rest go out of bounds"
        ],
        [
         "2",
         "0",
         "1467811184",
         "Mon Apr 06 22:19:57 PDT 2009",
         "NO_QUERY",
         "ElleCTF",
         "my whole body feels itchy and like its on fire "
        ],
        [
         "3",
         "0",
         "1467811193",
         "Mon Apr 06 22:19:57 PDT 2009",
         "NO_QUERY",
         "Karoli",
         "@nationwideclass no, it's not behaving at all. i'm mad. why am i here? because I can't see you all over there. "
        ],
        [
         "4",
         "0",
         "1467811372",
         "Mon Apr 06 22:20:00 PDT 2009",
         "NO_QUERY",
         "joy_wolf",
         "@Kwesidei not the whole crew "
        ],
        [
         "5",
         "0",
         "1467811592",
         "Mon Apr 06 22:20:03 PDT 2009",
         "NO_QUERY",
         "mybirch",
         "Need a hug "
        ],
        [
         "6",
         "0",
         "1467811594",
         "Mon Apr 06 22:20:03 PDT 2009",
         "NO_QUERY",
         "coZZ",
         "@LOLTrish hey  long time no see! Yes.. Rains a bit ,only a bit  LOL , I'm fine thanks , how's you ?"
        ],
        [
         "7",
         "0",
         "1467811795",
         "Mon Apr 06 22:20:05 PDT 2009",
         "NO_QUERY",
         "2Hood4Hollywood",
         "@Tatiana_K nope they didn't have it "
        ],
        [
         "8",
         "0",
         "1467812025",
         "Mon Apr 06 22:20:09 PDT 2009",
         "NO_QUERY",
         "mimismo",
         "@twittera que me muera ? "
        ],
        [
         "9",
         "0",
         "1467812416",
         "Mon Apr 06 22:20:16 PDT 2009",
         "NO_QUERY",
         "erinx3leannexo",
         "spring break in plain city... it's snowing "
        ],
        [
         "10",
         "0",
         "1467812579",
         "Mon Apr 06 22:20:17 PDT 2009",
         "NO_QUERY",
         "pardonlauren",
         "I just re-pierced my ears "
        ],
        [
         "11",
         "0",
         "1467812723",
         "Mon Apr 06 22:20:19 PDT 2009",
         "NO_QUERY",
         "TLeC",
         "@caregiving I couldn't bear to watch it.  And I thought the UA loss was embarrassing . . . . ."
        ],
        [
         "12",
         "0",
         "1467812771",
         "Mon Apr 06 22:20:19 PDT 2009",
         "NO_QUERY",
         "robrobbierobert",
         "@octolinz16 It it counts, idk why I did either. you never talk to me anymore "
        ],
        [
         "13",
         "0",
         "1467812784",
         "Mon Apr 06 22:20:20 PDT 2009",
         "NO_QUERY",
         "bayofwolves",
         "@smarrison i would've been the first, but i didn't have a gun.    not really though, zac snyder's just a doucheclown."
        ],
        [
         "14",
         "0",
         "1467812799",
         "Mon Apr 06 22:20:20 PDT 2009",
         "NO_QUERY",
         "HairByJess",
         "@iamjazzyfizzle I wish I got to watch it with you!! I miss you and @iamlilnicki  how was the premiere?!"
        ],
        [
         "15",
         "0",
         "1467812964",
         "Mon Apr 06 22:20:22 PDT 2009",
         "NO_QUERY",
         "lovesongwriter",
         "Hollis' death scene will hurt me severely to watch on film  wry is directors cut not out now?"
        ],
        [
         "16",
         "0",
         "1467813137",
         "Mon Apr 06 22:20:25 PDT 2009",
         "NO_QUERY",
         "armotley",
         "about to file taxes "
        ],
        [
         "17",
         "0",
         "1467813579",
         "Mon Apr 06 22:20:31 PDT 2009",
         "NO_QUERY",
         "starkissed",
         "@LettyA ahh ive always wanted to see rent  love the soundtrack!!"
        ],
        [
         "18",
         "0",
         "1467813782",
         "Mon Apr 06 22:20:34 PDT 2009",
         "NO_QUERY",
         "gi_gi_bee",
         "@FakerPattyPattz Oh dear. Were you drinking out of the forgotten table drinks? "
        ],
        [
         "19",
         "0",
         "1467813985",
         "Mon Apr 06 22:20:37 PDT 2009",
         "NO_QUERY",
         "quanvu",
         "@alydesigns i was out most of the day so didn't get much done "
        ],
        [
         "20",
         "0",
         "1467813992",
         "Mon Apr 06 22:20:38 PDT 2009",
         "NO_QUERY",
         "swinspeedx",
         "one of my friend called me, and asked to meet with her at Mid Valley today...but i've no time *sigh* "
        ],
        [
         "21",
         "0",
         "1467814119",
         "Mon Apr 06 22:20:40 PDT 2009",
         "NO_QUERY",
         "cooliodoc",
         "@angry_barista I baked you a cake but I ated it "
        ],
        [
         "22",
         "0",
         "1467814180",
         "Mon Apr 06 22:20:40 PDT 2009",
         "NO_QUERY",
         "viJILLante",
         "this week is not going as i had hoped "
        ],
        [
         "23",
         "0",
         "1467814192",
         "Mon Apr 06 22:20:41 PDT 2009",
         "NO_QUERY",
         "Ljelli3166",
         "blagh class at 8 tomorrow "
        ],
        [
         "24",
         "0",
         "1467814438",
         "Mon Apr 06 22:20:44 PDT 2009",
         "NO_QUERY",
         "ChicagoCubbie",
         "I hate when I have to call and wake people up "
        ],
        [
         "25",
         "0",
         "1467814783",
         "Mon Apr 06 22:20:50 PDT 2009",
         "NO_QUERY",
         "KatieAngell",
         "Just going to cry myself to sleep after watching Marley and Me.  "
        ],
        [
         "26",
         "0",
         "1467814883",
         "Mon Apr 06 22:20:52 PDT 2009",
         "NO_QUERY",
         "gagoo",
         "im sad now  Miss.Lilly"
        ],
        [
         "27",
         "0",
         "1467815199",
         "Mon Apr 06 22:20:56 PDT 2009",
         "NO_QUERY",
         "abel209",
         "ooooh.... LOL  that leslie.... and ok I won't do it again so leslie won't  get mad again "
        ],
        [
         "28",
         "0",
         "1467815753",
         "Mon Apr 06 22:21:04 PDT 2009",
         "NO_QUERY",
         "BaptisteTheFool",
         "Meh... Almost Lover is the exception... this track gets me depressed every time. "
        ],
        [
         "29",
         "0",
         "1467815923",
         "Mon Apr 06 22:21:07 PDT 2009",
         "NO_QUERY",
         "fatkat309",
         "some1 hacked my account on aim  now i have to make a new one"
        ],
        [
         "30",
         "0",
         "1467815924",
         "Mon Apr 06 22:21:07 PDT 2009",
         "NO_QUERY",
         "EmCDL",
         "@alielayus I want to go to promote GEAR AND GROOVE but unfornately no ride there  I may b going to the one in Anaheim in May though"
        ],
        [
         "31",
         "0",
         "1467815988",
         "Mon Apr 06 22:21:09 PDT 2009",
         "NO_QUERY",
         "merisssa",
         "thought sleeping in was an option tomorrow but realizing that it now is not. evaluations in the morning and work in the afternoon! "
        ],
        [
         "32",
         "0",
         "1467816149",
         "Mon Apr 06 22:21:11 PDT 2009",
         "NO_QUERY",
         "Pbearfox",
         "@julieebaby awe i love you too!!!! 1 am here  i miss you"
        ],
        [
         "33",
         "0",
         "1467816665",
         "Mon Apr 06 22:21:21 PDT 2009",
         "NO_QUERY",
         "jsoo",
         "@HumpNinja I cry my asian eyes to sleep at night "
        ],
        [
         "34",
         "0",
         "1467816749",
         "Mon Apr 06 22:21:20 PDT 2009",
         "NO_QUERY",
         "scarletletterm",
         "ok I'm sick and spent an hour sitting in the shower cause I was too sick to stand and held back the puke like a champ. BED now "
        ],
        [
         "35",
         "0",
         "1467817225",
         "Mon Apr 06 22:21:27 PDT 2009",
         "NO_QUERY",
         "crosland_12",
         "@cocomix04 ill tell ya the story later  not a good day and ill be workin for like three more hours..."
        ],
        [
         "36",
         "0",
         "1467817374",
         "Mon Apr 06 22:21:30 PDT 2009",
         "NO_QUERY",
         "ajaxpro",
         "@MissXu sorry! bed time came here (GMT+1)   http://is.gd/fNge"
        ],
        [
         "37",
         "0",
         "1467817502",
         "Mon Apr 06 22:21:32 PDT 2009",
         "NO_QUERY",
         "Tmttq86",
         "@fleurylis I don't either. Its depressing. I don't think I even want to know about the kids in suitcases. "
        ],
        [
         "38",
         "0",
         "1467818007",
         "Mon Apr 06 22:21:39 PDT 2009",
         "NO_QUERY",
         "Anthony_Nguyen",
         "Bed. Class 8-12. Work 12-3. Gym 3-5 or 6. Then class 6-10. Another day that's gonna fly by. I miss my girlfriend "
        ],
        [
         "39",
         "0",
         "1467818020",
         "Mon Apr 06 22:21:39 PDT 2009",
         "NO_QUERY",
         "itsanimesh",
         "really don't feel like getting up today... but got to study to for tomorrows practical exam... "
        ],
        [
         "40",
         "0",
         "1467818481",
         "Mon Apr 06 22:21:46 PDT 2009",
         "NO_QUERY",
         "lionslamb",
         "He's the reason for the teardrops on my guitar the only one who has enough of me to break my heart "
        ],
        [
         "41",
         "0",
         "1467818603",
         "Mon Apr 06 22:21:49 PDT 2009",
         "NO_QUERY",
         "kennypham",
         "Sad, sad, sad. I don't know why but I hate this feeling  I wanna sleep and I still can't!"
        ],
        [
         "42",
         "0",
         "1467818900",
         "Mon Apr 06 22:21:53 PDT 2009",
         "NO_QUERY",
         "DdubsShellBell",
         "@JonathanRKnight Awww I soo wish I was there to see you finally comfortable! Im sad that I missed it "
        ],
        [
         "43",
         "0",
         "1467819022",
         "Mon Apr 06 22:21:56 PDT 2009",
         "NO_QUERY",
         "hpfangirl94",
         "Falling asleep. Just heard about that Tracy girl's body being found. How sad  My heart breaks for that family."
        ],
        [
         "44",
         "0",
         "1467819650",
         "Mon Apr 06 22:22:05 PDT 2009",
         "NO_QUERY",
         "antzpantz",
         "@Viennah Yay! I'm happy for you with your job! But that also means less time for me and you... "
        ],
        [
         "45",
         "0",
         "1467819712",
         "Mon Apr 06 22:22:06 PDT 2009",
         "NO_QUERY",
         "labrt2004",
         "Just checked my user timeline on my blackberry, it looks like the twanking is still happening  Are ppl still having probs w/ BGs and UIDs?"
        ],
        [
         "46",
         "0",
         "1467819812",
         "Mon Apr 06 22:22:07 PDT 2009",
         "NO_QUERY",
         "IrisJumbe",
         "Oh man...was ironing @jeancjumbe's fave top to wear to a meeting. Burnt it "
        ],
        [
         "47",
         "0",
         "1467820206",
         "Mon Apr 06 22:22:13 PDT 2009",
         "NO_QUERY",
         "peacoats",
         "is strangely sad about LiLo and SamRo breaking up. "
        ],
        [
         "48",
         "0",
         "1467820835",
         "Mon Apr 06 22:22:25 PDT 2009",
         "NO_QUERY",
         "cyantist",
         "@tea oh! i'm so sorry  i didn't think about that before retweeting."
        ],
        [
         "49",
         "0",
         "1467820863",
         "Mon Apr 06 22:22:23 PDT 2009",
         "NO_QUERY",
         "tautao",
         "Broadband plan 'a massive broken promise' http://tinyurl.com/dcuc33 via www.diigo.com/~tautao Still waiting for broadband we are "
        ]
       ],
       "shape": {
        "columns": 6,
        "rows": 1599999
       }
      },
      "text/html": [
       "<div>\n",
       "<style scoped>\n",
       "    .dataframe tbody tr th:only-of-type {\n",
       "        vertical-align: middle;\n",
       "    }\n",
       "\n",
       "    .dataframe tbody tr th {\n",
       "        vertical-align: top;\n",
       "    }\n",
       "\n",
       "    .dataframe thead th {\n",
       "        text-align: right;\n",
       "    }\n",
       "</style>\n",
       "<table border=\"1\" class=\"dataframe\">\n",
       "  <thead>\n",
       "    <tr style=\"text-align: right;\">\n",
       "      <th></th>\n",
       "      <th>0</th>\n",
       "      <th>1467810369</th>\n",
       "      <th>Mon Apr 06 22:19:45 PDT 2009</th>\n",
       "      <th>NO_QUERY</th>\n",
       "      <th>_TheSpecialOne_</th>\n",
       "      <th>@switchfoot http://twitpic.com/2y1zl - Awww, that's a bummer.  You shoulda got David Carr of Third Day to do it. ;D</th>\n",
       "    </tr>\n",
       "  </thead>\n",
       "  <tbody>\n",
       "    <tr>\n",
       "      <th>0</th>\n",
       "      <td>0</td>\n",
       "      <td>1467810672</td>\n",
       "      <td>Mon Apr 06 22:19:49 PDT 2009</td>\n",
       "      <td>NO_QUERY</td>\n",
       "      <td>scotthamilton</td>\n",
       "      <td>is upset that he can't update his Facebook by ...</td>\n",
       "    </tr>\n",
       "    <tr>\n",
       "      <th>1</th>\n",
       "      <td>0</td>\n",
       "      <td>1467810917</td>\n",
       "      <td>Mon Apr 06 22:19:53 PDT 2009</td>\n",
       "      <td>NO_QUERY</td>\n",
       "      <td>mattycus</td>\n",
       "      <td>@Kenichan I dived many times for the ball. Man...</td>\n",
       "    </tr>\n",
       "    <tr>\n",
       "      <th>2</th>\n",
       "      <td>0</td>\n",
       "      <td>1467811184</td>\n",
       "      <td>Mon Apr 06 22:19:57 PDT 2009</td>\n",
       "      <td>NO_QUERY</td>\n",
       "      <td>ElleCTF</td>\n",
       "      <td>my whole body feels itchy and like its on fire</td>\n",
       "    </tr>\n",
       "    <tr>\n",
       "      <th>3</th>\n",
       "      <td>0</td>\n",
       "      <td>1467811193</td>\n",
       "      <td>Mon Apr 06 22:19:57 PDT 2009</td>\n",
       "      <td>NO_QUERY</td>\n",
       "      <td>Karoli</td>\n",
       "      <td>@nationwideclass no, it's not behaving at all....</td>\n",
       "    </tr>\n",
       "    <tr>\n",
       "      <th>4</th>\n",
       "      <td>0</td>\n",
       "      <td>1467811372</td>\n",
       "      <td>Mon Apr 06 22:20:00 PDT 2009</td>\n",
       "      <td>NO_QUERY</td>\n",
       "      <td>joy_wolf</td>\n",
       "      <td>@Kwesidei not the whole crew</td>\n",
       "    </tr>\n",
       "    <tr>\n",
       "      <th>...</th>\n",
       "      <td>...</td>\n",
       "      <td>...</td>\n",
       "      <td>...</td>\n",
       "      <td>...</td>\n",
       "      <td>...</td>\n",
       "      <td>...</td>\n",
       "    </tr>\n",
       "    <tr>\n",
       "      <th>1599994</th>\n",
       "      <td>4</td>\n",
       "      <td>2193601966</td>\n",
       "      <td>Tue Jun 16 08:40:49 PDT 2009</td>\n",
       "      <td>NO_QUERY</td>\n",
       "      <td>AmandaMarie1028</td>\n",
       "      <td>Just woke up. Having no school is the best fee...</td>\n",
       "    </tr>\n",
       "    <tr>\n",
       "      <th>1599995</th>\n",
       "      <td>4</td>\n",
       "      <td>2193601969</td>\n",
       "      <td>Tue Jun 16 08:40:49 PDT 2009</td>\n",
       "      <td>NO_QUERY</td>\n",
       "      <td>TheWDBoards</td>\n",
       "      <td>TheWDB.com - Very cool to hear old Walt interv...</td>\n",
       "    </tr>\n",
       "    <tr>\n",
       "      <th>1599996</th>\n",
       "      <td>4</td>\n",
       "      <td>2193601991</td>\n",
       "      <td>Tue Jun 16 08:40:49 PDT 2009</td>\n",
       "      <td>NO_QUERY</td>\n",
       "      <td>bpbabe</td>\n",
       "      <td>Are you ready for your MoJo Makeover? Ask me f...</td>\n",
       "    </tr>\n",
       "    <tr>\n",
       "      <th>1599997</th>\n",
       "      <td>4</td>\n",
       "      <td>2193602064</td>\n",
       "      <td>Tue Jun 16 08:40:49 PDT 2009</td>\n",
       "      <td>NO_QUERY</td>\n",
       "      <td>tinydiamondz</td>\n",
       "      <td>Happy 38th Birthday to my boo of alll time!!! ...</td>\n",
       "    </tr>\n",
       "    <tr>\n",
       "      <th>1599998</th>\n",
       "      <td>4</td>\n",
       "      <td>2193602129</td>\n",
       "      <td>Tue Jun 16 08:40:50 PDT 2009</td>\n",
       "      <td>NO_QUERY</td>\n",
       "      <td>RyanTrevMorris</td>\n",
       "      <td>happy #charitytuesday @theNSPCC @SparksCharity...</td>\n",
       "    </tr>\n",
       "  </tbody>\n",
       "</table>\n",
       "<p>1599999 rows × 6 columns</p>\n",
       "</div>"
      ],
      "text/plain": [
       "         0  1467810369  Mon Apr 06 22:19:45 PDT 2009  NO_QUERY  \\\n",
       "0        0  1467810672  Mon Apr 06 22:19:49 PDT 2009  NO_QUERY   \n",
       "1        0  1467810917  Mon Apr 06 22:19:53 PDT 2009  NO_QUERY   \n",
       "2        0  1467811184  Mon Apr 06 22:19:57 PDT 2009  NO_QUERY   \n",
       "3        0  1467811193  Mon Apr 06 22:19:57 PDT 2009  NO_QUERY   \n",
       "4        0  1467811372  Mon Apr 06 22:20:00 PDT 2009  NO_QUERY   \n",
       "...     ..         ...                           ...       ...   \n",
       "1599994  4  2193601966  Tue Jun 16 08:40:49 PDT 2009  NO_QUERY   \n",
       "1599995  4  2193601969  Tue Jun 16 08:40:49 PDT 2009  NO_QUERY   \n",
       "1599996  4  2193601991  Tue Jun 16 08:40:49 PDT 2009  NO_QUERY   \n",
       "1599997  4  2193602064  Tue Jun 16 08:40:49 PDT 2009  NO_QUERY   \n",
       "1599998  4  2193602129  Tue Jun 16 08:40:50 PDT 2009  NO_QUERY   \n",
       "\n",
       "         _TheSpecialOne_  \\\n",
       "0          scotthamilton   \n",
       "1               mattycus   \n",
       "2                ElleCTF   \n",
       "3                 Karoli   \n",
       "4               joy_wolf   \n",
       "...                  ...   \n",
       "1599994  AmandaMarie1028   \n",
       "1599995      TheWDBoards   \n",
       "1599996           bpbabe   \n",
       "1599997     tinydiamondz   \n",
       "1599998   RyanTrevMorris   \n",
       "\n",
       "        @switchfoot http://twitpic.com/2y1zl - Awww, that's a bummer.  You shoulda got David Carr of Third Day to do it. ;D  \n",
       "0        is upset that he can't update his Facebook by ...                                                                   \n",
       "1        @Kenichan I dived many times for the ball. Man...                                                                   \n",
       "2          my whole body feels itchy and like its on fire                                                                    \n",
       "3        @nationwideclass no, it's not behaving at all....                                                                   \n",
       "4                            @Kwesidei not the whole crew                                                                    \n",
       "...                                                    ...                                                                   \n",
       "1599994  Just woke up. Having no school is the best fee...                                                                   \n",
       "1599995  TheWDB.com - Very cool to hear old Walt interv...                                                                   \n",
       "1599996  Are you ready for your MoJo Makeover? Ask me f...                                                                   \n",
       "1599997  Happy 38th Birthday to my boo of alll time!!! ...                                                                   \n",
       "1599998  happy #charitytuesday @theNSPCC @SparksCharity...                                                                   \n",
       "\n",
       "[1599999 rows x 6 columns]"
      ]
     },
     "execution_count": 2,
     "metadata": {},
     "output_type": "execute_result"
    }
   ],
   "source": [
    "#Let's see our data.\n",
    "raw_df"
   ]
  },
  {
   "cell_type": "code",
   "execution_count": 3,
   "metadata": {},
   "outputs": [],
   "source": [
    "#Let's change some of the columns name like from '0' to 'Target' and the Sentiment Column also for the clarity..\n",
    "raw_df['Target'] = raw_df['0']\n",
    "raw_df['Sentiments'] = raw_df['@switchfoot http://twitpic.com/2y1zl - Awww, that\\'s a bummer.  You shoulda got David Carr of Third Day to do it. ;D']"
   ]
  },
  {
   "cell_type": "code",
   "execution_count": 4,
   "metadata": {},
   "outputs": [],
   "source": [
    "# Dropping the unwanted columns from the dataset..\n",
    "raw_df = raw_df.drop(columns=['0'])\n",
    "raw_df = raw_df.drop(columns=['@switchfoot http://twitpic.com/2y1zl - Awww, that\\'s a bummer.  You shoulda got David Carr of Third Day to do it. ;D'])"
   ]
  },
  {
   "cell_type": "markdown",
   "metadata": {},
   "source": [
    "- Here in our dataset, 0 = Negative and 4 = Positive"
   ]
  },
  {
   "cell_type": "code",
   "execution_count": 5,
   "metadata": {},
   "outputs": [
    {
     "data": {
      "text/plain": [
       "<Axes: xlabel='Target'>"
      ]
     },
     "execution_count": 5,
     "metadata": {},
     "output_type": "execute_result"
    },
    {
     "data": {
      "image/png": "[encoded data removed]",
      "text/plain": [
       "<Figure size 640x480 with 1 Axes>"
      ]
     },
     "metadata": {},
     "output_type": "display_data"
    }
   ],
   "source": [
    "#Now let's see the distribution of the sentiment on the tweets.\n",
    "raw_df['Target'].value_counts(normalize=True).plot(kind='bar') #for viewing the probabilty distribution."
   ]
  },
  {
   "cell_type": "code",
   "execution_count": 6,
   "metadata": {},
   "outputs": [
    {
     "name": "stdout",
     "output_type": "stream",
     "text": [
      "<class 'pandas.core.frame.DataFrame'>\n",
      "RangeIndex: 1599999 entries, 0 to 1599998\n",
      "Data columns (total 6 columns):\n",
      " #   Column                        Non-Null Count    Dtype \n",
      "---  ------                        --------------    ----- \n",
      " 0   1467810369                    1599999 non-null  int64 \n",
      " 1   Mon Apr 06 22:19:45 PDT 2009  1599999 non-null  object\n",
      " 2   NO_QUERY                      1599999 non-null  object\n",
      " 3   _TheSpecialOne_               1599999 non-null  object\n",
      " 4   Target                        1599999 non-null  int64 \n",
      " 5   Sentiments                    1599999 non-null  object\n",
      "dtypes: int64(2), object(4)\n",
      "memory usage: 73.2+ MB\n"
     ]
    }
   ],
   "source": [
    "# Information about our data.\n",
    "raw_df.info()"
   ]
  },
  {
   "cell_type": "markdown",
   "metadata": {},
   "source": [
    "2. Implement TF-IDF technique for implementing the Vocabulary for our data."
   ]
  },
  {
   "cell_type": "markdown",
   "metadata": {},
   "source": [
    "- Creating the custom tokenizer with stemming.\n"
   ]
  },
  {
   "cell_type": "code",
   "execution_count": 7,
   "metadata": {},
   "outputs": [],
   "source": [
    "##Using the nltk library for implementing this task.\n",
    "import nltk \n",
    "from nltk.tokenize import word_tokenize # For Tokening the words from the sentences.\n",
    "from nltk.stem.snowball import SnowballStemmer #For stemming the tokens.\n",
    "stemmer = SnowballStemmer(language='english') #instance of stemming class."
   ]
  },
  {
   "cell_type": "code",
   "execution_count": 8,
   "metadata": {},
   "outputs": [
    {
     "name": "stdout",
     "output_type": "stream",
     "text": [
      "a, about, above, after, again, against, ain, all, am, an, and, any, are, aren, aren't, as, at, be, because, been, before, being, below, between, both, but, by, can, couldn, couldn't, d, did, didn, didn't, do, does, doesn, doesn't, doing, don, don't, down, during, each, few, for, from, further, had, hadn, hadn't, has, hasn, hasn't, have, haven, haven't, having, he, he'd, he'll, her, here, hers, herself, he's, him, himself, his, how, i, i'd, if, i'll, i'm, in, into, is, isn, isn't, it, it'd, it'll, it's, its, itself, i've, just, ll, m, ma, me, mightn, mightn't, more, most, mustn, mustn't, my, myself, needn, needn't, no, nor, not, now, o, of, off, on, once, only, or, other, our, ours, ourselves, out, over, own, re, s, same, shan, shan't, she, she'd, she'll, she's, should, shouldn, shouldn't, should've, so, some, such, t, than, that, that'll, the, their, theirs, them, themselves, then, there, these, they, they'd, they'll, they're, they've, this, those, through, to, too, under, until, up, ve, very, was, wasn, wasn't, we, we'd, we'll, we're, were, weren, weren't, we've, what, when, where, which, while, who, whom, why, will, with, won, won't, wouldn, wouldn't, y, you, you'd, you'll, your, you're, yours, yourself, yourselves, you've\n"
     ]
    }
   ],
   "source": [
    "#Let's go with some of the stopwords, as this are one of the important factors in the sentiment analysis.\n",
    "from nltk.corpus import stopwords\n",
    "english_stopwords = stopwords.words('english')\n",
    "print(\", \".join(english_stopwords))"
   ]
  },
  {
   "cell_type": "code",
   "execution_count": 9,
   "metadata": {},
   "outputs": [
    {
     "name": "stdout",
     "output_type": "stream",
     "text": [
      "a, about, above, after, again, against, ain, all, am, an, and, any, are, aren, aren't, as, at, be, because, been, before, being, below, between, both, but, by, can, couldn, couldn't, d, did, didn, didn't, do, does, doesn, doesn't, doing, don, don't, down, during, each, few, for, from, further, had, hadn, hadn't, has, hasn, hasn't, have, haven, haven't, having, he, he'd, he'll, her, here, hers, herself, he's, him, himself, his, how, i, i'd, if, i'll, i'm, in, into, is, isn, isn't, it, it'd, it'll, it's, its, itself, i've, just, ll, m, ma, me, mightn, mightn't, more, most, mustn, mustn't, my, myself, needn, needn't, no, nor, not, now, o, of, off, on, once, only, or, other, our\n"
     ]
    }
   ],
   "source": [
    "# Taking the first 115 words which will certainly have most of the negative words..\n",
    "selected_stopwords = english_stopwords[:115]\n",
    "print(\", \".join(selected_stopwords))"
   ]
  },
  {
   "cell_type": "code",
   "execution_count": 10,
   "metadata": {},
   "outputs": [],
   "source": [
    "# Now let's define the helper function for implementing the both tokenization and stemming..\n",
    "def tokenize(text):\n",
    "    return [stemmer.stem(word) for word in word_tokenize(text)]\n"
   ]
  },
  {
   "cell_type": "markdown",
   "metadata": {},
   "source": [
    "- Now let's immplement the TF-IDF method for making the vocabulary for our model "
   ]
  },
  {
   "cell_type": "code",
   "execution_count": 11,
   "metadata": {},
   "outputs": [],
   "source": [
    "# Making the TF-IDF vectorizer for making the vocabulary for our model..\n",
    "from sklearn.feature_extraction.text import TfidfVectorizer\n",
    "vectorizer = TfidfVectorizer(tokenizer=tokenize,\n",
    "                             stop_words=selected_stopwords,\n",
    "                             ngram_range=(1,2),\n",
    "                             max_features=5000)"
   ]
  },
  {
   "cell_type": "code",
   "execution_count": 12,
   "metadata": {},
   "outputs": [
    {
     "name": "stderr",
     "output_type": "stream",
     "text": [
      "c:\\Users\\ASUS\\AppData\\Local\\Programs\\Python\\Python313\\Lib\\site-packages\\sklearn\\feature_extraction\\text.py:517: UserWarning: The parameter 'token_pattern' will not be used since 'tokenizer' is not None'\n",
      "  warnings.warn(\n",
      "c:\\Users\\ASUS\\AppData\\Local\\Programs\\Python\\Python313\\Lib\\site-packages\\sklearn\\feature_extraction\\text.py:402: UserWarning: Your stop_words may be inconsistent with your preprocessing. Tokenizing the stop words generated tokens [\"'d\", \"'m\", \"'s\", 'abov', 'ani', 'becaus', 'befor', 'could', 'doe', 'dure', 'might', 'must', \"n't\", 'need', 'onc', 'onli', 've'] not in stop_words.\n",
      "  warnings.warn(\n"
     ]
    },
    {
     "data": {
      "text/html": [
       "<style>#sk-container-id-1 {\n",
       "  /* Definition of color scheme common for light and dark mode */\n",
       "  --sklearn-color-text: #000;\n",
       "  --sklearn-color-text-muted: #666;\n",
       "  --sklearn-color-line: gray;\n",
       "  /* Definition of color scheme for unfitted estimators */\n",
       "  --sklearn-color-unfitted-level-0: #fff5e6;\n",
       "  --sklearn-color-unfitted-level-1: #f6e4d2;\n",
       "  --sklearn-color-unfitted-level-2: #ffe0b3;\n",
       "  --sklearn-color-unfitted-level-3: chocolate;\n",
       "  /* Definition of color scheme for fitted estimators */\n",
       "  --sklearn-color-fitted-level-0: #f0f8ff;\n",
       "  --sklearn-color-fitted-level-1: #d4ebff;\n",
       "  --sklearn-color-fitted-level-2: #b3dbfd;\n",
       "  --sklearn-color-fitted-level-3: cornflowerblue;\n",
       "\n",
       "  /* Specific color for light theme */\n",
       "  --sklearn-color-text-on-default-background: var(--sg-text-color, var(--theme-code-foreground, var(--jp-content-font-color1, black)));\n",
       "  --sklearn-color-background: var(--sg-background-color, var(--theme-background, var(--jp-layout-color0, white)));\n",
       "  --sklearn-color-border-box: var(--sg-text-color, var(--theme-code-foreground, var(--jp-content-font-color1, black)));\n",
       "  --sklearn-color-icon: #696969;\n",
       "\n",
       "  @media (prefers-color-scheme: dark) {\n",
       "    /* Redefinition of color scheme for dark theme */\n",
       "    --sklearn-color-text-on-default-background: var(--sg-text-color, var(--theme-code-foreground, var(--jp-content-font-color1, white)));\n",
       "    --sklearn-color-background: var(--sg-background-color, var(--theme-background, var(--jp-layout-color0, #111)));\n",
       "    --sklearn-color-border-box: var(--sg-text-color, var(--theme-code-foreground, var(--jp-content-font-color1, white)));\n",
       "    --sklearn-color-icon: #878787;\n",
       "  }\n",
       "}\n",
       "\n",
       "#sk-container-id-1 {\n",
       "  color: var(--sklearn-color-text);\n",
       "}\n",
       "\n",
       "#sk-container-id-1 pre {\n",
       "  padding: 0;\n",
       "}\n",
       "\n",
       "#sk-container-id-1 input.sk-hidden--visually {\n",
       "  border: 0;\n",
       "  clip: rect(1px 1px 1px 1px);\n",
       "  clip: rect(1px, 1px, 1px, 1px);\n",
       "  height: 1px;\n",
       "  margin: -1px;\n",
       "  overflow: hidden;\n",
       "  padding: 0;\n",
       "  position: absolute;\n",
       "  width: 1px;\n",
       "}\n",
       "\n",
       "#sk-container-id-1 div.sk-dashed-wrapped {\n",
       "  border: 1px dashed var(--sklearn-color-line);\n",
       "  margin: 0 0.4em 0.5em 0.4em;\n",
       "  box-sizing: border-box;\n",
       "  padding-bottom: 0.4em;\n",
       "  background-color: var(--sklearn-color-background);\n",
       "}\n",
       "\n",
       "#sk-container-id-1 div.sk-container {\n",
       "  /* jupyter's `normalize.less` sets `[hidden] { display: none; }`\n",
       "     but bootstrap.min.css set `[hidden] { display: none !important; }`\n",
       "     so we also need the `!important` here to be able to override the\n",
       "     default hidden behavior on the sphinx rendered scikit-learn.org.\n",
       "     See: https://github.com/scikit-learn/scikit-learn/issues/21755 */\n",
       "  display: inline-block !important;\n",
       "  position: relative;\n",
       "}\n",
       "\n",
       "#sk-container-id-1 div.sk-text-repr-fallback {\n",
       "  display: none;\n",
       "}\n",
       "\n",
       "div.sk-parallel-item,\n",
       "div.sk-serial,\n",
       "div.sk-item {\n",
       "  /* draw centered vertical line to link estimators */\n",
       "  background-image: linear-gradient(var(--sklearn-color-text-on-default-background), var(--sklearn-color-text-on-default-background));\n",
       "  background-size: 2px 100%;\n",
       "  background-repeat: no-repeat;\n",
       "  background-position: center center;\n",
       "}\n",
       "\n",
       "/* Parallel-specific style estimator block */\n",
       "\n",
       "#sk-container-id-1 div.sk-parallel-item::after {\n",
       "  content: \"\";\n",
       "  width: 100%;\n",
       "  border-bottom: 2px solid var(--sklearn-color-text-on-default-background);\n",
       "  flex-grow: 1;\n",
       "}\n",
       "\n",
       "#sk-container-id-1 div.sk-parallel {\n",
       "  display: flex;\n",
       "  align-items: stretch;\n",
       "  justify-content: center;\n",
       "  background-color: var(--sklearn-color-background);\n",
       "  position: relative;\n",
       "}\n",
       "\n",
       "#sk-container-id-1 div.sk-parallel-item {\n",
       "  display: flex;\n",
       "  flex-direction: column;\n",
       "}\n",
       "\n",
       "#sk-container-id-1 div.sk-parallel-item:first-child::after {\n",
       "  align-self: flex-end;\n",
       "  width: 50%;\n",
       "}\n",
       "\n",
       "#sk-container-id-1 div.sk-parallel-item:last-child::after {\n",
       "  align-self: flex-start;\n",
       "  width: 50%;\n",
       "}\n",
       "\n",
       "#sk-container-id-1 div.sk-parallel-item:only-child::after {\n",
       "  width: 0;\n",
       "}\n",
       "\n",
       "/* Serial-specific style estimator block */\n",
       "\n",
       "#sk-container-id-1 div.sk-serial {\n",
       "  display: flex;\n",
       "  flex-direction: column;\n",
       "  align-items: center;\n",
       "  background-color: var(--sklearn-color-background);\n",
       "  padding-right: 1em;\n",
       "  padding-left: 1em;\n",
       "}\n",
       "\n",
       "\n",
       "/* Toggleable style: style used for estimator/Pipeline/ColumnTransformer box that is\n",
       "clickable and can be expanded/collapsed.\n",
       "- Pipeline and ColumnTransformer use this feature and define the default style\n",
       "- Estimators will overwrite some part of the style using the `sk-estimator` class\n",
       "*/\n",
       "\n",
       "/* Pipeline and ColumnTransformer style (default) */\n",
       "\n",
       "#sk-container-id-1 div.sk-toggleable {\n",
       "  /* Default theme specific background. It is overwritten whether we have a\n",
       "  specific estimator or a Pipeline/ColumnTransformer */\n",
       "  background-color: var(--sklearn-color-background);\n",
       "}\n",
       "\n",
       "/* Toggleable label */\n",
       "#sk-container-id-1 label.sk-toggleable__label {\n",
       "  cursor: pointer;\n",
       "  display: flex;\n",
       "  width: 100%;\n",
       "  margin-bottom: 0;\n",
       "  padding: 0.5em;\n",
       "  box-sizing: border-box;\n",
       "  text-align: center;\n",
       "  align-items: start;\n",
       "  justify-content: space-between;\n",
       "  gap: 0.5em;\n",
       "}\n",
       "\n",
       "#sk-container-id-1 label.sk-toggleable__label .caption {\n",
       "  font-size: 0.6rem;\n",
       "  font-weight: lighter;\n",
       "  color: var(--sklearn-color-text-muted);\n",
       "}\n",
       "\n",
       "#sk-container-id-1 label.sk-toggleable__label-arrow:before {\n",
       "  /* Arrow on the left of the label */\n",
       "  content: \"▸\";\n",
       "  float: left;\n",
       "  margin-right: 0.25em;\n",
       "  color: var(--sklearn-color-icon);\n",
       "}\n",
       "\n",
       "#sk-container-id-1 label.sk-toggleable__label-arrow:hover:before {\n",
       "  color: var(--sklearn-color-text);\n",
       "}\n",
       "\n",
       "/* Toggleable content - dropdown */\n",
       "\n",
       "#sk-container-id-1 div.sk-toggleable__content {\n",
       "  max-height: 0;\n",
       "  max-width: 0;\n",
       "  overflow: hidden;\n",
       "  text-align: left;\n",
       "  /* unfitted */\n",
       "  background-color: var(--sklearn-color-unfitted-level-0);\n",
       "}\n",
       "\n",
       "#sk-container-id-1 div.sk-toggleable__content.fitted {\n",
       "  /* fitted */\n",
       "  background-color: var(--sklearn-color-fitted-level-0);\n",
       "}\n",
       "\n",
       "#sk-container-id-1 div.sk-toggleable__content pre {\n",
       "  margin: 0.2em;\n",
       "  border-radius: 0.25em;\n",
       "  color: var(--sklearn-color-text);\n",
       "  /* unfitted */\n",
       "  background-color: var(--sklearn-color-unfitted-level-0);\n",
       "}\n",
       "\n",
       "#sk-container-id-1 div.sk-toggleable__content.fitted pre {\n",
       "  /* unfitted */\n",
       "  background-color: var(--sklearn-color-fitted-level-0);\n",
       "}\n",
       "\n",
       "#sk-container-id-1 input.sk-toggleable__control:checked~div.sk-toggleable__content {\n",
       "  /* Expand drop-down */\n",
       "  max-height: 200px;\n",
       "  max-width: 100%;\n",
       "  overflow: auto;\n",
       "}\n",
       "\n",
       "#sk-container-id-1 input.sk-toggleable__control:checked~label.sk-toggleable__label-arrow:before {\n",
       "  content: \"▾\";\n",
       "}\n",
       "\n",
       "/* Pipeline/ColumnTransformer-specific style */\n",
       "\n",
       "#sk-container-id-1 div.sk-label input.sk-toggleable__control:checked~label.sk-toggleable__label {\n",
       "  color: var(--sklearn-color-text);\n",
       "  background-color: var(--sklearn-color-unfitted-level-2);\n",
       "}\n",
       "\n",
       "#sk-container-id-1 div.sk-label.fitted input.sk-toggleable__control:checked~label.sk-toggleable__label {\n",
       "  background-color: var(--sklearn-color-fitted-level-2);\n",
       "}\n",
       "\n",
       "/* Estimator-specific style */\n",
       "\n",
       "/* Colorize estimator box */\n",
       "#sk-container-id-1 div.sk-estimator input.sk-toggleable__control:checked~label.sk-toggleable__label {\n",
       "  /* unfitted */\n",
       "  background-color: var(--sklearn-color-unfitted-level-2);\n",
       "}\n",
       "\n",
       "#sk-container-id-1 div.sk-estimator.fitted input.sk-toggleable__control:checked~label.sk-toggleable__label {\n",
       "  /* fitted */\n",
       "  background-color: var(--sklearn-color-fitted-level-2);\n",
       "}\n",
       "\n",
       "#sk-container-id-1 div.sk-label label.sk-toggleable__label,\n",
       "#sk-container-id-1 div.sk-label label {\n",
       "  /* The background is the default theme color */\n",
       "  color: var(--sklearn-color-text-on-default-background);\n",
       "}\n",
       "\n",
       "/* On hover, darken the color of the background */\n",
       "#sk-container-id-1 div.sk-label:hover label.sk-toggleable__label {\n",
       "  color: var(--sklearn-color-text);\n",
       "  background-color: var(--sklearn-color-unfitted-level-2);\n",
       "}\n",
       "\n",
       "/* Label box, darken color on hover, fitted */\n",
       "#sk-container-id-1 div.sk-label.fitted:hover label.sk-toggleable__label.fitted {\n",
       "  color: var(--sklearn-color-text);\n",
       "  background-color: var(--sklearn-color-fitted-level-2);\n",
       "}\n",
       "\n",
       "/* Estimator label */\n",
       "\n",
       "#sk-container-id-1 div.sk-label label {\n",
       "  font-family: monospace;\n",
       "  font-weight: bold;\n",
       "  display: inline-block;\n",
       "  line-height: 1.2em;\n",
       "}\n",
       "\n",
       "#sk-container-id-1 div.sk-label-container {\n",
       "  text-align: center;\n",
       "}\n",
       "\n",
       "/* Estimator-specific */\n",
       "#sk-container-id-1 div.sk-estimator {\n",
       "  font-family: monospace;\n",
       "  border: 1px dotted var(--sklearn-color-border-box);\n",
       "  border-radius: 0.25em;\n",
       "  box-sizing: border-box;\n",
       "  margin-bottom: 0.5em;\n",
       "  /* unfitted */\n",
       "  background-color: var(--sklearn-color-unfitted-level-0);\n",
       "}\n",
       "\n",
       "#sk-container-id-1 div.sk-estimator.fitted {\n",
       "  /* fitted */\n",
       "  background-color: var(--sklearn-color-fitted-level-0);\n",
       "}\n",
       "\n",
       "/* on hover */\n",
       "#sk-container-id-1 div.sk-estimator:hover {\n",
       "  /* unfitted */\n",
       "  background-color: var(--sklearn-color-unfitted-level-2);\n",
       "}\n",
       "\n",
       "#sk-container-id-1 div.sk-estimator.fitted:hover {\n",
       "  /* fitted */\n",
       "  background-color: var(--sklearn-color-fitted-level-2);\n",
       "}\n",
       "\n",
       "/* Specification for estimator info (e.g. \"i\" and \"?\") */\n",
       "\n",
       "/* Common style for \"i\" and \"?\" */\n",
       "\n",
       ".sk-estimator-doc-link,\n",
       "a:link.sk-estimator-doc-link,\n",
       "a:visited.sk-estimator-doc-link {\n",
       "  float: right;\n",
       "  font-size: smaller;\n",
       "  line-height: 1em;\n",
       "  font-family: monospace;\n",
       "  background-color: var(--sklearn-color-background);\n",
       "  border-radius: 1em;\n",
       "  height: 1em;\n",
       "  width: 1em;\n",
       "  text-decoration: none !important;\n",
       "  margin-left: 0.5em;\n",
       "  text-align: center;\n",
       "  /* unfitted */\n",
       "  border: var(--sklearn-color-unfitted-level-1) 1pt solid;\n",
       "  color: var(--sklearn-color-unfitted-level-1);\n",
       "}\n",
       "\n",
       ".sk-estimator-doc-link.fitted,\n",
       "a:link.sk-estimator-doc-link.fitted,\n",
       "a:visited.sk-estimator-doc-link.fitted {\n",
       "  /* fitted */\n",
       "  border: var(--sklearn-color-fitted-level-1) 1pt solid;\n",
       "  color: var(--sklearn-color-fitted-level-1);\n",
       "}\n",
       "\n",
       "/* On hover */\n",
       "div.sk-estimator:hover .sk-estimator-doc-link:hover,\n",
       ".sk-estimator-doc-link:hover,\n",
       "div.sk-label-container:hover .sk-estimator-doc-link:hover,\n",
       ".sk-estimator-doc-link:hover {\n",
       "  /* unfitted */\n",
       "  background-color: var(--sklearn-color-unfitted-level-3);\n",
       "  color: var(--sklearn-color-background);\n",
       "  text-decoration: none;\n",
       "}\n",
       "\n",
       "div.sk-estimator.fitted:hover .sk-estimator-doc-link.fitted:hover,\n",
       ".sk-estimator-doc-link.fitted:hover,\n",
       "div.sk-label-container:hover .sk-estimator-doc-link.fitted:hover,\n",
       ".sk-estimator-doc-link.fitted:hover {\n",
       "  /* fitted */\n",
       "  background-color: var(--sklearn-color-fitted-level-3);\n",
       "  color: var(--sklearn-color-background);\n",
       "  text-decoration: none;\n",
       "}\n",
       "\n",
       "/* Span, style for the box shown on hovering the info icon */\n",
       ".sk-estimator-doc-link span {\n",
       "  display: none;\n",
       "  z-index: 9999;\n",
       "  position: relative;\n",
       "  font-weight: normal;\n",
       "  right: .2ex;\n",
       "  padding: .5ex;\n",
       "  margin: .5ex;\n",
       "  width: min-content;\n",
       "  min-width: 20ex;\n",
       "  max-width: 50ex;\n",
       "  color: var(--sklearn-color-text);\n",
       "  box-shadow: 2pt 2pt 4pt #999;\n",
       "  /* unfitted */\n",
       "  background: var(--sklearn-color-unfitted-level-0);\n",
       "  border: .5pt solid var(--sklearn-color-unfitted-level-3);\n",
       "}\n",
       "\n",
       ".sk-estimator-doc-link.fitted span {\n",
       "  /* fitted */\n",
       "  background: var(--sklearn-color-fitted-level-0);\n",
       "  border: var(--sklearn-color-fitted-level-3);\n",
       "}\n",
       "\n",
       ".sk-estimator-doc-link:hover span {\n",
       "  display: block;\n",
       "}\n",
       "\n",
       "/* \"?\"-specific style due to the `<a>` HTML tag */\n",
       "\n",
       "#sk-container-id-1 a.estimator_doc_link {\n",
       "  float: right;\n",
       "  font-size: 1rem;\n",
       "  line-height: 1em;\n",
       "  font-family: monospace;\n",
       "  background-color: var(--sklearn-color-background);\n",
       "  border-radius: 1rem;\n",
       "  height: 1rem;\n",
       "  width: 1rem;\n",
       "  text-decoration: none;\n",
       "  /* unfitted */\n",
       "  color: var(--sklearn-color-unfitted-level-1);\n",
       "  border: var(--sklearn-color-unfitted-level-1) 1pt solid;\n",
       "}\n",
       "\n",
       "#sk-container-id-1 a.estimator_doc_link.fitted {\n",
       "  /* fitted */\n",
       "  border: var(--sklearn-color-fitted-level-1) 1pt solid;\n",
       "  color: var(--sklearn-color-fitted-level-1);\n",
       "}\n",
       "\n",
       "/* On hover */\n",
       "#sk-container-id-1 a.estimator_doc_link:hover {\n",
       "  /* unfitted */\n",
       "  background-color: var(--sklearn-color-unfitted-level-3);\n",
       "  color: var(--sklearn-color-background);\n",
       "  text-decoration: none;\n",
       "}\n",
       "\n",
       "#sk-container-id-1 a.estimator_doc_link.fitted:hover {\n",
       "  /* fitted */\n",
       "  background-color: var(--sklearn-color-fitted-level-3);\n",
       "}\n",
       "</style><div id=\"sk-container-id-1\" class=\"sk-top-container\"><div class=\"sk-text-repr-fallback\"><pre>TfidfVectorizer(max_features=5000, ngram_range=(1, 2),\n",
       "                stop_words=[&#x27;a&#x27;, &#x27;about&#x27;, &#x27;above&#x27;, &#x27;after&#x27;, &#x27;again&#x27;, &#x27;against&#x27;,\n",
       "                            &#x27;ain&#x27;, &#x27;all&#x27;, &#x27;am&#x27;, &#x27;an&#x27;, &#x27;and&#x27;, &#x27;any&#x27;, &#x27;are&#x27;,\n",
       "                            &#x27;aren&#x27;, &quot;aren&#x27;t&quot;, &#x27;as&#x27;, &#x27;at&#x27;, &#x27;be&#x27;, &#x27;because&#x27;,\n",
       "                            &#x27;been&#x27;, &#x27;before&#x27;, &#x27;being&#x27;, &#x27;below&#x27;, &#x27;between&#x27;,\n",
       "                            &#x27;both&#x27;, &#x27;but&#x27;, &#x27;by&#x27;, &#x27;can&#x27;, &#x27;couldn&#x27;, &quot;couldn&#x27;t&quot;, ...],\n",
       "                tokenizer=&lt;function tokenize at 0x000001D3C3CF5D00&gt;)</pre><b>In a Jupyter environment, please rerun this cell to show the HTML representation or trust the notebook. <br />On GitHub, the HTML representation is unable to render, please try loading this page with nbviewer.org.</b></div><div class=\"sk-container\" hidden><div class=\"sk-item\"><div class=\"sk-estimator fitted sk-toggleable\"><input class=\"sk-toggleable__control sk-hidden--visually\" id=\"sk-estimator-id-1\" type=\"checkbox\" checked><label for=\"sk-estimator-id-1\" class=\"sk-toggleable__label fitted sk-toggleable__label-arrow\"><div><div>TfidfVectorizer</div></div><div><a class=\"sk-estimator-doc-link fitted\" rel=\"noreferrer\" target=\"_blank\" href=\"https://scikit-learn.org/1.6/modules/generated/sklearn.feature_extraction.text.TfidfVectorizer.html\">?<span>Documentation for TfidfVectorizer</span></a><span class=\"sk-estimator-doc-link fitted\">i<span>Fitted</span></span></div></label><div class=\"sk-toggleable__content fitted\"><pre>TfidfVectorizer(max_features=5000, ngram_range=(1, 2),\n",
       "                stop_words=[&#x27;a&#x27;, &#x27;about&#x27;, &#x27;above&#x27;, &#x27;after&#x27;, &#x27;again&#x27;, &#x27;against&#x27;,\n",
       "                            &#x27;ain&#x27;, &#x27;all&#x27;, &#x27;am&#x27;, &#x27;an&#x27;, &#x27;and&#x27;, &#x27;any&#x27;, &#x27;are&#x27;,\n",
       "                            &#x27;aren&#x27;, &quot;aren&#x27;t&quot;, &#x27;as&#x27;, &#x27;at&#x27;, &#x27;be&#x27;, &#x27;because&#x27;,\n",
       "                            &#x27;been&#x27;, &#x27;before&#x27;, &#x27;being&#x27;, &#x27;below&#x27;, &#x27;between&#x27;,\n",
       "                            &#x27;both&#x27;, &#x27;but&#x27;, &#x27;by&#x27;, &#x27;can&#x27;, &#x27;couldn&#x27;, &quot;couldn&#x27;t&quot;, ...],\n",
       "                tokenizer=&lt;function tokenize at 0x000001D3C3CF5D00&gt;)</pre></div> </div></div></div></div>"
      ],
      "text/plain": [
       "TfidfVectorizer(max_features=5000, ngram_range=(1, 2),\n",
       "                stop_words=['a', 'about', 'above', 'after', 'again', 'against',\n",
       "                            'ain', 'all', 'am', 'an', 'and', 'any', 'are',\n",
       "                            'aren', \"aren't\", 'as', 'at', 'be', 'because',\n",
       "                            'been', 'before', 'being', 'below', 'between',\n",
       "                            'both', 'but', 'by', 'can', 'couldn', \"couldn't\", ...],\n",
       "                tokenizer=<function tokenize at 0x000001D3C3CF5D00>)"
      ]
     },
     "execution_count": 12,
     "metadata": {},
     "output_type": "execute_result"
    }
   ],
   "source": [
    "#Now let's fit our vectorizer into the our training dataset..\n",
    "vectorizer.fit(raw_df.Sentiments)"
   ]
  },
  {
   "cell_type": "code",
   "execution_count": 13,
   "metadata": {},
   "outputs": [
    {
     "data": {
      "text/plain": [
       "5000"
      ]
     },
     "execution_count": 13,
     "metadata": {},
     "output_type": "execute_result"
    }
   ],
   "source": [
    "len(vectorizer.get_feature_names_out())"
   ]
  },
  {
   "cell_type": "code",
   "execution_count": 14,
   "metadata": {},
   "outputs": [
    {
     "data": {
      "text/plain": [
       "array(['!', '! !', '! #', '! &', \"! 'm\", \"! 's\", '! (', '! )', '! *',\n",
       "       '! ,', '! -', '! .', '! ..', '! ...', '! :', '! ;', '! ?', '! @',\n",
       "       '! also', '! back', '! ca', '! cant', '! check', '! come',\n",
       "       '! could', '! damn', '! dont', '! enjoy', '! feel', '! final',\n",
       "       '! fun', '! get', '! glad', '! go', '! gon', '! good', '! got',\n",
       "       '! great', '! guess', '! haha', '! hahaha', '! happi', '! hate',\n",
       "       '! hehe', '! hope', '! http', '! im', '! keep', '! know', '! let',\n",
       "       '! like', '! lol', '! look', '! love', '! make', '! mayb',\n",
       "       '! miss', \"! n't\", '! need', '! nice', '! oh', '! omg', '! one',\n",
       "       '! onli', '! pleas', '! poor', '! realli', '! sad', '! see',\n",
       "       '! she', '! should', '! so', '! sorri', '! still', '! take',\n",
       "       '! thank', '! that', '! the', '! then', '! there', '! they',\n",
       "       '! think', '! this', '! thought', '! time', '! to', '! too',\n",
       "       '! tri', '! u', '! ugh', '! ve', '! veri', '! wan', '! want',\n",
       "       '! was', '! watch', '! we', '! well', '! what', '! when',\n",
       "       '! where', '! whi', '! will', '! wish', '! work', '! would', '! x',\n",
       "       '! xx', '! xxx', '! yay', '! yeah', '! yes', '! you', '! your',\n",
       "       '#', '# fb', '# ff', '# followfriday', '# squarespac', '$'],\n",
       "      dtype=object)"
      ]
     },
     "execution_count": 14,
     "metadata": {},
     "output_type": "execute_result"
    }
   ],
   "source": [
    "vectorizer.get_feature_names_out()[:120]"
   ]
  },
  {
   "cell_type": "code",
   "execution_count": 15,
   "metadata": {},
   "outputs": [],
   "source": [
    "# Transforming the Sentiments into the vectors using the tf-idf vectorizer\n",
    "inputs = vectorizer.transform(raw_df.Sentiments)"
   ]
  },
  {
   "cell_type": "code",
   "execution_count": 16,
   "metadata": {},
   "outputs": [
    {
     "data": {
      "text/plain": [
       "(1599999, 5000)"
      ]
     },
     "execution_count": 16,
     "metadata": {},
     "output_type": "execute_result"
    }
   ],
   "source": [
    "# Checking the shape of the inputs..\n",
    "inputs.shape"
   ]
  },
  {
   "cell_type": "markdown",
   "metadata": {},
   "source": [
    "- Now let's spllit the data into the Train, Validation and Test Sets.."
   ]
  },
  {
   "cell_type": "code",
   "execution_count": 17,
   "metadata": {},
   "outputs": [
    {
     "data": {
      "application/vnd.microsoft.datawrangler.viewer.v0+json": {
       "columns": [
        {
         "name": "index",
         "rawType": "int64",
         "type": "integer"
        },
        {
         "name": "1467810369",
         "rawType": "int64",
         "type": "integer"
        },
        {
         "name": "Mon Apr 06 22:19:45 PDT 2009",
         "rawType": "object",
         "type": "string"
        },
        {
         "name": "NO_QUERY",
         "rawType": "object",
         "type": "string"
        },
        {
         "name": "_TheSpecialOne_",
         "rawType": "object",
         "type": "string"
        },
        {
         "name": "Target",
         "rawType": "int64",
         "type": "integer"
        },
        {
         "name": "Sentiments",
         "rawType": "object",
         "type": "string"
        }
       ],
       "conversionMethod": "pd.DataFrame",
       "ref": "bce20759-2191-4308-8f43-273b68a65a4b",
       "rows": [
        [
         "0",
         "1467810672",
         "Mon Apr 06 22:19:49 PDT 2009",
         "NO_QUERY",
         "scotthamilton",
         "0",
         "is upset that he can't update his Facebook by texting it... and might cry as a result  School today also. Blah!"
        ],
        [
         "1",
         "1467810917",
         "Mon Apr 06 22:19:53 PDT 2009",
         "NO_QUERY",
         "mattycus",
         "0",
         "@Kenichan I dived many times for the ball. Managed to save 50%  The rest go out of bounds"
        ],
        [
         "2",
         "1467811184",
         "Mon Apr 06 22:19:57 PDT 2009",
         "NO_QUERY",
         "ElleCTF",
         "0",
         "my whole body feels itchy and like its on fire "
        ],
        [
         "3",
         "1467811193",
         "Mon Apr 06 22:19:57 PDT 2009",
         "NO_QUERY",
         "Karoli",
         "0",
         "@nationwideclass no, it's not behaving at all. i'm mad. why am i here? because I can't see you all over there. "
        ],
        [
         "4",
         "1467811372",
         "Mon Apr 06 22:20:00 PDT 2009",
         "NO_QUERY",
         "joy_wolf",
         "0",
         "@Kwesidei not the whole crew "
        ],
        [
         "5",
         "1467811592",
         "Mon Apr 06 22:20:03 PDT 2009",
         "NO_QUERY",
         "mybirch",
         "0",
         "Need a hug "
        ],
        [
         "6",
         "1467811594",
         "Mon Apr 06 22:20:03 PDT 2009",
         "NO_QUERY",
         "coZZ",
         "0",
         "@LOLTrish hey  long time no see! Yes.. Rains a bit ,only a bit  LOL , I'm fine thanks , how's you ?"
        ],
        [
         "7",
         "1467811795",
         "Mon Apr 06 22:20:05 PDT 2009",
         "NO_QUERY",
         "2Hood4Hollywood",
         "0",
         "@Tatiana_K nope they didn't have it "
        ],
        [
         "8",
         "1467812025",
         "Mon Apr 06 22:20:09 PDT 2009",
         "NO_QUERY",
         "mimismo",
         "0",
         "@twittera que me muera ? "
        ],
        [
         "9",
         "1467812416",
         "Mon Apr 06 22:20:16 PDT 2009",
         "NO_QUERY",
         "erinx3leannexo",
         "0",
         "spring break in plain city... it's snowing "
        ],
        [
         "10",
         "1467812579",
         "Mon Apr 06 22:20:17 PDT 2009",
         "NO_QUERY",
         "pardonlauren",
         "0",
         "I just re-pierced my ears "
        ],
        [
         "11",
         "1467812723",
         "Mon Apr 06 22:20:19 PDT 2009",
         "NO_QUERY",
         "TLeC",
         "0",
         "@caregiving I couldn't bear to watch it.  And I thought the UA loss was embarrassing . . . . ."
        ],
        [
         "12",
         "1467812771",
         "Mon Apr 06 22:20:19 PDT 2009",
         "NO_QUERY",
         "robrobbierobert",
         "0",
         "@octolinz16 It it counts, idk why I did either. you never talk to me anymore "
        ],
        [
         "13",
         "1467812784",
         "Mon Apr 06 22:20:20 PDT 2009",
         "NO_QUERY",
         "bayofwolves",
         "0",
         "@smarrison i would've been the first, but i didn't have a gun.    not really though, zac snyder's just a doucheclown."
        ],
        [
         "14",
         "1467812799",
         "Mon Apr 06 22:20:20 PDT 2009",
         "NO_QUERY",
         "HairByJess",
         "0",
         "@iamjazzyfizzle I wish I got to watch it with you!! I miss you and @iamlilnicki  how was the premiere?!"
        ],
        [
         "15",
         "1467812964",
         "Mon Apr 06 22:20:22 PDT 2009",
         "NO_QUERY",
         "lovesongwriter",
         "0",
         "Hollis' death scene will hurt me severely to watch on film  wry is directors cut not out now?"
        ],
        [
         "16",
         "1467813137",
         "Mon Apr 06 22:20:25 PDT 2009",
         "NO_QUERY",
         "armotley",
         "0",
         "about to file taxes "
        ],
        [
         "17",
         "1467813579",
         "Mon Apr 06 22:20:31 PDT 2009",
         "NO_QUERY",
         "starkissed",
         "0",
         "@LettyA ahh ive always wanted to see rent  love the soundtrack!!"
        ],
        [
         "18",
         "1467813782",
         "Mon Apr 06 22:20:34 PDT 2009",
         "NO_QUERY",
         "gi_gi_bee",
         "0",
         "@FakerPattyPattz Oh dear. Were you drinking out of the forgotten table drinks? "
        ],
        [
         "19",
         "1467813985",
         "Mon Apr 06 22:20:37 PDT 2009",
         "NO_QUERY",
         "quanvu",
         "0",
         "@alydesigns i was out most of the day so didn't get much done "
        ],
        [
         "20",
         "1467813992",
         "Mon Apr 06 22:20:38 PDT 2009",
         "NO_QUERY",
         "swinspeedx",
         "0",
         "one of my friend called me, and asked to meet with her at Mid Valley today...but i've no time *sigh* "
        ],
        [
         "21",
         "1467814119",
         "Mon Apr 06 22:20:40 PDT 2009",
         "NO_QUERY",
         "cooliodoc",
         "0",
         "@angry_barista I baked you a cake but I ated it "
        ],
        [
         "22",
         "1467814180",
         "Mon Apr 06 22:20:40 PDT 2009",
         "NO_QUERY",
         "viJILLante",
         "0",
         "this week is not going as i had hoped "
        ],
        [
         "23",
         "1467814192",
         "Mon Apr 06 22:20:41 PDT 2009",
         "NO_QUERY",
         "Ljelli3166",
         "0",
         "blagh class at 8 tomorrow "
        ],
        [
         "24",
         "1467814438",
         "Mon Apr 06 22:20:44 PDT 2009",
         "NO_QUERY",
         "ChicagoCubbie",
         "0",
         "I hate when I have to call and wake people up "
        ],
        [
         "25",
         "1467814783",
         "Mon Apr 06 22:20:50 PDT 2009",
         "NO_QUERY",
         "KatieAngell",
         "0",
         "Just going to cry myself to sleep after watching Marley and Me.  "
        ],
        [
         "26",
         "1467814883",
         "Mon Apr 06 22:20:52 PDT 2009",
         "NO_QUERY",
         "gagoo",
         "0",
         "im sad now  Miss.Lilly"
        ],
        [
         "27",
         "1467815199",
         "Mon Apr 06 22:20:56 PDT 2009",
         "NO_QUERY",
         "abel209",
         "0",
         "ooooh.... LOL  that leslie.... and ok I won't do it again so leslie won't  get mad again "
        ],
        [
         "28",
         "1467815753",
         "Mon Apr 06 22:21:04 PDT 2009",
         "NO_QUERY",
         "BaptisteTheFool",
         "0",
         "Meh... Almost Lover is the exception... this track gets me depressed every time. "
        ],
        [
         "29",
         "1467815923",
         "Mon Apr 06 22:21:07 PDT 2009",
         "NO_QUERY",
         "fatkat309",
         "0",
         "some1 hacked my account on aim  now i have to make a new one"
        ],
        [
         "30",
         "1467815924",
         "Mon Apr 06 22:21:07 PDT 2009",
         "NO_QUERY",
         "EmCDL",
         "0",
         "@alielayus I want to go to promote GEAR AND GROOVE but unfornately no ride there  I may b going to the one in Anaheim in May though"
        ],
        [
         "31",
         "1467815988",
         "Mon Apr 06 22:21:09 PDT 2009",
         "NO_QUERY",
         "merisssa",
         "0",
         "thought sleeping in was an option tomorrow but realizing that it now is not. evaluations in the morning and work in the afternoon! "
        ],
        [
         "32",
         "1467816149",
         "Mon Apr 06 22:21:11 PDT 2009",
         "NO_QUERY",
         "Pbearfox",
         "0",
         "@julieebaby awe i love you too!!!! 1 am here  i miss you"
        ],
        [
         "33",
         "1467816665",
         "Mon Apr 06 22:21:21 PDT 2009",
         "NO_QUERY",
         "jsoo",
         "0",
         "@HumpNinja I cry my asian eyes to sleep at night "
        ],
        [
         "34",
         "1467816749",
         "Mon Apr 06 22:21:20 PDT 2009",
         "NO_QUERY",
         "scarletletterm",
         "0",
         "ok I'm sick and spent an hour sitting in the shower cause I was too sick to stand and held back the puke like a champ. BED now "
        ],
        [
         "35",
         "1467817225",
         "Mon Apr 06 22:21:27 PDT 2009",
         "NO_QUERY",
         "crosland_12",
         "0",
         "@cocomix04 ill tell ya the story later  not a good day and ill be workin for like three more hours..."
        ],
        [
         "36",
         "1467817374",
         "Mon Apr 06 22:21:30 PDT 2009",
         "NO_QUERY",
         "ajaxpro",
         "0",
         "@MissXu sorry! bed time came here (GMT+1)   http://is.gd/fNge"
        ],
        [
         "37",
         "1467817502",
         "Mon Apr 06 22:21:32 PDT 2009",
         "NO_QUERY",
         "Tmttq86",
         "0",
         "@fleurylis I don't either. Its depressing. I don't think I even want to know about the kids in suitcases. "
        ],
        [
         "38",
         "1467818007",
         "Mon Apr 06 22:21:39 PDT 2009",
         "NO_QUERY",
         "Anthony_Nguyen",
         "0",
         "Bed. Class 8-12. Work 12-3. Gym 3-5 or 6. Then class 6-10. Another day that's gonna fly by. I miss my girlfriend "
        ],
        [
         "39",
         "1467818020",
         "Mon Apr 06 22:21:39 PDT 2009",
         "NO_QUERY",
         "itsanimesh",
         "0",
         "really don't feel like getting up today... but got to study to for tomorrows practical exam... "
        ],
        [
         "40",
         "1467818481",
         "Mon Apr 06 22:21:46 PDT 2009",
         "NO_QUERY",
         "lionslamb",
         "0",
         "He's the reason for the teardrops on my guitar the only one who has enough of me to break my heart "
        ],
        [
         "41",
         "1467818603",
         "Mon Apr 06 22:21:49 PDT 2009",
         "NO_QUERY",
         "kennypham",
         "0",
         "Sad, sad, sad. I don't know why but I hate this feeling  I wanna sleep and I still can't!"
        ],
        [
         "42",
         "1467818900",
         "Mon Apr 06 22:21:53 PDT 2009",
         "NO_QUERY",
         "DdubsShellBell",
         "0",
         "@JonathanRKnight Awww I soo wish I was there to see you finally comfortable! Im sad that I missed it "
        ],
        [
         "43",
         "1467819022",
         "Mon Apr 06 22:21:56 PDT 2009",
         "NO_QUERY",
         "hpfangirl94",
         "0",
         "Falling asleep. Just heard about that Tracy girl's body being found. How sad  My heart breaks for that family."
        ],
        [
         "44",
         "1467819650",
         "Mon Apr 06 22:22:05 PDT 2009",
         "NO_QUERY",
         "antzpantz",
         "0",
         "@Viennah Yay! I'm happy for you with your job! But that also means less time for me and you... "
        ],
        [
         "45",
         "1467819712",
         "Mon Apr 06 22:22:06 PDT 2009",
         "NO_QUERY",
         "labrt2004",
         "0",
         "Just checked my user timeline on my blackberry, it looks like the twanking is still happening  Are ppl still having probs w/ BGs and UIDs?"
        ],
        [
         "46",
         "1467819812",
         "Mon Apr 06 22:22:07 PDT 2009",
         "NO_QUERY",
         "IrisJumbe",
         "0",
         "Oh man...was ironing @jeancjumbe's fave top to wear to a meeting. Burnt it "
        ],
        [
         "47",
         "1467820206",
         "Mon Apr 06 22:22:13 PDT 2009",
         "NO_QUERY",
         "peacoats",
         "0",
         "is strangely sad about LiLo and SamRo breaking up. "
        ],
        [
         "48",
         "1467820835",
         "Mon Apr 06 22:22:25 PDT 2009",
         "NO_QUERY",
         "cyantist",
         "0",
         "@tea oh! i'm so sorry  i didn't think about that before retweeting."
        ],
        [
         "49",
         "1467820863",
         "Mon Apr 06 22:22:23 PDT 2009",
         "NO_QUERY",
         "tautao",
         "0",
         "Broadband plan 'a massive broken promise' http://tinyurl.com/dcuc33 via www.diigo.com/~tautao Still waiting for broadband we are "
        ]
       ],
       "shape": {
        "columns": 6,
        "rows": 1599999
       }
      },
      "text/html": [
       "<div>\n",
       "<style scoped>\n",
       "    .dataframe tbody tr th:only-of-type {\n",
       "        vertical-align: middle;\n",
       "    }\n",
       "\n",
       "    .dataframe tbody tr th {\n",
       "        vertical-align: top;\n",
       "    }\n",
       "\n",
       "    .dataframe thead th {\n",
       "        text-align: right;\n",
       "    }\n",
       "</style>\n",
       "<table border=\"1\" class=\"dataframe\">\n",
       "  <thead>\n",
       "    <tr style=\"text-align: right;\">\n",
       "      <th></th>\n",
       "      <th>1467810369</th>\n",
       "      <th>Mon Apr 06 22:19:45 PDT 2009</th>\n",
       "      <th>NO_QUERY</th>\n",
       "      <th>_TheSpecialOne_</th>\n",
       "      <th>Target</th>\n",
       "      <th>Sentiments</th>\n",
       "    </tr>\n",
       "  </thead>\n",
       "  <tbody>\n",
       "    <tr>\n",
       "      <th>0</th>\n",
       "      <td>1467810672</td>\n",
       "      <td>Mon Apr 06 22:19:49 PDT 2009</td>\n",
       "      <td>NO_QUERY</td>\n",
       "      <td>scotthamilton</td>\n",
       "      <td>0</td>\n",
       "      <td>is upset that he can't update his Facebook by ...</td>\n",
       "    </tr>\n",
       "    <tr>\n",
       "      <th>1</th>\n",
       "      <td>1467810917</td>\n",
       "      <td>Mon Apr 06 22:19:53 PDT 2009</td>\n",
       "      <td>NO_QUERY</td>\n",
       "      <td>mattycus</td>\n",
       "      <td>0</td>\n",
       "      <td>@Kenichan I dived many times for the ball. Man...</td>\n",
       "    </tr>\n",
       "    <tr>\n",
       "      <th>2</th>\n",
       "      <td>1467811184</td>\n",
       "      <td>Mon Apr 06 22:19:57 PDT 2009</td>\n",
       "      <td>NO_QUERY</td>\n",
       "      <td>ElleCTF</td>\n",
       "      <td>0</td>\n",
       "      <td>my whole body feels itchy and like its on fire</td>\n",
       "    </tr>\n",
       "    <tr>\n",
       "      <th>3</th>\n",
       "      <td>1467811193</td>\n",
       "      <td>Mon Apr 06 22:19:57 PDT 2009</td>\n",
       "      <td>NO_QUERY</td>\n",
       "      <td>Karoli</td>\n",
       "      <td>0</td>\n",
       "      <td>@nationwideclass no, it's not behaving at all....</td>\n",
       "    </tr>\n",
       "    <tr>\n",
       "      <th>4</th>\n",
       "      <td>1467811372</td>\n",
       "      <td>Mon Apr 06 22:20:00 PDT 2009</td>\n",
       "      <td>NO_QUERY</td>\n",
       "      <td>joy_wolf</td>\n",
       "      <td>0</td>\n",
       "      <td>@Kwesidei not the whole crew</td>\n",
       "    </tr>\n",
       "    <tr>\n",
       "      <th>...</th>\n",
       "      <td>...</td>\n",
       "      <td>...</td>\n",
       "      <td>...</td>\n",
       "      <td>...</td>\n",
       "      <td>...</td>\n",
       "      <td>...</td>\n",
       "    </tr>\n",
       "    <tr>\n",
       "      <th>1599994</th>\n",
       "      <td>2193601966</td>\n",
       "      <td>Tue Jun 16 08:40:49 PDT 2009</td>\n",
       "      <td>NO_QUERY</td>\n",
       "      <td>AmandaMarie1028</td>\n",
       "      <td>4</td>\n",
       "      <td>Just woke up. Having no school is the best fee...</td>\n",
       "    </tr>\n",
       "    <tr>\n",
       "      <th>1599995</th>\n",
       "      <td>2193601969</td>\n",
       "      <td>Tue Jun 16 08:40:49 PDT 2009</td>\n",
       "      <td>NO_QUERY</td>\n",
       "      <td>TheWDBoards</td>\n",
       "      <td>4</td>\n",
       "      <td>TheWDB.com - Very cool to hear old Walt interv...</td>\n",
       "    </tr>\n",
       "    <tr>\n",
       "      <th>1599996</th>\n",
       "      <td>2193601991</td>\n",
       "      <td>Tue Jun 16 08:40:49 PDT 2009</td>\n",
       "      <td>NO_QUERY</td>\n",
       "      <td>bpbabe</td>\n",
       "      <td>4</td>\n",
       "      <td>Are you ready for your MoJo Makeover? Ask me f...</td>\n",
       "    </tr>\n",
       "    <tr>\n",
       "      <th>1599997</th>\n",
       "      <td>2193602064</td>\n",
       "      <td>Tue Jun 16 08:40:49 PDT 2009</td>\n",
       "      <td>NO_QUERY</td>\n",
       "      <td>tinydiamondz</td>\n",
       "      <td>4</td>\n",
       "      <td>Happy 38th Birthday to my boo of alll time!!! ...</td>\n",
       "    </tr>\n",
       "    <tr>\n",
       "      <th>1599998</th>\n",
       "      <td>2193602129</td>\n",
       "      <td>Tue Jun 16 08:40:50 PDT 2009</td>\n",
       "      <td>NO_QUERY</td>\n",
       "      <td>RyanTrevMorris</td>\n",
       "      <td>4</td>\n",
       "      <td>happy #charitytuesday @theNSPCC @SparksCharity...</td>\n",
       "    </tr>\n",
       "  </tbody>\n",
       "</table>\n",
       "<p>1599999 rows × 6 columns</p>\n",
       "</div>"
      ],
      "text/plain": [
       "         1467810369  Mon Apr 06 22:19:45 PDT 2009  NO_QUERY  _TheSpecialOne_  \\\n",
       "0        1467810672  Mon Apr 06 22:19:49 PDT 2009  NO_QUERY    scotthamilton   \n",
       "1        1467810917  Mon Apr 06 22:19:53 PDT 2009  NO_QUERY         mattycus   \n",
       "2        1467811184  Mon Apr 06 22:19:57 PDT 2009  NO_QUERY          ElleCTF   \n",
       "3        1467811193  Mon Apr 06 22:19:57 PDT 2009  NO_QUERY           Karoli   \n",
       "4        1467811372  Mon Apr 06 22:20:00 PDT 2009  NO_QUERY         joy_wolf   \n",
       "...             ...                           ...       ...              ...   \n",
       "1599994  2193601966  Tue Jun 16 08:40:49 PDT 2009  NO_QUERY  AmandaMarie1028   \n",
       "1599995  2193601969  Tue Jun 16 08:40:49 PDT 2009  NO_QUERY      TheWDBoards   \n",
       "1599996  2193601991  Tue Jun 16 08:40:49 PDT 2009  NO_QUERY           bpbabe   \n",
       "1599997  2193602064  Tue Jun 16 08:40:49 PDT 2009  NO_QUERY     tinydiamondz   \n",
       "1599998  2193602129  Tue Jun 16 08:40:50 PDT 2009  NO_QUERY   RyanTrevMorris   \n",
       "\n",
       "         Target                                         Sentiments  \n",
       "0             0  is upset that he can't update his Facebook by ...  \n",
       "1             0  @Kenichan I dived many times for the ball. Man...  \n",
       "2             0    my whole body feels itchy and like its on fire   \n",
       "3             0  @nationwideclass no, it's not behaving at all....  \n",
       "4             0                      @Kwesidei not the whole crew   \n",
       "...         ...                                                ...  \n",
       "1599994       4  Just woke up. Having no school is the best fee...  \n",
       "1599995       4  TheWDB.com - Very cool to hear old Walt interv...  \n",
       "1599996       4  Are you ready for your MoJo Makeover? Ask me f...  \n",
       "1599997       4  Happy 38th Birthday to my boo of alll time!!! ...  \n",
       "1599998       4  happy #charitytuesday @theNSPCC @SparksCharity...  \n",
       "\n",
       "[1599999 rows x 6 columns]"
      ]
     },
     "execution_count": 17,
     "metadata": {},
     "output_type": "execute_result"
    }
   ],
   "source": [
    "raw_df"
   ]
  },
  {
   "cell_type": "markdown",
   "metadata": {},
   "source": [
    "- We can split the data randomly in this case because of the distribution is not random and creates problem if we split the dataset sequencially.\n"
   ]
  },
  {
   "cell_type": "code",
   "execution_count": 18,
   "metadata": {},
   "outputs": [],
   "source": [
    "#splitting using the skicit learn library.\n",
    "from sklearn.model_selection import train_test_split\n",
    "train_val_inputs, test_inputs, train_val_targets, test_targets = train_test_split(inputs, raw_df.Target, test_size=0.2, random_state=29)\n",
    "train_inputs, val_inputs, train_targets, val_targets = train_test_split(train_val_inputs, train_val_targets, test_size=0.2, random_state=29)"
   ]
  },
  {
   "cell_type": "code",
   "execution_count": 19,
   "metadata": {},
   "outputs": [
    {
     "data": {
      "text/plain": [
       "((320000, 5000), (320000,))"
      ]
     },
     "execution_count": 19,
     "metadata": {},
     "output_type": "execute_result"
    }
   ],
   "source": [
    "# Checking the test set..\n",
    "test_inputs.shape, test_targets.shape"
   ]
  },
  {
   "cell_type": "code",
   "execution_count": 20,
   "metadata": {},
   "outputs": [
    {
     "data": {
      "text/plain": [
       "941529    4\n",
       "790494    0\n",
       "487958    0\n",
       "727538    0\n",
       "417660    0\n",
       "         ..\n",
       "52865     0\n",
       "840496    4\n",
       "857196    4\n",
       "951964    4\n",
       "828306    4\n",
       "Name: Target, Length: 320000, dtype: int64"
      ]
     },
     "execution_count": 20,
     "metadata": {},
     "output_type": "execute_result"
    }
   ],
   "source": [
    "test_targets"
   ]
  },
  {
   "cell_type": "code",
   "execution_count": 21,
   "metadata": {},
   "outputs": [
    {
     "data": {
      "text/plain": [
       "((1023999, 5000), (1023999,))"
      ]
     },
     "execution_count": 21,
     "metadata": {},
     "output_type": "execute_result"
    }
   ],
   "source": [
    "# Checking the train set..\n",
    "train_inputs.shape, train_targets.shape"
   ]
  },
  {
   "cell_type": "code",
   "execution_count": 22,
   "metadata": {},
   "outputs": [
    {
     "data": {
      "text/plain": [
       "672198     0\n",
       "460342     0\n",
       "83564      0\n",
       "648978     0\n",
       "174841     0\n",
       "          ..\n",
       "1102242    4\n",
       "23477      0\n",
       "603106     0\n",
       "741594     0\n",
       "1327704    4\n",
       "Name: Target, Length: 1023999, dtype: int64"
      ]
     },
     "execution_count": 22,
     "metadata": {},
     "output_type": "execute_result"
    }
   ],
   "source": [
    "train_targets"
   ]
  },
  {
   "cell_type": "code",
   "execution_count": 23,
   "metadata": {},
   "outputs": [
    {
     "data": {
      "text/plain": [
       "((256000, 5000), (256000,))"
      ]
     },
     "execution_count": 23,
     "metadata": {},
     "output_type": "execute_result"
    }
   ],
   "source": [
    "# Checking the validation set..\n",
    "val_inputs.shape, val_targets.shape"
   ]
  },
  {
   "cell_type": "code",
   "execution_count": 24,
   "metadata": {},
   "outputs": [
    {
     "data": {
      "text/plain": [
       "664290     0\n",
       "115114     0\n",
       "858522     4\n",
       "623931     0\n",
       "493342     0\n",
       "          ..\n",
       "781104     0\n",
       "106587     0\n",
       "1509761    4\n",
       "559727     0\n",
       "1342573    4\n",
       "Name: Target, Length: 256000, dtype: int64"
      ]
     },
     "execution_count": 24,
     "metadata": {},
     "output_type": "execute_result"
    }
   ],
   "source": [
    "val_targets"
   ]
  },
  {
   "cell_type": "markdown",
   "metadata": {},
   "source": [
    "## Training the ML models"
   ]
  },
  {
   "cell_type": "markdown",
   "metadata": {},
   "source": [
    "## Training the baseline model  --> Logistic Regression Model"
   ]
  },
  {
   "cell_type": "code",
   "execution_count": 25,
   "metadata": {},
   "outputs": [],
   "source": [
    "from sklearn.linear_model import LogisticRegression as LR \n",
    "model1 = LR()"
   ]
  },
  {
   "cell_type": "code",
   "execution_count": 26,
   "metadata": {},
   "outputs": [],
   "source": [
    "#Helper function for model hyperparameters tuning.\n",
    "from sklearn.metrics import accuracy_score, f1_score\n",
    "def evaluate_model(model,train_inputs, val_inputs, train_targets, val_targets):\n",
    "\n",
    "    #Fitting the model to the traning data and predicting the vallues on training and validation sets.\n",
    "    model.fit(train_inputs, train_targets)\n",
    "    train_preds = model.predict(train_inputs)\n",
    "    val_preds = model.predict(val_inputs)\n",
    "\n",
    "    #Evaluation of the model on the train and val set..\n",
    "    #Evaluation of the model using the accuracy score and F1-Score\n",
    "    from sklearn.metrics import accuracy_score, f1_score\n",
    "    train_acc = accuracy_score(train_targets, train_preds)\n",
    "    train_f1 = f1_score(train_targets, train_preds, average='weighted')\n",
    "    val_acc = accuracy_score(val_targets, val_preds)\n",
    "    val_f1 = f1_score(val_targets, val_preds, average = 'weighted')\n",
    "\n",
    "    return f\"Train Acc: {train_acc} | Train F1: {train_f1} | Val Acc: {val_acc} | Val F1: {val_f1}\""
   ]
  },
  {
   "cell_type": "code",
   "execution_count": 27,
   "metadata": {},
   "outputs": [
    {
     "data": {
      "text/plain": [
       "'Train Acc: 0.7897068258855722 | Train F1: 0.7896296394622137 | Val Acc: 0.787578125 | Val F1: 0.7875035901569094'"
      ]
     },
     "execution_count": 27,
     "metadata": {},
     "output_type": "execute_result"
    }
   ],
   "source": [
    "evaluate_model(model1, train_inputs, val_inputs, train_targets, val_targets)"
   ]
  },
  {
   "cell_type": "markdown",
   "metadata": {},
   "source": [
    "- On our Logistic Regression Model the accuracy and f1 score on train and validation set is around 78.65, which is not good but not so bad.."
   ]
  },
  {
   "cell_type": "markdown",
   "metadata": {},
   "source": [
    "## Training on a tree based models --> 1. Decision Trees and 2. Random Forest"
   ]
  },
  {
   "cell_type": "code",
   "execution_count": 28,
   "metadata": {},
   "outputs": [],
   "source": [
    "# Training on a Decision Tree model.\n",
    "from sklearn.tree import DecisionTreeClassifier as DC \n",
    "model2 = DC(max_depth=200, max_leaf_nodes=2000, random_state=29)"
   ]
  },
  {
   "cell_type": "code",
   "execution_count": 29,
   "metadata": {},
   "outputs": [
    {
     "data": {
      "text/plain": [
       "'Train Acc: 0.7478698709666709 | Train F1: 0.7478400261207747 | Val Acc: 0.73637109375 | Val F1: 0.7363382805012559'"
      ]
     },
     "execution_count": 29,
     "metadata": {},
     "output_type": "execute_result"
    }
   ],
   "source": [
    "evaluate_model(model2, train_inputs, val_inputs, train_targets, val_targets)"
   ]
  },
  {
   "cell_type": "code",
   "execution_count": 30,
   "metadata": {},
   "outputs": [],
   "source": [
    "# Training on a Random Forest model.\n",
    "from sklearn.ensemble import RandomForestClassifier\n",
    "model3 =  RandomForestClassifier(n_estimators=500, n_jobs=-1, random_state=29)"
   ]
  },
  {
   "cell_type": "code",
   "execution_count": 31,
   "metadata": {},
   "outputs": [
    {
     "data": {
      "text/plain": [
       "'Train Acc: 0.7478698709666709 | Train F1: 0.7478400261207747 | Val Acc: 0.73637109375 | Val F1: 0.7363382805012559'"
      ]
     },
     "execution_count": 31,
     "metadata": {},
     "output_type": "execute_result"
    }
   ],
   "source": [
    "evaluate_model(model2, train_inputs, val_inputs, train_targets, val_targets)"
   ]
  }
 ],
 "metadata": {
  "kernelspec": {
   "display_name": "Python 3",
   "language": "python",
   "name": "python3"
  },
  "language_info": {
   "codemirror_mode": {
    "name": "ipython",
    "version": 3
   },
   "file_extension": ".py",
   "mimetype": "text/x-python",
   "name": "python",
   "nbconvert_exporter": "python",
   "pygments_lexer": "ipython3",
   "version": "3.13.1"
  }
 },
 "nbformat": 4,
 "nbformat_minor": 2
}
