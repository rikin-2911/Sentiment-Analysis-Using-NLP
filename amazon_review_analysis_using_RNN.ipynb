{
 "cells": [
  {
   "cell_type": "markdown",
   "metadata": {},
   "source": [
    "## RNN Model for Amazon Sales Review Analysis.."
   ]
  },
  {
   "cell_type": "markdown",
   "metadata": {},
   "source": [
    "## 1. Gather and Exploration of data."
   ]
  },
  {
   "cell_type": "code",
   "execution_count": 2,
   "metadata": {},
   "outputs": [],
   "source": [
    "# Importing the pandas library for viewing the data into a dataframe format..\n",
    "import pandas as pd\n",
    "raw_df = pd.read_csv('train.csv')"
   ]
  },
  {
   "cell_type": "code",
   "execution_count": 3,
   "metadata": {},
   "outputs": [
    {
     "data": {
      "application/vnd.microsoft.datawrangler.viewer.v0+json": {
       "columns": [
        {
         "name": "index",
         "rawType": "int64",
         "type": "integer"
        },
        {
         "name": "2",
         "rawType": "int64",
         "type": "integer"
        },
        {
         "name": "Stuning even for the non-gamer",
         "rawType": "object",
         "type": "unknown"
        },
        {
         "name": "This sound track was beautiful! It paints the senery in your mind so well I would recomend it even to people who hate vid. game music! I have played the game Chrono Cross but out of all of the games I have ever played it has the best music! It backs away from crude keyboarding and takes a fresher step with grate guitars and soulful orchestras. It would impress anyone who cares to listen! ^_^",
         "rawType": "object",
         "type": "string"
        }
       ],
       "conversionMethod": "pd.DataFrame",
       "ref": "89757ed3-1ee8-4019-a31a-68237c8f9b5d",
       "rows": [
        [
         "0",
         "2",
         "The best soundtrack ever to anything.",
         "I'm reading a lot of reviews saying that this is the best 'game soundtrack' and I figured that I'd write a review to disagree a bit. This in my opinino is Yasunori Mitsuda's ultimate masterpiece. The music is timeless and I'm been listening to it for years now and its beauty simply refuses to fade.The price tag on this is pretty staggering I must say, but if you are going to buy any cd for this much money, this is the only one that I feel would be worth every penny."
        ],
        [
         "1",
         "2",
         "Amazing!",
         "This soundtrack is my favorite music of all time, hands down. The intense sadness of \"Prisoners of Fate\" (which means all the more if you've played the game) and the hope in \"A Distant Promise\" and \"Girl who Stole the Star\" have been an important inspiration to me personally throughout my teen years. The higher energy tracks like \"Chrono Cross ~ Time's Scar~\", \"Time of the Dreamwatch\", and \"Chronomantique\" (indefinably remeniscent of Chrono Trigger) are all absolutely superb as well.This soundtrack is amazing music, probably the best of this composer's work (I haven't heard the Xenogears soundtrack, so I can't say for sure), and even if you've never played the game, it would be worth twice the price to buy it.I wish I could give it 6 stars."
        ],
        [
         "2",
         "2",
         "Excellent Soundtrack",
         "I truly like this soundtrack and I enjoy video game music. I have played this game and most of the music on here I enjoy and it's truly relaxing and peaceful.On disk one. my favorites are Scars Of Time, Between Life and Death, Forest Of Illusion, Fortress of Ancient Dragons, Lost Fragment, and Drowned Valley.Disk Two: The Draggons, Galdorb - Home, Chronomantique, Prisoners of Fate, Gale, and my girlfriend likes ZelbessDisk Three: The best of the three. Garden Of God, Chronopolis, Fates, Jellyfish sea, Burning Orphange, Dragon's Prayer, Tower Of Stars, Dragon God, and Radical Dreamers - Unstealable Jewel.Overall, this is a excellent soundtrack and should be brought by those that like video game music.Xander Cross"
        ],
        [
         "3",
         "2",
         "Remember, Pull Your Jaw Off The Floor After Hearing it",
         "If you've played the game, you know how divine the music is! Every single song tells a story of the game, it's that good! The greatest songs are without a doubt, Chrono Cross: Time's Scar, Magical Dreamers: The Wind, The Stars, and the Sea and Radical Dreamers: Unstolen Jewel. (Translation varies) This music is perfect if you ask me, the best it can be. Yasunori Mitsuda just poured his heart on and wrote it down on paper."
        ],
        [
         "4",
         "2",
         "an absolute masterpiece",
         "I am quite sure any of you actually taking the time to read this have played the game at least once, and heard at least a few of the tracks here. And whether you were aware of it or not, Mitsuda's music contributed greatly to the mood of every single minute of the whole game.Composed of 3 CDs and quite a few songs (I haven't an exact count), all of which are heart-rendering and impressively remarkable, this soundtrack is one I assure you you will not forget. It has everything for every listener -- from fast-paced and energetic (Dancing the Tokage or Termina Home), to slower and more haunting (Dragon God), to purely beautifully composed (Time's Scar), to even some fantastic vocals (Radical Dreamers).This is one of the best videogame soundtracks out there, and surely Mitsuda's best ever. ^_^"
        ],
        [
         "5",
         "1",
         "Buyer beware",
         "This is a self-published book, and if you want to know why--read a few paragraphs! Those 5 star reviews must have been written by Ms. Haddon's family and friends--or perhaps, by herself! I can't imagine anyone reading the whole thing--I spent an evening with the book and a friend and we were in hysterics reading bits and pieces of it to one another. It is most definitely bad enough to be entered into some kind of a \"worst book\" contest. I can't believe Amazon even sells this kind of thing. Maybe I can offer them my 8th grade term paper on \"To Kill a Mockingbird\"--a book I am quite sure Ms. Haddon never heard of. Anyway, unless you are in a mood to send a book to someone as a joke---stay far, far away from this one!"
        ],
        [
         "6",
         "2",
         "Glorious story",
         "I loved Whisper of the wicked saints. The story was amazing and I was pleasantly surprised at the changes in the book. I am not normaly someone who is into romance novels, but the world was raving about this book and so I bought it. I loved it !! This is a brilliant story because it is so true. This book was so wonderful that I have told all of my friends to read it. It is not a typical romance, it is so much more. Not reading this book is a crime, becuase you are missing out on a heart warming story."
        ],
        [
         "7",
         "2",
         "A FIVE STAR BOOK",
         "I just finished reading Whisper of the Wicked saints. I fell in love with the caracters. I expected an average romance read, but instead I found one of my favorite books of all time. Just when I thought I could predict the outcome I was shocked ! The writting was so descriptive that my heart broke when Julia's did and I felt as if I was there with them instead of just a distant reader. If you are a lover of romance novels then this is a must read. Don't let the cover fool you this book is spectacular!"
        ],
        [
         "8",
         "2",
         "Whispers of the Wicked Saints",
         "This was a easy to read book that made me want to keep reading on and on, not easy to put down.It left me wanting to read the follow on, which I hope is coming soon. I used to read a lot but have gotten away from it. This book made me want to read again. Very enjoyable."
        ],
        [
         "9",
         "1",
         "The Worst!",
         "A complete waste of time. Typographical errors, poor grammar, and a totally pathetic plot add up to absolutely nothing. I'm embarrassed for this author and very disappointed I actually paid for this book."
        ],
        [
         "10",
         "2",
         "Great book",
         "This was a great book,I just could not put it down,and could not read it fast enough. Boy what a book the twist and turns in this just keeps you guessing and wanting to know what is going to happen next. This book makes you fall in love and can heat you up,it can also make you so angery. this book can make you go throu several of your emotions. This is a quick read romance. It is something that you will want to end your day off with if you read at night."
        ],
        [
         "11",
         "2",
         "Great Read",
         "I thought this book was brilliant, but yet realistic. It showed me that to error is human. I loved the fact that this writer showed the loving side of God and not the revengeful side of him. I loved how it twisted and turned and I could not put it down. I also loved The glass castle."
        ],
        [
         "12",
         "1",
         "Oh please",
         "I guess you have to be a romance novel lover for this one, and not a very discerning one. All others beware! It is absolute drivel. I figured I was in trouble when a typo is prominently featured on the back cover, but the first page of the book removed all doubt. Wait - maybe I'm missing the point. A quick re-read of the beginning now makes it clear. This has to be an intentional churning of over-heated prose for satiric purposes. Phew, so glad I didn't waste $10.95 after all."
        ],
        [
         "13",
         "1",
         "Awful beyond belief!",
         "I feel I have to write to keep others from wasting their money. This book seems to have been written by a 7th grader with poor grammatical skills for her age! As another reviewer points out, there is a misspelling on the cover, and I believe there is at least one per chapter. For example, it was mentioned twice that she had a \"lean\" on her house. I was so distracted by the poor writing and weak plot, that I decided to read with a pencil in hand to mark all of the horrible grammar and spelling. Please don't waste your money. I too, believe that the good reviews must have been written by the author's relatives. I will not put much faith in the reviews from now on!"
        ],
        [
         "14",
         "1",
         "Don't try to fool us with fake reviews.",
         "It's glaringly obvious that all of the glowing reviews have been written by the same person, perhaps the author herself. They all have the same misspellings and poor sentence structure that is featured in the book. Who made Veronica Haddon think she is an author?"
        ],
        [
         "15",
         "2",
         "A romantic zen baseball comedy",
         "When you hear folks say that they don't make 'em like that anymore, they might be talking about \"BY THE SEA\". This is a very cool story about a young Cuban girl searching for idenity who stumbles into a coastal resort kitchen gig with a zen motorcycle maintenance man, three hysterical Italian chefs and a Latino fireballing right handed pitcher who plays on the team sponsored by the resort's owner. As is often the case she 'finds' herself through honest, often comical but always emotional, interaction with this sizzling roster of players. With the perfect mix of special effects, that salsa sound and flashbacks, BY THE SEA, gets 4 BIG stars from me!"
        ],
        [
         "16",
         "2",
         "Fashionable Compression Stockings!",
         "After I had a DVT my doctor required me to wear compression stockings. I wore ugly white TED hose and yucky thick brown stockings. Then I found Jobst UltraSheer. They gave me the compression I needed (15-20,) but looked like regular pantyhose. Even though my blood clot has been gone for 4 years, I still buy these to wear as support stockings because they make my legs feel so nice.**Note, I have problems with the rubberized tops rolling down my thigh. I tried the Jobst adhesive, but I hated having my skin pulled all day. I bought an inexpensive garter belt and it works fine and helps keep the stockings from rolling."
        ],
        [
         "17",
         "2",
         "Jobst UltraSheer Thigh High",
         "Excellent product. However, they are very difficult to get on for older people. I feel like I've had a full day workout after getting them on. Also, as the day wears on, they begin to roll down from the top and create a very deep ridge in the skin. I have to wear them, so if those two difficulties could be addressed it would be such a help."
        ],
        [
         "18",
         "1",
         "sizes recomended in the size chart are not real",
         "sizes are much smaller than what is recomended in the chart. I tried to put it and sheer it!. I guess you should not buy this item in the internet..it is better to go to the store and check it"
        ],
        [
         "19",
         "1",
         "mens ultrasheer",
         "This model may be ok for sedentary types, but I'm active and get around alot in my job - consistently found these stockings rolled up down by my ankles! Not Good!! Solution: go with the standard compression stocking, 20-30, stock #114622. Excellent support, stays up and gives me what I need. Both pair of these also tore as I struggled to pull them up all the time. Good riddance/bad investment!"
        ],
        [
         "20",
         "2",
         "Delicious cookie mix",
         "I thought it was funny that I bought this product without knowing it was a mix. I read the header very quickly and just thought it was packaged cookies. But no, it is cookie MIX and I guess I should have noticed that since it is right in the title.This is the first time I have ever tried baking with a cookie mix. If you are used to the convenience of the cookie dough that you buy wrapped up in plastic logs then you might be in for a bit of a surprise. Mixing up the dough can get VERY messy (it is extremely sticky). However, with a cookie mix like this you have a lot of flexibility in the ratio of ingredients (I like to add some extra butter to make the baked cookies more chewy). Also, this mix has really large chocolate chips in it--I love that.I removed a star for the addition of 'natural flavors' in the mix."
        ],
        [
         "21",
         "1",
         "Another Abysmal Digital Copy",
         "Rather than scratches and insect droppings, this one has random pixelations combined with muddy light and vague image resolution. Probably the cue should have been the packaging is straight out of your street corner bootleg dealer.If you've ever seen a reasonably good condition film copy, you know the defining visuals of his film are the crystal clear lighting contrasts in black and white. The surrounding countryside and 'old home' scenes are set with early morning ground mists or the haze of memory while the events on the bridge and in the water are bright, clear, and immediate.Here everything is dull, dark, and clouded. Or, if you remember the timbre and enunciation of Captain's commands, so are the visuals.After that, it is hard to believe this award winning, critically acclaimed film's best presentation is on YOUTUBE. Somewhere \"out there\" is a DVD that comes up to the standard of a 16mm public library reel.Just none of them appear to be on Amazon."
        ],
        [
         "22",
         "2",
         "A fascinating insight into the life of modern Japanese teens",
         "I thoroughly enjoyed Rising Sons and Daughters. I don't know of any other book that looks at Japanese society from the point of view of its young people poised as they are between their parents' age-old Japanese culture of restraint and obedience to the will of the community, and their peers' adulation of Western culture. True to form, the \"New Young\" of Japan seem to be creating an \"international\" blend, as the Ando family demonstrates in this beautifully written book of vignettes of the private lives of members of this family. Steven Wardell is clearly a talented young author, adopted for some of his schooling into this family of four teens, and thus able to view family life in Japan from the inside out. A great read!"
        ],
        [
         "23",
         "2",
         "i liked this album more then i thought i would",
         "I heard a song or two and thought same o same o,but when i listened to songs like \"blue angel\",\"lanna\" and 'mama\" the hair just rose off my neck.Roy is trully an amazing singer with a talent you don't find much now days."
        ],
        [
         "24",
         "1",
         "Problem with charging smaller AAAs",
         "I have had the charger for more than two years. It charges AA batteries just fine, but has a huge problem securing smaller AAA batteries. To charge the smaller batteries you need to flip down the little button at the positive end. In the beginning one of the four AAA batteries would pop up, and now three out of the four won't hold. The problem is the flip mechanism became loose, and any horizontal pressure would push the buttons back up. What I have to do now is using duct tape and a segment of crayon, apply the crayon on the buttons, and wrap the tape around. You know how painful that is."
        ],
        [
         "25",
         "1",
         "Works, but not as advertised",
         "I bought one of these chargers..the instructions say the lights stay on while the battery charges...true. The instructions doNT say the lights turn off when its done. Which is also true. 24 hours of charging and the lights stay on. I returned it thinking I had a bad unit.The new one did the same thing. I just kept it since it does charge...but the lights are useless since they seem to always stay on. It's a \"backup\" charger for when I manage to drain all my AAs but I wouldn't want this as my only charger."
        ],
        [
         "26",
         "1",
         "Disappointed",
         "I read the reviews,made my purchase and was very disappointed. The charger is convenient by charging all four batteries at once but the charge only lasts a very short time. I now have to go and find batteries that will give me longer life than the kodak NiMH AA batteries."
        ],
        [
         "27",
         "1",
         "Oh dear",
         "I was excited to find a book ostensibly about Muslim feminism, but this volume did not live up to the expectations.One essay, among other things, describes the veil as potentially liberating. It doesn't begin to explain how or why.Another, on Muslim women in Cape Town, claims that Muslim women there are separate but \"more than equal.\" Gee whiz, what a disappointment.I had expected and hoped for at least one Muslim feminist condemnation of gender apartheid. But there is not a single one in the book.I'm surprised it didn't have an essay extolling the virtues of female genital mutilation.--Alyssa A. Lappen"
        ],
        [
         "28",
         "2",
         "Based on the reviews here I bought one and I'm glad I did!",
         "This VCR/DVD was an early Christmas present to myself after deciding to join the rest of the world in DVD-land but not wanting to let go of my VHS movies quite yet. Based on the reviews and price, and because I own a JVC TV, this was my choice. I agree with the easy set-up. It's a bit awkward to work the whole TV/VHS/DVD selection options but I think I've gotten the hang of it.Two comments: it's not intuitive and actually is pretty complicated (too many buttons on the remote but that might please others who are more technically-minded than me) so I've had to rely heavily on the how-to manual. And setting the VCR timer is awkward -- you can't enter the start and end time but have to scroll (unless I'm missing something)...but those are my only complaints. This is a good product for your $$$."
        ],
        [
         "29",
         "1",
         "Incorrect disc!",
         "I am a big JVC fan, but I do not like this model, I was suspiscious when I saw several units in the return section of the store. I bought one anyway (new) and must say I am not happy. The unit sends out clicks to the receiver once in a while, the transition between scenes is not always smooth,(like a little pause) and while it is still fairly new I can't get any DVD,CD or even a DVD headcleaner to work. All I get is a \"incorrect disc\" message."
        ],
        [
         "30",
         "2",
         "happy with it...but",
         "I'm a JVC nut...I have 3 JVC televisions, one VCR, one bookshelf audio system and car audio system. So when it came time to move the VCR player to the boys room and get another one for the old man I knew what make it was going to be. I decided on the combo player because I don't think VHS is going to be around much longer. I like my combo player except for 2 things:(1)no cable box compatability on the remote control (2)no seperate audio video inputs only input for coax cable from my cable box so all of the cable programming is in mono...wife can't tell the difference in the sound so if she's happy then I'll just live with it. VCR and DVD look and sound GREAT!!!!!!!"
        ],
        [
         "31",
         "1",
         "should be titled \"Hollywood Debacle\"",
         "The plot is so ridiculous, I have to wonder if they even read the script before making this film. The mountain lion breaks out of his trailer - and the cars behind don't notice? The mountain lion is captured - and put in a jail cell? Get real! Utterly, completely stupid."
        ],
        [
         "32",
         "2",
         "Is this great TV??? You bet it is",
         "Hotel Babylon is not just good TV...it's great TV!!!! The show features some incredible acting from Tamzin Outhwaite (formerly of EastEnders, a BBC soap) and Max Beesley (from the ill-fated movie \"Glitter\" starring Mariah Carey). The show could make for a great drama series, but I felt that it is a mix of a drama, comedy, and soap opera all mixed into a great BBC show. The show aired on BBC America for a while but didn't get around to seeing it. I can now say that I got the DVD set and all the episodes are great. The season finale was an interesting to watch.The show reminds me of Hotel which aired on ABC from 1983 to 1988. The reason...Hotel was set at a fictional San Francisco hotel as Hotel Babylon was set at a luxury five-star hotel in England.I recommend this DVD to anyone who is willing to watch a great show from the BBC."
        ],
        [
         "33",
         "1",
         "Nothing you don't already know",
         "If you have even casually looked into applying to law school, have already read everything there is in this book, do not waste your money, seriously!!"
        ],
        [
         "34",
         "1",
         "Unfortunately it wasn't entertaining in the least bit.",
         "When I first ordered the CD, I figured it was going to be a hip, cool daddy vibe CD. However much to my dismay it sounds like a fourth grade music class. The main jist of the CD is that there is a xylaphone playing over peoples voices trying to replicate happening party. I believe if I played this CD at a party anywhere in my neighborhood I would get laughed off the beach. Growing up a surfer in San Diego, I would not recommend this CD to any of my Southern California brothers. Honestly, when I played it I kinda of felt I was in a bad B movie. The absolutle epitimy of the CD is the last \"vibe\" Surf Cha Cha. Surfers don't CHA."
        ],
        [
         "35",
         "2",
         "Rochelle explains It All for You",
         "Wondering what the hell has happened to the moral aspect of modern American culture ? This book is a lucid, well argued explanation of the simple fact that we have become so totally focused on our individual RIGHTS that we have completely ignored, and even mocked, our personal and public responsibilities. The final response and indictment of Robert Ringer's best seller, LOOKING OUT FOR #1. This is a great time for anyone who is disgusted with the boorish state of American media, politics and discourse in general, to clear their heads for the substantial challenges that lie before us not only as Americans, but as human beings. A great book"
        ],
        [
         "36",
         "2",
         "More great playing",
         "Larry's work for the Muse label in the late 80s and early 90s found him exploring the rich catalog of jazz standards that he probably grew up playing. Surrounding himself with the best musicians around, Larry sounds relaxed, focused, and totally in control. Listen to Larry's take on \"My Funny Valentine\" and tell me it doesn't stand right up there with Chet Baker's or Miles'. A very fine album that you'll enjoy again and again."
        ],
        [
         "37",
         "1",
         "Doesn't work on a Mac",
         "It clearly says on line this will work on a Mac OS system. The disk comes and it does not, only Windows . Do Not order this if you have a Mac!!!!!!!"
        ],
        [
         "38",
         "1",
         "Very Frustrating",
         "My three year old son was very excited to get this but after two attempts at playing it hasn't been touched since. You are not able to use the mouse through any of the games except for the \"power-up segments\" instead you are using the up-down arrows on the keyboard - too hard for him and not much fun. Very disapointed with this game and wish I could return it."
        ],
        [
         "39",
         "1",
         "Mind numbing",
         "This game makes you do the same things over and over, it never holds my son's attention long enough to get to the next level. There is no choice of games you have to do every thing in order. We have another Rescue Heroes game and both my boys 3 and 6 love it, but this one is a dog!"
        ],
        [
         "40",
         "1",
         "Cannot recommend",
         "As a former Alaskan, I didn't want to have to do this. But after repeatedly attempting Allman's recipes and having to throw out 8-10 cups of flour and miscellaneous ingredients nearly every time--and then comparing to Ed Wood's recipes which work flawlessly, and Lisa Rayner's very excellent Wild Bread: Hand-baked sourdough artisan breads in your own kitchen, I can't help but notice that their recipes work, where Allman's fail.I'm not a novice baker. The only thing that worked reliably was the pancakes recipe, but that can be found other places as well.If you are looking for reliable recipes and concise information about starting a sourdough and maintaining it, I recommend any of Ed Wood's books, even his very old ones. Lisa Rayner has written a fabulous tome in Wild Bread. But pass on this book.While some of the historical vignettes were interesting--not enough so to warrant the cost of the book. Check it out at your library if you must."
        ],
        [
         "41",
         "2",
         "Alaska sourdough",
         "REad most of the book while visiting my brother in Alaska. Loved it. I am going to be making my sourdough starter soon. Book is full of great stories and recipes."
        ],
        [
         "42",
         "2",
         "Old and good",
         "This book is worth to keep in your collection as it does not only advise what to do with sourdough but Ruth also told you what the picture of past 100 years ago in Alaska where no stand mixer nor any civilized stuffs in kitchen, just a pot of sourdough."
        ],
        [
         "43",
         "2",
         "autumn",
         "got this for my daughter in NC, she is now making prefect bread. Wish she lived closer to make me some"
        ],
        [
         "44",
         "2",
         "Fast mp3 download of music waxed decades ago",
         "One of these 26 songs played as background music on a YouTube video of some kind of gymnastic or dance feat out of Russia. I hunted down the melody, read the English lyrics, then decided to see what else was in the album. Downloaded the full album for $15 via Amazon mp3 downloader, and now happily listen to the melodies (interspersed) on my iPod."
        ],
        [
         "45",
         "1",
         "Maybe I got a bad one.",
         "My experience: I got this from FM, not Amazon. The DVD player rattled pretty loudly sometimes (but not always) when I put in a DVD. I tried several. The picture quality wasn't all that great and the screen got a horizontal line thru the middle after a short time that would not go away. Plus one of the other reviewers was dead on about the remote - the layout makes no sense at all! Very poor human engineering, IMO. I brought it back to the store for a refund. I saw the same model under the Emerson name for <$400 at WM but was hesitant to buy it."
        ],
        [
         "46",
         "2",
         "Sylvania 6620LDG 20\" Flat Panel LCD TV with Built in DVD player",
         "Light weight, space saving very attractive design. Sharp Picture, Good sound quality and quick response time. DVD playback also excellent. Only negative is its remote control. It is hard to read the functions of the keys due to color choices. The placement of the keys are almost illogical and you have to look at it carefully before each use. It almost seems like it was designed by an imbecil. The quality, the features and the price still makes this TV an excellent buy."
        ],
        [
         "47",
         "1",
         "TERRIBLE!! DO NOT BUY THIS",
         "I bought this for my wife for her birthday,and had toreturn it because the DVD palyer would not work. I returned it and got a repalcement, which once again the DVD player failed to work! It is a piece of junk."
        ],
        [
         "48",
         "1",
         "*** BEWARE ***",
         "This TV is set so that it is not capable of a \"recall\" function. If you want to flash back between channels, this TV is not going to give it to you. The remote control that comes with the TV has no recall function, so I bought a Sony universal, which is a much better remote, that had the recall button on it. However, I soon learned that the TV is set at the factory to not have the capability to flash-back. It may not be a big deal to some, but this user found it very annoying."
        ],
        [
         "49",
         "2",
         "Kitchen TV",
         "I bought this to replace a 13\" tube tv in my kitchen. What I gained was a larger screen plus relcaiming the counter space. The picture is good, and the internal DVD player is a bonus. All in all, a good purchase."
        ]
       ],
       "shape": {
        "columns": 3,
        "rows": 3599999
       }
      },
      "text/html": [
       "<div>\n",
       "<style scoped>\n",
       "    .dataframe tbody tr th:only-of-type {\n",
       "        vertical-align: middle;\n",
       "    }\n",
       "\n",
       "    .dataframe tbody tr th {\n",
       "        vertical-align: top;\n",
       "    }\n",
       "\n",
       "    .dataframe thead th {\n",
       "        text-align: right;\n",
       "    }\n",
       "</style>\n",
       "<table border=\"1\" class=\"dataframe\">\n",
       "  <thead>\n",
       "    <tr style=\"text-align: right;\">\n",
       "      <th></th>\n",
       "      <th>2</th>\n",
       "      <th>Stuning even for the non-gamer</th>\n",
       "      <th>This sound track was beautiful! It paints the senery in your mind so well I would recomend it even to people who hate vid. game music! I have played the game Chrono Cross but out of all of the games I have ever played it has the best music! It backs away from crude keyboarding and takes a fresher step with grate guitars and soulful orchestras. It would impress anyone who cares to listen! ^_^</th>\n",
       "    </tr>\n",
       "  </thead>\n",
       "  <tbody>\n",
       "    <tr>\n",
       "      <th>0</th>\n",
       "      <td>2</td>\n",
       "      <td>The best soundtrack ever to anything.</td>\n",
       "      <td>I'm reading a lot of reviews saying that this ...</td>\n",
       "    </tr>\n",
       "    <tr>\n",
       "      <th>1</th>\n",
       "      <td>2</td>\n",
       "      <td>Amazing!</td>\n",
       "      <td>This soundtrack is my favorite music of all ti...</td>\n",
       "    </tr>\n",
       "    <tr>\n",
       "      <th>2</th>\n",
       "      <td>2</td>\n",
       "      <td>Excellent Soundtrack</td>\n",
       "      <td>I truly like this soundtrack and I enjoy video...</td>\n",
       "    </tr>\n",
       "    <tr>\n",
       "      <th>3</th>\n",
       "      <td>2</td>\n",
       "      <td>Remember, Pull Your Jaw Off The Floor After He...</td>\n",
       "      <td>If you've played the game, you know how divine...</td>\n",
       "    </tr>\n",
       "    <tr>\n",
       "      <th>4</th>\n",
       "      <td>2</td>\n",
       "      <td>an absolute masterpiece</td>\n",
       "      <td>I am quite sure any of you actually taking the...</td>\n",
       "    </tr>\n",
       "    <tr>\n",
       "      <th>...</th>\n",
       "      <td>...</td>\n",
       "      <td>...</td>\n",
       "      <td>...</td>\n",
       "    </tr>\n",
       "    <tr>\n",
       "      <th>3599994</th>\n",
       "      <td>1</td>\n",
       "      <td>Don't do it!!</td>\n",
       "      <td>The high chair looks great when it first comes...</td>\n",
       "    </tr>\n",
       "    <tr>\n",
       "      <th>3599995</th>\n",
       "      <td>1</td>\n",
       "      <td>Looks nice, low functionality</td>\n",
       "      <td>I have used this highchair for 2 kids now and ...</td>\n",
       "    </tr>\n",
       "    <tr>\n",
       "      <th>3599996</th>\n",
       "      <td>1</td>\n",
       "      <td>compact, but hard to clean</td>\n",
       "      <td>We have a small house, and really wanted two o...</td>\n",
       "    </tr>\n",
       "    <tr>\n",
       "      <th>3599997</th>\n",
       "      <td>1</td>\n",
       "      <td>what is it saying?</td>\n",
       "      <td>not sure what this book is supposed to be. It ...</td>\n",
       "    </tr>\n",
       "    <tr>\n",
       "      <th>3599998</th>\n",
       "      <td>2</td>\n",
       "      <td>Makes My Blood Run Red-White-And-Blue</td>\n",
       "      <td>I agree that every American should read this b...</td>\n",
       "    </tr>\n",
       "  </tbody>\n",
       "</table>\n",
       "<p>3599999 rows × 3 columns</p>\n",
       "</div>"
      ],
      "text/plain": [
       "         2                     Stuning even for the non-gamer  \\\n",
       "0        2              The best soundtrack ever to anything.   \n",
       "1        2                                           Amazing!   \n",
       "2        2                               Excellent Soundtrack   \n",
       "3        2  Remember, Pull Your Jaw Off The Floor After He...   \n",
       "4        2                            an absolute masterpiece   \n",
       "...     ..                                                ...   \n",
       "3599994  1                                      Don't do it!!   \n",
       "3599995  1                      Looks nice, low functionality   \n",
       "3599996  1                         compact, but hard to clean   \n",
       "3599997  1                                 what is it saying?   \n",
       "3599998  2              Makes My Blood Run Red-White-And-Blue   \n",
       "\n",
       "        This sound track was beautiful! It paints the senery in your mind so well I would recomend it even to people who hate vid. game music! I have played the game Chrono Cross but out of all of the games I have ever played it has the best music! It backs away from crude keyboarding and takes a fresher step with grate guitars and soulful orchestras. It would impress anyone who cares to listen! ^_^  \n",
       "0        I'm reading a lot of reviews saying that this ...                                                                                                                                                                                                                                                                                                                                                          \n",
       "1        This soundtrack is my favorite music of all ti...                                                                                                                                                                                                                                                                                                                                                          \n",
       "2        I truly like this soundtrack and I enjoy video...                                                                                                                                                                                                                                                                                                                                                          \n",
       "3        If you've played the game, you know how divine...                                                                                                                                                                                                                                                                                                                                                          \n",
       "4        I am quite sure any of you actually taking the...                                                                                                                                                                                                                                                                                                                                                          \n",
       "...                                                    ...                                                                                                                                                                                                                                                                                                                                                          \n",
       "3599994  The high chair looks great when it first comes...                                                                                                                                                                                                                                                                                                                                                          \n",
       "3599995  I have used this highchair for 2 kids now and ...                                                                                                                                                                                                                                                                                                                                                          \n",
       "3599996  We have a small house, and really wanted two o...                                                                                                                                                                                                                                                                                                                                                          \n",
       "3599997  not sure what this book is supposed to be. It ...                                                                                                                                                                                                                                                                                                                                                          \n",
       "3599998  I agree that every American should read this b...                                                                                                                                                                                                                                                                                                                                                          \n",
       "\n",
       "[3599999 rows x 3 columns]"
      ]
     },
     "execution_count": 3,
     "metadata": {},
     "output_type": "execute_result"
    }
   ],
   "source": [
    "raw_df"
   ]
  },
  {
   "cell_type": "code",
   "execution_count": 4,
   "metadata": {},
   "outputs": [],
   "source": [
    "# Here we are not using the second column.\n",
    "raw_df = raw_df.drop(columns='Stuning even for the non-gamer')"
   ]
  },
  {
   "cell_type": "markdown",
   "metadata": {},
   "source": [
    "- Here in our dataset, 1 = NEGATIVE and 2 = POSITIVE"
   ]
  },
  {
   "cell_type": "code",
   "execution_count": 5,
   "metadata": {},
   "outputs": [
    {
     "name": "stdout",
     "output_type": "stream",
     "text": [
      "<class 'pandas.core.frame.DataFrame'>\n",
      "RangeIndex: 3599999 entries, 0 to 3599998\n",
      "Data columns (total 2 columns):\n",
      " #   Column                                                                                                                                                                                                                                                                                                                                                                                                      Dtype \n",
      "---  ------                                                                                                                                                                                                                                                                                                                                                                                                      ----- \n",
      " 0   2                                                                                                                                                                                                                                                                                                                                                                                                           int64 \n",
      " 1   This sound track was beautiful! It paints the senery in your mind so well I would recomend it even to people who hate vid. game music! I have played the game Chrono Cross but out of all of the games I have ever played it has the best music! It backs away from crude keyboarding and takes a fresher step with grate guitars and soulful orchestras. It would impress anyone who cares to listen! ^_^  object\n",
      "dtypes: int64(1), object(1)\n",
      "memory usage: 54.9+ MB\n"
     ]
    }
   ],
   "source": [
    "# Let's check some of the information for the dataset.\n",
    "raw_df.info()"
   ]
  },
  {
   "cell_type": "code",
   "execution_count": 6,
   "metadata": {},
   "outputs": [],
   "source": [
    "#Let's first change the columns name for the ease of access.\n",
    "raw_df['Target'] = raw_df['2']\n",
    "raw_df['Reviews'] = raw_df['This sound track was beautiful! It paints the senery in your mind so well I would recomend it even to people who hate vid. game music! I have played the game Chrono Cross but out of all of the games I have ever played it has the best music! It backs away from crude keyboarding and takes a fresher step with grate guitars and soulful orchestras. It would impress anyone who cares to listen! ^_^']"
   ]
  },
  {
   "cell_type": "code",
   "execution_count": 7,
   "metadata": {},
   "outputs": [],
   "source": [
    "# Dropping the unwanted columns..\n",
    "raw_df = raw_df.drop(columns=['2'])\n",
    "raw_df = raw_df.drop(columns=['This sound track was beautiful! It paints the senery in your mind so well I would recomend it even to people who hate vid. game music! I have played the game Chrono Cross but out of all of the games I have ever played it has the best music! It backs away from crude keyboarding and takes a fresher step with grate guitars and soulful orchestras. It would impress anyone who cares to listen! ^_^'])"
   ]
  },
  {
   "cell_type": "code",
   "execution_count": 8,
   "metadata": {},
   "outputs": [
    {
     "data": {
      "text/plain": [
       "<Axes: xlabel='Target'>"
      ]
     },
     "execution_count": 8,
     "metadata": {},
     "output_type": "execute_result"
    },
    {
     "data": {
      "image/png": "[encoded data removed]",
      "text/plain": [
       "<Figure size 640x480 with 1 Axes>"
      ]
     },
     "metadata": {},
     "output_type": "display_data"
    }
   ],
   "source": [
    "# Let's check the probablity distribution of the Negatives and Positives reviews.\n",
    "raw_df['Target'].value_counts(normalize=True).plot(kind='bar')"
   ]
  },
  {
   "cell_type": "markdown",
   "metadata": {},
   "source": [
    "## Now 3600000 is too much data, so we work with the sample of raw_df that is only 50% of the data.."
   ]
  },
  {
   "cell_type": "code",
   "execution_count": 9,
   "metadata": {},
   "outputs": [],
   "source": [
    "# Taking sample of the data..\n",
    "sample_df = raw_df.sample(frac = 0.5, random_state=29)"
   ]
  },
  {
   "cell_type": "code",
   "execution_count": 10,
   "metadata": {},
   "outputs": [
    {
     "data": {
      "application/vnd.microsoft.datawrangler.viewer.v0+json": {
       "columns": [
        {
         "name": "index",
         "rawType": "int64",
         "type": "integer"
        },
        {
         "name": "Target",
         "rawType": "int64",
         "type": "integer"
        },
        {
         "name": "Reviews",
         "rawType": "object",
         "type": "string"
        }
       ],
       "conversionMethod": "pd.DataFrame",
       "ref": "000dbf8c-cfe6-4bc7-885c-6f9802c13efb",
       "rows": [
        [
         "3374353",
         "1",
         "Although this bag is pretty to look at, the fabric is not practical for a diaper bag, as it seems that it would snag easily. Also, the top zipper is too small--does not go to the very edges of the bag--making it hard to put items in and take them out. Also, it's too tall, therefore, taking out items from the bottom is much too difficult, and it doesn't have large enough pockets for organization of lotions, mom's wallet, etc.The other disappointment was that the company does not pay for return shipping, or include a return label if you are not satisfied, so not only did it cost $6.50 to receive it, it cost $6.50 to return."
        ],
        [
         "707757",
         "2",
         "The two disc DVD was great. I really enjoyed the movie and all the extra special features that came with the 2 disc DVD. I would recommend this 2 disc dvd to anybody."
        ],
        [
         "1932880",
         "1",
         "I ordered two of these. The size is perfect for taking on outings and I thought I'd love them. However, the serging inside the bag unravelled on both of them after the first wash (in the washer, not dryer)! It was very disappointing! Happily, I was able to return them for a full refund."
        ],
        [
         "1928314",
         "2",
         "Repairman Jack is awesome. The stories started off very good, and just get better. What will Repairman Jack do next."
        ],
        [
         "1001855",
         "1",
         "I was test driving them as a possible fruit of the month choice for 2007. Their club is over 100.00 more than Harry and David, but I thought perhaps they were just that much better. I was wrong. I could have bought this flavorless fruit from any local grocery store. Don't be lured by the talk of boxes with water-colored artwork. I've seen better on the free calendar that my Pharmacist gives me."
        ],
        [
         "1610087",
         "2",
         "Mr. Arditti has written the most honest, unapologetic book about a gay man's search for God that I have ever read. This is not a book about religioun, mercifully, or a book with the ancillary purpose of converting readers. Once he begins honestly addressing his gayness, the narrator's search for the stern, narrow God in his mind becomes a discovery of something bigger and truer than he imagined. He might name what he finds \"a state of grace\"; other phrases that would apply would be \"self-actualization,\" \"Nirvana,\" or \"the meaning of life.\" I hope this review doesn't turn off anti-religion readers -- this book itself is rather anti-religion while focusing on universal truths."
        ],
        [
         "1712934",
         "2",
         "This album features Jack Dejohnette on drums and Charlie Haden on bass along with Rubalcaba. The music doesn't groove as hard as \"Inner Voyage,\" but the music has lyrical quality. Check out versions of Ornette Coleman's \"The Blessing\" and Coltrane's \"Giant Steps.\""
        ],
        [
         "1648287",
         "2",
         "I Love to hear the sweet melodies od Deandre's voice praising our Lord and Savior Jesus Christ. This CD is very uplifting and motivating and encouraging. THANK YOU Deandre for putting this out here for us to enjoy!!!Nefertiti"
        ],
        [
         "2773498",
         "1",
         "I just received the items, which look the same as the product advertised but the directions say it only works for one month, not the four advertised. Perhaps it will work for four months, if it does I will change the review. Thanks."
        ],
        [
         "494611",
         "1",
         "I gave one star because that is the minimum. I am so sick of his \"heroics\" that he uses in each speech...he is not representative of the Vietnam warrior, he is a professional veteran that has figured out a way to get to the top of the dung heap. I read perhaps 2 chapters before tossing it where it belongs."
        ],
        [
         "1491348",
         "2",
         "The book is a great resource for someone who is just being introduced to medical anthropology. It is short and sweet. It describes all the basic aspects of medical anthropology by using real research in South America and the US as an example. It also introduces all the major debates out there in the field and in regard to different persceptives."
        ],
        [
         "1138430",
         "1",
         "This book has very little to do with 70-100. It amazes me that this book is an Microsoft approved study guide. Now we know relevant Microsoft approval is! NOT!"
        ],
        [
         "1815437",
         "2",
         "Fast shippment, no problems, book was exactly as described. Recommend to other buyers and I would definitely do business with them again. Thanks."
        ],
        [
         "1413476",
         "2",
         "Yada Yada Prayer Group is worth reading and taking to heart. Characters are realistic and I hated for the story to end. Sequels will answer the questions left in my mind upon completion of reading."
        ],
        [
         "1612905",
         "1",
         "Bought mine in June, 2000, but didn't use it on a job until just recently. It was very out of calibration. I followed the simple calibration instructions and could not get it calibrated. I looked inside the calibration hole with an ophthalmoscope to see where the end of the Allen wrench connected and there is no socket visible. When I tilt the unit, I hear a loose screw rolling around. This unit is defective. I like the simplicity of the setup and the beam is very bright, but this one is worthless. I now have to go through the bother of paying to return it and waitng for it to be replaced or repaired. You do get what you pay for."
        ],
        [
         "2225270",
         "2",
         "This was the first Al CD that I bought. I really enjoy it. Since I live in New Mexico, I listen to it every time I make a trip to Albuquerque. In response to some of the negative reviews of \"Truck Driving Song\", I happen to like it. In fact, the only songs I don't care for are \"Germs\" and \"It's all about the Pentiums\". Anyway, the first time I heard it, I couldn't stop laughing. I started my collectiion with this CD, and you should too. (Or, if you already have a collection, add this one to it.)"
        ],
        [
         "858522",
         "1",
         "Bought this for my WRX. It did not work. Once installed the temp gauge read normal operating temp before starting the car. Out on the road and up to temp it read past the red zone. I reset the ECU and got the same results.Great seller, amazon, with fast free shipping and hassle free returns! Amazon 5 stars! The part, 0 stars."
        ],
        [
         "2738430",
         "2",
         "This dvd has ALL of the video starting from Black Moon - Enta Da Stage all the way up until and including the Triple Threat albums [Sean Price, Smif-N-Wessun, 9th Wonder & Buckshot]. This is an impressive feat by any means. Great dvd to watch during a sesh or even at a party [being over 2 hours long] My only minor gripe is the quality of the earlier videos. Seems they were not upconverted correctly and some of the videos do not look as good as they should. But no matter what, this is a MUST BUY for any real BCC fan. Dope collection. WWBCC 4 LIFE."
        ],
        [
         "2834815",
         "2",
         "I thought this book provided a lot of good problems to study for the SE I. It shouldn't be the only study book you buy, but it is helpful."
        ],
        [
         "1966482",
         "2",
         "I bought these speakers to replace a set of Bose 301 series V that I had been using for stereo music listening through my \"antiquated\", yet dependable and powerful Onkyo DS696 receiver. These things are good. The soundstage is just as wide, if not wider, than I got with my Bose speakers and not only did I spend half the money, I got ten times the sound quality! The bass is good (I'm assuming you have a subwoofer) and the mids and highs are crystal clear, allowing me to hear subtleties in my music that I'd never noticed with any of my previous speakers. The BIC DV62si sound as good or better than some of my friends' high-end speakers, and when they try to show off, I can laugh at them while pointing toward the laptop I bought with the money I saved!"
        ],
        [
         "2881245",
         "1",
         "Are those people who give this little film more than a 2 merely being PC because of those involved in making the film? I wonder. In any event, I cared little for this film because I cared little (or nothing at all) for anyone or anything in the film, except maybe the tree. As noted elsewhere, there were many starts that went nowhere as did the film itself. Perhaps this made it such a dysfunctional experience, portrayed at its best? It's a dysfunctional film about dysfunctional people living in dysfunctional situation in their own private dysfunctional world. I'm glad I rented it. I wouldn't buy it even though it's chock full of excellent actors. I also wonder how successful this film would have been with equally talented but unknowns filling the roles."
        ],
        [
         "3058768",
         "1",
         "This did not work for our cat he just was able to step on it between the electrode lines or just jump over it.nso we never used this dummy mat."
        ],
        [
         "556367",
         "1",
         "Super-Hero , all the Characters . These authors just keep repeating the same old James Bond impossible feats , people buy this crap so publishers keep printing them , this book goes to the landfill ."
        ],
        [
         "793565",
         "1",
         "his worst book.. too,too many characters. after 150 pages, i still did not know who was who, i wont finish it!!! his only bad book."
        ],
        [
         "2562400",
         "1",
         "This product was purchased because it was advertised to work effectively being carried in the pocket of your pants.This does not happen, it is much more effect being attached to the belt, but it does not document the correct mileage.Very disappointing and would not purchase again."
        ],
        [
         "3097261",
         "2",
         "I needed a new pack of bags for my Electrolux Discovery II vacuum. Previously I've paid the big bucks for the genuine bags which are twice the price of these, but they are becoming harder and harder to find since Eureka bought Electrolux. I saw these bags and all the positive reviews here and thought I'd give them a try. Suction seems the same as with the genuine bags and they fit in the vacuum exactly the same way. Time will tell if they fill up as much as genuine bags; I've purchased off-brand bags before that just didn't get as full and I'd end up changing them sooner. So far I can't tell any difference between these and the genuine bags, they even look the same besides the color. The price was hard to beat. I'm not sure if the genuine bags have the microfiltration in them but these do, which should help with allergies. Next time I need bags I will be back here for more."
        ],
        [
         "2243677",
         "1",
         "Let's see, we've got 16 reviews of an album that has nothing to do with the album being reviewed. And one review from someone who wants to push his religions on everyone else, which is frankly offensive. So I can only give this non album one star.And by the way folks, ON THE ROAD TO FREEDOM has been released on CD already."
        ],
        [
         "3534015",
         "2",
         "Nick Lupo is a no holds barred cop; a renegade at times; definitely one to be reckoned with---he's also a werewolf! Gagliani's debut novel is right on target in this unique genre-crossing thriller.Martin Stewart is a demented serial killer who is seeking revenge on Nick because as a werewolf he unknowingly killed his sister. Martin is also a victim and perpetrator of child abuse and loves his lipstick.Add an elderly Indian shaman, three brilliantly scarlet rednecks, a lovely and gutsy doctor, and all kinds of mayhem and you get WOLF'S TRAP.Gagliani uses music from those ephemeral 70s and 80s as his backdrop, even Alan Parsons Project! Being a child of those days, this touch was so nice.A really good horror book; one of the best in recent years!"
        ],
        [
         "3072319",
         "2",
         "I purchased this kit as a replacement for an older Revlon Hot Air styler. I was intrigued by the ion and ceramic features which my older model did not have. As with my older model, the attachments sometimes do not stay attached. I wish Revlon would come up with a better design for the attachments. Besides that, the styler works well. I have shoulder length curly/wavy hair and sometimes I want it straighter with some body. The Revlon RV446 does the trick. I can achieve great result in less than 10 minutes. I keep it on low, as the sound is very loud when on high. I don't find that the barrel is too big (and I have small hands)."
        ],
        [
         "3296510",
         "1",
         "I've read several of Lori Wick's books and was excited to tear into this one. I started reading, and kept plugging along, thinking it would get better -- it didn't. I love the idea of what she was trying to do, but the dialogue was goofy, girls' success was very unrealistic, and their eventual conversion rang hollow... After all their anger at God which was so strongly built up after the dramatic situations with their parents, the conversion sequence was sadly lacking in details. (It seemed the author wanted to tell the backstory and was eager to get on to the \"Christian\" part, so after one minor issue and a chat with a nice person, miraculously Mac is suddenly involved in a Bible study?) Too much time spent on frivolous details such as lists of Christmas gifts, and the detailed descriptions about clothing only made it feel outdated."
        ],
        [
         "3032921",
         "2",
         "I first heard Strong Arms of Angels when it came out, and was struck by the song, Holding Me, which is really the title song (Strong Arms of Angels Holding Me). There are several songs on this album which make it worthwhile to own the whole thing. I particularly love \"Let Me Be A Blessing\" and several others. I think she's a real talent."
        ],
        [
         "1777833",
         "2",
         "Read the title; these toothpicks are very strongly flavored, but they will definitely freshen your breath.The only downside is that, despite the fact that they are called, \"chewing sticks,\" they are essentially just toothpicks. They are a little bit tougher than toothpicks and will take a slightly longer time to splinter, but they will still splinter up in your mouth if you overuse them."
        ],
        [
         "461022",
         "2",
         "Another great collection by Lichtheim. It carries forward with everything that made her first anthology effective : a great introduction, footnotes and clear translations. I have nothing but good things to say about this book, and I look forward to the third volume."
        ],
        [
         "1760269",
         "1",
         "This is my second electric mower. I have two pros: the cutting height adjusts quickly and easily and the blade stops immediately when the handle is released. My previous electric mower (Taskforce) would slowly wind-down when the handle was released. I have one significant con: this mower doesn't cut worth a damn. I have never removed the blade and I use my Dremel to keep the blade sharp. The height is set at the mid-poiint of the adjustment range. However, it leaves about half of the Kentucky Bluegrass uncut, i.e., bent over, during forward motion even at a slow pace. I have to pull the mower back over the same strip to cut the remaining grass. Actually, I think it cuts better in reverse motion. I cannot recommend this mower. I wish I got the same mover those folks who gave this a 5 star rating got."
        ],
        [
         "2033179",
         "1",
         "I just canceled my subscription after 4 weeks because:1. I would not get the edition downloaded on my Kindle until after my commute.2. The articles contain some pictures but never graphs or charts. For example, the printed version had a listing of the ranking of Government agencies with respect to climate survery. The Kindle version did not.3. While they have added letters to the editor, it is still missing comics, crosswords, soduku, sports box scores, standings and a lot of other information that makes a newspaper a newspaper. It has obituaries but not box scores! Come on.I'll go back to picking up the Express on my way to the Metro platform."
        ],
        [
         "3014292",
         "2",
         "My five month old loves it. It's a little hard to put a squirmy baby in it by yourself but besides that its a great bouncer. Watch out for little fingers getting smashed by the elephant when it turns, it has some force behind it!"
        ],
        [
         "723172",
         "2",
         "Audie Murphy , my what a great american ,such courageand above all,unconcern for self,love of his family and fellow man and his homeland.A truly dedicted person to what ever tasked was give to him.Handsome , youthful , tough , made not be reconized as a great actor , but he puts everything into it, he's got and his natural personality flows making him stand with some of the greats. . Every boy / man should see this movie before he takes a coommittment for his country. The movie is worth putting in your library , its not the modern fake action commando type , but it has a real atmosphere of the guts it takes to be an hero and live to tell.Giving more respect to our young soldiers of to day who give there lives for freedom. Good movie.Luddy"
        ],
        [
         "2831155",
         "1",
         "I enjoyed the first book. I wouldn't call it great literature, but it was mostly a fun, light read. The second book, however, was dull. The lengthy and repetitive moralizing about gay rights seemed out of place in this book, and the subplot about Dannyl discovering his true feelings for his handsome assistant took far too much time. But, sadly enough, when the plot switched back to Sonea, the novel did not improve. Her continued hiding from the rest of the students, led by the school bully, coupled with her fear to fight back and unwillingness to call the Administrator or other friendly adults for help during the many vicious attacks, made her character far less appealing than in book one.I picked up the first two books half price at a local bookstore that was closing. I doubt I'll buy the third, though I might borrow it from the library if possible just to see how the tale ends."
        ],
        [
         "1812846",
         "2",
         "Excellent songs but, tape hiss and record pops and distortion. Tape hiss is loud enough to overshadow the backgroung music. Highs in the vocals are distorted due to groove wear of the \"Orginal\" source. Definatley not from master tapes or from virgin discs."
        ],
        [
         "1979407",
         "1",
         "I went to watch The Others even though most of the people who watched it warned me not to. The movie wasn't horribly bad but there was nothing there to make it good either. The setup and the background of this movie was so awfully forced and contrived and even the actors' (including Kidman) reactions were unconvincing. I felt like I was watching a cheesy horror flick (like Scream). The movie had a very bad turn when the husband arrived. His arrival was utterly pointless and went on for a boring 30 mins. Finally the movie got back on track. The ending was not a big enough payoff for the hour and half of creaking floors, slamming doors and horrified gasps. To place \"Sixth Sense\" in the same category as \"The Others\" is an insult to SS. For better thrillers check out the \"The Shining\" and \"Carrie\" in which horror and terror lies within everyday life."
        ],
        [
         "1290217",
         "2",
         "Interesting and informative, especially being married for a short period of time just to make sexual relations look good in the eyes of the community and Allah."
        ],
        [
         "2970716",
         "2",
         "Good book, I enjoyed it. It was our book of the month for our book club. Looking forward to the discussions."
        ],
        [
         "2488574",
         "1",
         "It's a cable. Basic basic basic cable. How can I get so worked up about it? Take my word for it, you don't want to do business with these guys."
        ],
        [
         "978835",
         "2",
         "This will definitely change your life if you need to travel or make a quick go out. Graco strollers are normally big & heavy but with the snugrider is just perfect to go around, you don't have to carry the baby seat in your arm, it fits everywhere,is easy to fold, easy to store.My baby's snugride has already been in 3 different countries in Europe & South America, travel by airplane, taxi, different car types,etc. Non a problem. Great Buy!!!"
        ],
        [
         "1667474",
         "2",
         "Good info for general automotive interior work. Goes into good detail on older cars, pre-50's and show all tools need to do the work."
        ],
        [
         "1255140",
         "1",
         "Bad album, bad cover. This signified the end for Jason Newsted. I don't blame him one bit. The heaviest band on the planet with a cover of cow semen in blood? I know, it's not about that, it's about the music. So let's get into it. THIS IS TERRIBLE! Yes I understand growth but c'mon. The real problem isn't the haircuts or any of that crap. IT'S BOB ROCK! He needs to go. He ruined a great band. Anyone who loves this cd probably jumped on the wagon after the Black album. Well posers, stay on the wagon. You'll find me listening to Kill-Ride-Puppets-Justice-Music that still holds up today."
        ],
        [
         "2794267",
         "1",
         "I purchased this for my son for Christmas. Once it came out of the box we were completely dissappointed. The child loves it but I give it a few days until it is a heap of plastic uselessness. It is made of the cheapest plastic imaginable. I cannot believe how expensive this is we paid $51.99 through amazon last month. It is shocking how cheaply it is made and being what we thought was a great named manufacturer (Bruder) we definitely expected better quality. Hopefully we can find another better made excavator. if you are considering this please keep looking. It is a waste of money."
        ],
        [
         "2111872",
         "2",
         "I have always been a fan of In Living Color. I love the dvd set and will hopefully be buying the rest of the seasons."
        ],
        [
         "337449",
         "2",
         "Kerisey and Bates make an understanding and application of type psychology available to anyone who is motivated to learn it. I have other references on Myers-Briggs/Jungian type psychology, such at the GUIDE TO THE DEVELOPMET AND USE OF THE MYERS-BRIGGS TYPE INDICATOR from the Consulting Psychologists Press. The Guide is full of stiff explanations and tests of statistical validity -- important for researchers but less helpful in understanding other people.PLEASE UNDERSTAND ME is rich in usable information: excerpts from literature that demonstrate a type, practical examples that can be seen daily. This book serves not only as an introduction to this fascinating and important topic but also as a long-term reference for those who wish to obtain deeper levels of understanding about type psychology and people."
        ],
        [
         "3008605",
         "2",
         "I fell for Jeff Buckley's music with the release of Grace. He sang with such a beautiful passion. He had a true gift for creating emotion evoking lyrics. I never got to see him perform, and I feel lucky that this live performance exists."
        ]
       ],
       "shape": {
        "columns": 2,
        "rows": 1800000
       }
      },
      "text/html": [
       "<div>\n",
       "<style scoped>\n",
       "    .dataframe tbody tr th:only-of-type {\n",
       "        vertical-align: middle;\n",
       "    }\n",
       "\n",
       "    .dataframe tbody tr th {\n",
       "        vertical-align: top;\n",
       "    }\n",
       "\n",
       "    .dataframe thead th {\n",
       "        text-align: right;\n",
       "    }\n",
       "</style>\n",
       "<table border=\"1\" class=\"dataframe\">\n",
       "  <thead>\n",
       "    <tr style=\"text-align: right;\">\n",
       "      <th></th>\n",
       "      <th>Target</th>\n",
       "      <th>Reviews</th>\n",
       "    </tr>\n",
       "  </thead>\n",
       "  <tbody>\n",
       "    <tr>\n",
       "      <th>3374353</th>\n",
       "      <td>1</td>\n",
       "      <td>Although this bag is pretty to look at, the fa...</td>\n",
       "    </tr>\n",
       "    <tr>\n",
       "      <th>707757</th>\n",
       "      <td>2</td>\n",
       "      <td>The two disc DVD was great. I really enjoyed t...</td>\n",
       "    </tr>\n",
       "    <tr>\n",
       "      <th>1932880</th>\n",
       "      <td>1</td>\n",
       "      <td>I ordered two of these. The size is perfect fo...</td>\n",
       "    </tr>\n",
       "    <tr>\n",
       "      <th>1928314</th>\n",
       "      <td>2</td>\n",
       "      <td>Repairman Jack is awesome. The stories started...</td>\n",
       "    </tr>\n",
       "    <tr>\n",
       "      <th>1001855</th>\n",
       "      <td>1</td>\n",
       "      <td>I was test driving them as a possible fruit of...</td>\n",
       "    </tr>\n",
       "    <tr>\n",
       "      <th>...</th>\n",
       "      <td>...</td>\n",
       "      <td>...</td>\n",
       "    </tr>\n",
       "    <tr>\n",
       "      <th>156086</th>\n",
       "      <td>2</td>\n",
       "      <td>Vita Bath Moisturizing Bath Gelee smells like ...</td>\n",
       "    </tr>\n",
       "    <tr>\n",
       "      <th>1556740</th>\n",
       "      <td>1</td>\n",
       "      <td>I was actually looking forward to seeing this ...</td>\n",
       "    </tr>\n",
       "    <tr>\n",
       "      <th>852182</th>\n",
       "      <td>1</td>\n",
       "      <td>Its very catchy. I bought this one for my husb...</td>\n",
       "    </tr>\n",
       "    <tr>\n",
       "      <th>694080</th>\n",
       "      <td>1</td>\n",
       "      <td>The introduction is the best part of this book...</td>\n",
       "    </tr>\n",
       "    <tr>\n",
       "      <th>3277097</th>\n",
       "      <td>2</td>\n",
       "      <td>Got these for x-mas and these are one of the m...</td>\n",
       "    </tr>\n",
       "  </tbody>\n",
       "</table>\n",
       "<p>1800000 rows × 2 columns</p>\n",
       "</div>"
      ],
      "text/plain": [
       "         Target                                            Reviews\n",
       "3374353       1  Although this bag is pretty to look at, the fa...\n",
       "707757        2  The two disc DVD was great. I really enjoyed t...\n",
       "1932880       1  I ordered two of these. The size is perfect fo...\n",
       "1928314       2  Repairman Jack is awesome. The stories started...\n",
       "1001855       1  I was test driving them as a possible fruit of...\n",
       "...         ...                                                ...\n",
       "156086        2  Vita Bath Moisturizing Bath Gelee smells like ...\n",
       "1556740       1  I was actually looking forward to seeing this ...\n",
       "852182        1  Its very catchy. I bought this one for my husb...\n",
       "694080        1  The introduction is the best part of this book...\n",
       "3277097       2  Got these for x-mas and these are one of the m...\n",
       "\n",
       "[1800000 rows x 2 columns]"
      ]
     },
     "execution_count": 10,
     "metadata": {},
     "output_type": "execute_result"
    }
   ],
   "source": [
    "sample_df"
   ]
  },
  {
   "cell_type": "code",
   "execution_count": 11,
   "metadata": {},
   "outputs": [
    {
     "data": {
      "text/plain": [
       "<Axes: xlabel='Target'>"
      ]
     },
     "execution_count": 11,
     "metadata": {},
     "output_type": "execute_result"
    },
    {
     "data": {
      "image/png": "[encoded data removed]",
      "text/plain": [
       "<Figure size 640x480 with 1 Axes>"
      ]
     },
     "metadata": {},
     "output_type": "display_data"
    }
   ],
   "source": [
    "# Let's check the probablity distribution of the Negatives and Positives reviews on our sampele_df.\n",
    "sample_df['Target'].value_counts(normalize=True).plot(kind='bar')"
   ]
  },
  {
   "cell_type": "markdown",
   "metadata": {},
   "source": [
    "## 2. Preparing the data for training.\n",
    "- (i) Vocabulary building using 'torch.Text'"
   ]
  },
  {
   "cell_type": "code",
   "execution_count": 12,
   "metadata": {},
   "outputs": [
    {
     "name": "stderr",
     "output_type": "stream",
     "text": [
      "\n",
      "A module that was compiled using NumPy 1.x cannot be run in\n",
      "NumPy 2.2.3 as it may crash. To support both 1.x and 2.x\n",
      "versions of NumPy, modules must be compiled with NumPy 2.0.\n",
      "Some module may need to rebuild instead e.g. with 'pybind11>=2.12'.\n",
      "\n",
      "If you are a user of the module, the easiest solution will be to\n",
      "downgrade to 'numpy<2' or try to upgrade the affected module.\n",
      "We expect that some modules will need time to support NumPy 2.\n",
      "\n",
      "Traceback (most recent call last):  File \"<frozen runpy>\", line 198, in _run_module_as_main\n",
      "  File \"<frozen runpy>\", line 88, in _run_code\n",
      "  File \"C:\\Users\\ASUS\\AppData\\Roaming\\Python\\Python311\\site-packages\\ipykernel_launcher.py\", line 18, in <module>\n",
      "    app.launch_new_instance()\n",
      "  File \"C:\\Users\\ASUS\\AppData\\Roaming\\Python\\Python311\\site-packages\\traitlets\\config\\application.py\", line 1075, in launch_instance\n",
      "    app.start()\n",
      "  File \"C:\\Users\\ASUS\\AppData\\Roaming\\Python\\Python311\\site-packages\\ipykernel\\kernelapp.py\", line 739, in start\n",
      "    self.io_loop.start()\n",
      "  File \"C:\\Users\\ASUS\\AppData\\Roaming\\Python\\Python311\\site-packages\\tornado\\platform\\asyncio.py\", line 205, in start\n",
      "    self.asyncio_loop.run_forever()\n",
      "  File \"d:\\Python\\Lib\\asyncio\\base_events.py\", line 604, in run_forever\n",
      "    self._run_once()\n",
      "  File \"d:\\Python\\Lib\\asyncio\\base_events.py\", line 1909, in _run_once\n",
      "    handle._run()\n",
      "  File \"d:\\Python\\Lib\\asyncio\\events.py\", line 80, in _run\n",
      "    self._context.run(self._callback, *self._args)\n",
      "  File \"C:\\Users\\ASUS\\AppData\\Roaming\\Python\\Python311\\site-packages\\ipykernel\\kernelbase.py\", line 545, in dispatch_queue\n",
      "    await self.process_one()\n",
      "  File \"C:\\Users\\ASUS\\AppData\\Roaming\\Python\\Python311\\site-packages\\ipykernel\\kernelbase.py\", line 534, in process_one\n",
      "    await dispatch(*args)\n",
      "  File \"C:\\Users\\ASUS\\AppData\\Roaming\\Python\\Python311\\site-packages\\ipykernel\\kernelbase.py\", line 437, in dispatch_shell\n",
      "    await result\n",
      "  File \"C:\\Users\\ASUS\\AppData\\Roaming\\Python\\Python311\\site-packages\\ipykernel\\ipkernel.py\", line 362, in execute_request\n",
      "    await super().execute_request(stream, ident, parent)\n",
      "  File \"C:\\Users\\ASUS\\AppData\\Roaming\\Python\\Python311\\site-packages\\ipykernel\\kernelbase.py\", line 778, in execute_request\n",
      "    reply_content = await reply_content\n",
      "  File \"C:\\Users\\ASUS\\AppData\\Roaming\\Python\\Python311\\site-packages\\ipykernel\\ipkernel.py\", line 449, in do_execute\n",
      "    res = shell.run_cell(\n",
      "  File \"C:\\Users\\ASUS\\AppData\\Roaming\\Python\\Python311\\site-packages\\ipykernel\\zmqshell.py\", line 549, in run_cell\n",
      "    return super().run_cell(*args, **kwargs)\n",
      "  File \"C:\\Users\\ASUS\\AppData\\Roaming\\Python\\Python311\\site-packages\\IPython\\core\\interactiveshell.py\", line 3077, in run_cell\n",
      "    result = self._run_cell(\n",
      "  File \"C:\\Users\\ASUS\\AppData\\Roaming\\Python\\Python311\\site-packages\\IPython\\core\\interactiveshell.py\", line 3132, in _run_cell\n",
      "    result = runner(coro)\n",
      "  File \"C:\\Users\\ASUS\\AppData\\Roaming\\Python\\Python311\\site-packages\\IPython\\core\\async_helpers.py\", line 128, in _pseudo_sync_runner\n",
      "    coro.send(None)\n",
      "  File \"C:\\Users\\ASUS\\AppData\\Roaming\\Python\\Python311\\site-packages\\IPython\\core\\interactiveshell.py\", line 3336, in run_cell_async\n",
      "    has_raised = await self.run_ast_nodes(code_ast.body, cell_name,\n",
      "  File \"C:\\Users\\ASUS\\AppData\\Roaming\\Python\\Python311\\site-packages\\IPython\\core\\interactiveshell.py\", line 3519, in run_ast_nodes\n",
      "    if await self.run_code(code, result, async_=asy):\n",
      "  File \"C:\\Users\\ASUS\\AppData\\Roaming\\Python\\Python311\\site-packages\\IPython\\core\\interactiveshell.py\", line 3579, in run_code\n",
      "    exec(code_obj, self.user_global_ns, self.user_ns)\n",
      "  File \"C:\\Users\\ASUS\\AppData\\Local\\Temp\\ipykernel_22960\\2007868628.py\", line 2, in <module>\n",
      "    from torchtext.data.utils import get_tokenizer\n",
      "  File \"d:\\Python\\Lib\\site-packages\\torchtext\\__init__.py\", line 3, in <module>\n",
      "    from torch.hub import _get_torch_home\n",
      "  File \"d:\\Python\\Lib\\site-packages\\torch\\__init__.py\", line 1471, in <module>\n",
      "    from .functional import *  # noqa: F403\n",
      "  File \"d:\\Python\\Lib\\site-packages\\torch\\functional.py\", line 9, in <module>\n",
      "    import torch.nn.functional as F\n",
      "  File \"d:\\Python\\Lib\\site-packages\\torch\\nn\\__init__.py\", line 1, in <module>\n",
      "    from .modules import *  # noqa: F403\n",
      "  File \"d:\\Python\\Lib\\site-packages\\torch\\nn\\modules\\__init__.py\", line 35, in <module>\n",
      "    from .transformer import TransformerEncoder, TransformerDecoder, \\\n",
      "  File \"d:\\Python\\Lib\\site-packages\\torch\\nn\\modules\\transformer.py\", line 20, in <module>\n",
      "    device: torch.device = torch.device(torch._C._get_default_device()),  # torch.device('cpu'),\n",
      "d:\\Python\\Lib\\site-packages\\torch\\nn\\modules\\transformer.py:20: UserWarning: Failed to initialize NumPy: _ARRAY_API not found (Triggered internally at ..\\torch\\csrc\\utils\\tensor_numpy.cpp:84.)\n",
      "  device: torch.device = torch.device(torch._C._get_default_device()),  # torch.device('cpu'),\n"
     ]
    }
   ],
   "source": [
    "# Importing the torchtext module for tokenization of the data..\n",
    "from torchtext.data.utils import get_tokenizer\n",
    "tokenizer = get_tokenizer('basic_english')"
   ]
  },
  {
   "cell_type": "code",
   "execution_count": 13,
   "metadata": {},
   "outputs": [],
   "source": [
    "# Making some of the important parameters..\n",
    "review_tokens = sample_df.Reviews.map(tokenizer)"
   ]
  },
  {
   "cell_type": "code",
   "execution_count": 14,
   "metadata": {},
   "outputs": [],
   "source": [
    "unk_token = '<unk>' # For handling the unknown tokens..\n",
    "pad_token = '<pad>' # For making the length same for the sentences.."
   ]
  },
  {
   "cell_type": "code",
   "execution_count": 15,
   "metadata": {},
   "outputs": [],
   "source": [
    "# Now we can make our vocabulary from this..\n",
    "VOCAB_SIZE = 5000\n",
    "from torchtext.vocab import build_vocab_from_iterator\n",
    "vocab = build_vocab_from_iterator(review_tokens,\n",
    "                                   specials=[unk_token, pad_token],\n",
    "                                   max_tokens=VOCAB_SIZE)\n"
   ]
  },
  {
   "cell_type": "code",
   "execution_count": 16,
   "metadata": {},
   "outputs": [],
   "source": [
    "# Make a default token, if any word is not in the vocab..\n",
    "vocab.set_default_index(vocab[unk_token])"
   ]
  },
  {
   "cell_type": "markdown",
   "metadata": {},
   "source": [
    "- Creating the training and Validation Set.."
   ]
  },
  {
   "cell_type": "code",
   "execution_count": 17,
   "metadata": {},
   "outputs": [
    {
     "data": {
      "text/plain": [
       "<Axes: ylabel='Frequency'>"
      ]
     },
     "execution_count": 17,
     "metadata": {},
     "output_type": "execute_result"
    },
    {
     "data": {
      "image/png": "[encoded data removed]",
      "text/plain": [
       "<Figure size 640x480 with 1 Axes>"
      ]
     },
     "metadata": {},
     "output_type": "display_data"
    }
   ],
   "source": [
    "sample_df.Reviews.sample(100000).map(tokenizer).map(len).value_counts().plot(kind='hist')"
   ]
  },
  {
   "cell_type": "code",
   "execution_count": 18,
   "metadata": {},
   "outputs": [],
   "source": [
    "# Defining the max length of the sentence.. Using some short analysis of the sample data..\n",
    "MAX_LENGTH = 75"
   ]
  },
  {
   "cell_type": "code",
   "execution_count": 19,
   "metadata": {},
   "outputs": [],
   "source": [
    "# Defining the helper function for padding of the sentences..\n",
    "def pad_tokens(tokens):\n",
    "    if len(tokens) >= MAX_LENGTH:\n",
    "        return tokens[:MAX_LENGTH]\n",
    "    else:\n",
    "        return tokens + [pad_token] * ((MAX_LENGTH) - len(tokens))"
   ]
  },
  {
   "cell_type": "code",
   "execution_count": 20,
   "metadata": {},
   "outputs": [],
   "source": [
    "import torch"
   ]
  },
  {
   "cell_type": "code",
   "execution_count": 21,
   "metadata": {},
   "outputs": [
    {
     "name": "stdout",
     "output_type": "stream",
     "text": [
      "<class 'pandas.core.frame.DataFrame'>\n",
      "Index: 1800000 entries, 3374353 to 3277097\n",
      "Data columns (total 2 columns):\n",
      " #   Column   Dtype \n",
      "---  ------   ----- \n",
      " 0   Target   int64 \n",
      " 1   Reviews  object\n",
      "dtypes: int64(1), object(1)\n",
      "memory usage: 41.2+ MB\n"
     ]
    }
   ],
   "source": [
    "sample_df.info()"
   ]
  },
  {
   "cell_type": "code",
   "execution_count": null,
   "metadata": {},
   "outputs": [],
   "source": [
    "# Creating the pytorch dataset..\n",
    "from torch.utils.data import Dataset\n",
    "class AmazonDataset(Dataset):\n",
    "\n",
    "    # __init__ function.\n",
    "    def __init__(self, df, is_test=False):\n",
    "        self.df = df \n",
    "        self.is_test = is_test\n",
    "\n",
    "    # __get_item__ function.\n",
    "    def __getitem__(self, index):\n",
    "        \n",
    "        review_text = self.df.Reviews.values[index]               # Text Data.\n",
    "        review_tokens = pad_tokens(tokenizer(review_text))        # Tokenization and padding.\n",
    "        input = torch.tensor(vocab.lookup_indices(review_tokens)) # Converting to numbers.\n",
    "\n",
    "        if self.is_test:\n",
    "            target = torch.tensor(int(self.df['Target'].values[index])).float()\n",
    "        else:\n",
    "            target = torch.tensor(int(self.df['Target'].values[index])).float()  # A small pytorch bug, correct with 'int' type-casting!\n",
    "\n",
    "        return input, target\n",
    "\n",
    "    # Length function.\n",
    "    def __len__ (self):\n",
    "        return len(self.df)  "
   ]
  },
  {
   "cell_type": "code",
   "execution_count": 23,
   "metadata": {},
   "outputs": [],
   "source": [
    "raw_ds = AmazonDataset(sample_df)"
   ]
  },
  {
   "cell_type": "code",
   "execution_count": 24,
   "metadata": {},
   "outputs": [
    {
     "data": {
      "text/plain": [
       "(tensor([ 336,   12,  671,   13,  253,    8,  203,   41,    4,    3, 2326,   13,\n",
       "           20, 1459,   15,    7, 2817,  671,    4,   29,    9,  263,   16,    9,\n",
       "           46,    0,  458,    2,   99,    4,    3,  362, 4117,   13,   95,    0,\n",
       "           20,  148,    8,    3,   39, 2705,   10,    3,    0,    9,  197,    8,\n",
       "          164,  962,   14,    6,  209,   75,   50,    2,   99,    4,    9,   11,\n",
       "           23,   95, 2829,    4, 1631,    4,  655,   50,  962,   43,    3,  659,\n",
       "           13,   83,   95]),\n",
       " tensor(1.))"
      ]
     },
     "execution_count": 24,
     "metadata": {},
     "output_type": "execute_result"
    }
   ],
   "source": [
    "raw_ds[0]"
   ]
  },
  {
   "cell_type": "markdown",
   "metadata": {},
   "source": [
    "- Splitting the Data into training and validation Sets"
   ]
  },
  {
   "cell_type": "code",
   "execution_count": 25,
   "metadata": {},
   "outputs": [
    {
     "data": {
      "text/plain": [
       "(1350000, 450000)"
      ]
     },
     "execution_count": 25,
     "metadata": {},
     "output_type": "execute_result"
    }
   ],
   "source": [
    "# importing the random-split function for splitting..\n",
    "from torch.utils.data import random_split\n",
    "VAL_FRAC = 0.25 # Val set size i.e., 25 %\n",
    "\n",
    "train_ds, val_ds = random_split(sample_df, [1-VAL_FRAC, VAL_FRAC])\n",
    "\n",
    "len(train_ds) , len(val_ds)\n"
   ]
  },
  {
   "cell_type": "markdown",
   "metadata": {},
   "source": [
    "-  Doing Same thing on test_df."
   ]
  },
  {
   "cell_type": "code",
   "execution_count": 26,
   "metadata": {},
   "outputs": [
    {
     "data": {
      "application/vnd.microsoft.datawrangler.viewer.v0+json": {
       "columns": [
        {
         "name": "index",
         "rawType": "int64",
         "type": "integer"
        },
        {
         "name": "2",
         "rawType": "int64",
         "type": "integer"
        },
        {
         "name": "Great CD",
         "rawType": "object",
         "type": "unknown"
        },
        {
         "name": "My lovely Pat has one of the GREAT voices of her generation. I have listened to this CD for YEARS and I still LOVE IT. When I'm in a good mood it makes me feel better. A bad mood just evaporates like sugar in the rain. This CD just oozes LIFE. Vocals are jusat STUUNNING and lyrics just kill. One of life's hidden gems. This is a desert isle CD in my book. Why she never made it big is just beyond me. Everytime I play this, no matter black, white, young, old, male, female EVERYBODY says one thing \"Who was that singing ?\"",
         "rawType": "object",
         "type": "string"
        }
       ],
       "conversionMethod": "pd.DataFrame",
       "ref": "90f76289-bd3c-468f-840f-e7e9fbf35ae7",
       "rows": [
        [
         "0",
         "2",
         "One of the best game music soundtracks - for a game I didn't really play",
         "Despite the fact that I have only played a small portion of the game, the music I heard (plus the connection to Chrono Trigger which was great as well) led me to purchase the soundtrack, and it remains one of my favorite albums. There is an incredible mix of fun, epic, and emotional songs. Those sad and beautiful tracks I especially like, as there's not too many of those kinds of songs in my other video game soundtracks. I must admit that one of the songs (Life-A Distant Promise) has brought tears to my eyes on many occasions.My one complaint about this soundtrack is that they use guitar fretting effects in many of the songs, which I find distracting. But even if those weren't included I would still consider the collection worth it."
        ],
        [
         "1",
         "1",
         "Batteries died within a year ...",
         "I bought this charger in Jul 2003 and it worked OK for a while. The design is nice and convenient. However, after about a year, the batteries would not hold a charge. Might as well just get alkaline disposables, or look elsewhere for a charger that comes with batteries that have better staying power."
        ],
        [
         "2",
         "2",
         "works fine, but Maha Energy is better",
         "Check out Maha Energy's website. Their Powerex MH-C204F charger works in 100 minutes for rapid charge, with option for slower charge (better for batteries). And they have 2200 mAh batteries."
        ],
        [
         "3",
         "2",
         "Great for the non-audiophile",
         "Reviewed quite a bit of the combo players and was hesitant due to unfavorable reviews and size of machines. I am weaning off my VHS collection, but don't want to replace them with DVD's. This unit is well built, easy to setup and resolution and special effects (no progressive scan for HDTV owners) suitable for many people looking for a versatile product.Cons- No universal remote."
        ],
        [
         "4",
         "1",
         "DVD Player crapped out after one year",
         "I also began having the incorrect disc problems that I've read about on here. The VCR still works, but hte DVD side is useless. I understand that DVD players sometimes just quit on you, but after not even one year? To me that's a sign on bad quality. I'm giving up JVC after this as well. I'm sticking to Sony or giving another brand a shot."
        ],
        [
         "5",
         "1",
         "Incorrect Disc",
         "I love the style of this, but after a couple years, the DVD is giving me problems. It doesn't even work anymore and I use my broken PS2 Now. I wouldn't recommend this, I'm just going to upgrade to a recorder now. I wish it would work but I guess i'm giving up on JVC. I really did like this one... before it stopped working. The dvd player gave me problems probably after a year of having it."
        ],
        [
         "6",
         "1",
         "DVD menu select problems",
         "I cannot scroll through a DVD menu that is set up vertically. The triangle keys will only select horizontally. So I cannot select anything on most DVD's besides play. No special features, no language select, nothing, just play."
        ],
        [
         "7",
         "2",
         "Unique Weird Orientalia from the 1930's",
         "Exotic tales of the Orient from the 1930's. \"Dr Shen Fu\", a Weird Tales magazine reprint, is about the elixir of life that grants immortality at a price. If you're tired of modern authors who all sound alike, this is the antidote for you. Owen's palette is loaded with splashes of Chinese and Japanese colours. Marvelous."
        ],
        [
         "8",
         "1",
         "Not an \"ultimate guide\"",
         "Firstly,I enjoyed the format and tone of the book (how the author addressed the reader). However, I did not feel that she imparted any insider secrets that the book promised to reveal. If you are just starting to research law school, and do not know all the requirements of admission, then this book may be a tremendous help. If you have done your homework and are looking for an edge when it comes to admissions, I recommend some more topic-specific books. For example, books on how to write your personal statment, books geared specifically towards LSAT preparation (Powerscore books were the most helpful for me), and there are some websites with great advice geared towards aiding the individuals whom you are asking to write letters of recommendation. Yet, for those new to the entire affair, this book can definitely clarify the requirements for you."
        ],
        [
         "9",
         "2",
         "Great book for travelling Europe",
         "I currently live in Europe, and this is the book I recommend for my visitors. It covers many countries, colour pictures, and is a nice starter for before you go, and once you are there."
        ],
        [
         "10",
         "1",
         "Not!",
         "If you want to listen to El Duke , then it is better if you have access to his shower,this is not him, it is a gimmick,very well orchestrated."
        ],
        [
         "11",
         "1",
         "A complete Bust",
         "This game requires quicktime 5.0 to work...if you have a better version of quicktime (I have 7.5), it will ask you to install the quicktime available on the CD...if you click no, it will not let you play. So, I begrudgingly clicked yes on the third try, and it installed quicktime 5, THEN it tells me to please install the quicktime available on the disc. It KEPT telling me that, even after I uninstalled my version of quicktime 7.5, and reinstalled Barbie Rapunzel and quicktime 5. Very frustrating, and the game absolutely will not work for me. It keeps telling me over and over, to install quicktime 5, tho I've been through the installation process repeatedly. It is NOT my \"operating system limitations\". This is a brand new computer...merely weeks old with all the state of the art contraptions."
        ],
        [
         "12",
         "2",
         "TRULY MADE A DIFFERENCE!",
         "I have been using this product for a couple years now. I started using it because my hair had gotten so dry from all the chemical treatments and relaxers. This actualy came in the relaxer kit. I tried it and could not beleive the difference it made with one use. I could not find it in any of the stores at the time so I searched Amazon and they had it. I absolutely love it. It is the best moisturizing product I have used so far. My hair is soft with good elasticity and it is not breaking anywhere close to what it was. I am very happy with it."
        ],
        [
         "13",
         "1",
         "didn't run off of USB bus power",
         "Was hoping that this drive would run off of bus power, but it required the adapter to actually work. :( I sent it back."
        ],
        [
         "14",
         "1",
         "Don't buy!",
         "First of all, the company took my money and sent me an email telling me the product was shipped. A week and a half later I received another email telling me that they are sorry, but they don't actually have any of these items, and if I received an email telling me it has shipped, it was a mistake.When I finally got my money back, I went through another company to buy the product and it won't work with my phone, even though it depicts that it will. I have sent numerous emails to the company - I can't actually find a phone number on their website - and I still have not gotten any kind of response. What kind of customer service is that? No one will help me with this problem. My advice - don't waste your money!"
        ],
        [
         "15",
         "2",
         "Simple, Durable, Fun game for all ages",
         "This is an AWESOME game! Almost everyone know tic-tac-toe so it is EASY to learn and quick to play. You can't play just once! The twist is that your pieces are slightly different sizes - just big enough to gobble up your opponent. The first person to make tic-tac-toe wins, but it's not as easy as it looks when you're stuck in the mindset of just making three in a row and forget about the gobbling possibilities! My 4 and 5 year olds will beat me even when I'm trying to win! Excellent beginning critical thinking game. Grandparents loved playing it with the kids too."
        ],
        [
         "16",
         "2",
         "Review of Kelly Club for Toddlers",
         "For the price of 7.99, this PC game is WELL worth it, great graphics, colorful and lots to do! My four year old daughter is in love with the many tasks to complete in this game, including dressing and grooming wide variety of pets and decoration of numerous floats to show in your little one's very own parade."
        ],
        [
         "17",
         "2",
         "SOY UN APASIONADO DEL BOX",
         "Y ESTE LIBRO ESTÁ ESPLÉNDIDO !Lo disfrutas, lo puedes usar como obra de consultaNos trae LAS HISTORIA DE LOS BOXEADORES MÁS BRILLANTES, DE LOS CAMPEONES DURANTE CIEN AÑOS !!Si te gusta el box...¡NO TE LO PIERDAS !"
        ],
        [
         "18",
         "2",
         "Some of the best fiddle playing I have heard in a long time",
         "This is an excellent album with some great fiddle playing. Ryan is amazing to watch when he plays in person. You can feel the emotion he puts into each song."
        ],
        [
         "19",
         "1",
         "Long and boring",
         "I've read this book with much expectation, it was very boring all through out the book"
        ],
        [
         "20",
         "1",
         "Dont like it",
         "This product smells when you open the package and it appears one of the gel cushions leaks so I spent $10 and havent worn then. I wouldnt buy this product again. Dont waste your money on something you may not be able to use."
        ],
        [
         "21",
         "2",
         "one of the last in the series to collect !",
         "The magazine was in very good condition and had the usual high standard of articles and photos that Victoria magazine has come to represent. I have collected all the previous magazines of the series and still enjoy leafing through them on a rainy day"
        ],
        [
         "22",
         "2",
         "Sony Hi8 Camcorder with 2.5 LCD",
         "I believe I will be very happy with the camcorder. Its small,light and easy to handle.The LCD is clear and bright.Ease of operation."
        ],
        [
         "23",
         "1",
         "Don't Take the Chance - Get the SE Branded Cable",
         "If you purchase this data cable, you need to know that you will receive no real directions or information regarding what to check if nothing works. As directed, I downloaded all of the files from the SE site (70MB on dial up!), and then downloaded all of the user guides. Everything seemed to install ok, but nothing would make my phone be recognized. After that I scoured the SE site for troubleshooting info on their branded cable-in the hope that something would help me figure out the problem. After 2 full days of beating my head against the wall, I finally threw the cable and the useless CD that came with it in the trash.If I had used my brain I would have paid the extra $$ for a SE branded cable and software (and the support that comes along with that). I now have the real deal (SE data cable and software), and guess what? Yep, installation was a breeze and it works beautifully. You really do get what you pay for."
        ],
        [
         "24",
         "1",
         "Waste of money!",
         "Like many of the Barbie CD Roms, the playtime is limited - averaging about 5 mins for each of my two daughters (ages 5 & 7). Like the Barbie movies and other CD Roms the graphics are poorly done."
        ],
        [
         "25",
         "2",
         "works great",
         "i bought this item to connect to a strobe light. unit functions well. not sure that it has all the range claimed, but i never really believe everything a manufacturer claims about a product like this. just too many variables. I can say it works from my neighbors house into my garage; at least 40' going thru two buildings. now if i make too much noise later at night he can simply press a button to let me know."
        ],
        [
         "26",
         "1",
         "Has No Range",
         "I suppose if you were going to sit in the same room and have line-of-sight with the device, lamp, etc. plugged into this control, it might work. Maybe. But I had it completely within the stated range and one basic house wall separating me and the unit, and it was completely unreliable.I'd recommend spending a touch more money and getting a higher quality product."
        ],
        [
         "27",
         "2",
         "wish i had gotten this sooner!",
         "ive got a lamp in the corner of my room behind my desk thats a complete pain in the arse to turn on and off. ive been using this with the lamp for a month now and it works perfectly. added a little velcro and now i have a light switch where ever i want. under my desk, shelf, etc."
        ],
        [
         "28",
         "1",
         "Three Days of Use and It Broke",
         "Very disappointed in this product. It worked perfectly for exactly three days and could not be resuscitated. It was very inexpensive so I did not want to pay half again the price to ship it back for an exchange, so the company would do nothing when they sent me an inquiry as to product satisfaction."
        ],
        [
         "29",
         "2",
         "This is the all time best book!",
         "This is the all time best book. She mentoins in the book how anyone can be a vampire, who knows. Well anyway I like the idea of having one soulmate and one crazed werewolf crush. P.S I think that it is a good twist on the story about how anone can be part of the night world."
        ],
        [
         "30",
         "2",
         "Mary Ash",
         "Can't believe I have never reviewed this book before. First read this back when I was 13. Like a lot of girls wanting the mysterious boyfriend and believed in soul-mates which drug me into these books. Rereading it over time years later still stands the test of time for me. Ash is that bad boy you want and your parents want you to stay away from even though he seems like a jerk there is just something about him that make you wanna root for him."
        ],
        [
         "31",
         "2",
         "Tha BOMB of a book!!",
         "L.J. Smith is the best author in the whole world. I read this book a year ago but I can't stop reading it. It is beyond sweet. I love Ash.The entire Night World seris is the bomb. I read mostly everyone of L.J Smiths book and they all are awesome. I think Ash and Mary Lynetee are one of the sweetest soulmates. I loved how they tried to fight there feelings but couldn't. There should be real guys like Ash,Quinn,Juliun,Damon,Gabriel and I can go on forever. I think everyone should read at least one L.J Smith book. If you do you'll be hooked on them for life,like I am. L.J Smith is the BEST!!!!"
        ],
        [
         "32",
         "2",
         "This book was a great book that i have read many times!",
         "This book was so great! I loved and read it so many times that i will soon have to buy a new copy because my last one fell apart. I just hope that there is a follow up on this story because I want to know if Mary-Lynette and Ash get together."
        ],
        [
         "33",
         "2",
         "They'd watch it nonstop if I'd let them",
         "apart from it arriving broken the first time, my kids are loving this DVD, which I alternate with the other I purchased to keep my own sanity. This DVD has created a Thomas fan out of my 3 1/2 yr. old daughter as well."
        ],
        [
         "34",
         "1",
         "Not as expected...",
         "My children get easily bored with this video. I thought it was several episodes of Thomas but it has A LOT of just children and parents talking about Thomas and all. It doesn't keep the kids attention because what kid wants to sit and listen to a bunch of talking. This was my first Thomas video purchase...hopefully the next will have more shows and less talking!"
        ],
        [
         "35",
         "2",
         "Wonderful",
         "I went online for information about Dockers Khaki pants. The size my husband wears are very hard to find in stores. I was very impressed with the selection I had and he was thrilled to have all these pants without having them taken up in the length. The delivery was quick (especially during Christmas) and I really appreciate all the effort made to send us the selections we chose."
        ],
        [
         "36",
         "1",
         "Doublecharged for shipping because merchant was backordered",
         "Merchant was out of stock on the second pair of pants, so when it was shipped I was charged $9 again when the second pair was in stock weeks later.Will not buy from Amazon vendors again."
        ],
        [
         "37",
         "2",
         "Book of Chance",
         "I had just finished reading 'The Food of Love' by Anthony Capella since I had nothing to do, but read. Mind you, reading is one of my favorite pastimes.I had recently bought a series of books. The Food of Love was just one of the books I just picked up so I can get that 'three for the price of two' deal at Waterstones in London (British's equivalent of Barnes&Noble;). I wasn't really interested, but it was one of the more interesting options I had. Well, I'm glad I made the right choice! I started reading it last night and I haven't put it down since.If you love food and a little romance, which I am both fond of, it's an excellent book to read. Mr. Capella was remarkably thorough in his description of the rich and textured Italian dishes that the words assails you with a sense of smell and taste that leaves you hungry for more. This book took me by surprise and I'm sure you would not be disappointed."
        ],
        [
         "38",
         "1",
         "Light reading, light in substance",
         "A clichéd storyline based on the classic Cyrano de Bergerac, this book reads like a rookie novel written by someone who has a knowledge and passion for Italian culture and cuisine, but little experience in developing a story. I can understand Bruno and his passion for cooking, but have no clue as to his passion for Laura. It seems to be primarily based on her being a blonde American. How exotic. Her character is so underdeveloped- we know she's studying art history, and she enjoys Bruno's cooking with a passion. That's about it. And Tomasso, he's just the cliché for any over-sexed Mediterranean male who encounters foreign females.It's a light and entertaining read if you can get beyond all of the reasons you should put it down and walk away. That being said, I will, however, check out this author's more recent novels. He does seem to have a way with technical details, hopefully his storytelling has caught up."
        ],
        [
         "39",
         "2",
         "WeiB FOREVER!",
         "This is a great CD!! I love WeiB Kreuz!! The anime is awsome! Its bout 4 guys (hhhooottt) who work at a flower shop, but at night they are the White Hunters (or Byce as in the anime) they are assasins that \"hunt the tomorrow\" of Bad guys, the bad guys the police cant get . Like when teens start blowing up in flames in public for no reason... from a strange gas substance that w/ instant contact ingulfs any object... but i couldnt resist. Its also an emotional anime at times! I think this is a Cd and Anime any anime fan should see..."
        ],
        [
         "40",
         "1",
         "Great Book--unacceptable condition",
         "I was looking forward to receiving this book, as I was going to New Orleans to Antoine's restaurant. I read the book at least thirty years ago and wanted my own copy. This book came without a dust jacket and was so musty that I could not read it without my eyes watering. I sent it back, at my own expense, and to date, I have not had a refund."
        ],
        [
         "41",
         "2",
         "Real HTML for people who build sites for a living",
         "This book is simply great! If you build sites for a living you probably struggle with books that trivialize HTML and present its syntax willy-nilly. This book is the ONLY book I've ever seen that actually seems to be written by someone who builds sites professionally and wants to know all the markup. It explains logical and physical tagging styles well and does a really good job showing how to hook HTML with other technologies without trying to teach CGI, CSS, etc. at the same time. The only thing I wish is that this guy would write a JavaScript or DHTML book. I'd buy that right away."
        ],
        [
         "42",
         "2",
         "Marriage has its good and bad moments",
         "This is a tear-jerker mixed with humor. A lot of rough patches for this couple but don't let that scare you off because there are also a lot of good times, too. I watch this movie often as I am a hopeless romantic and I thoroughly enjoy the music and dancing (Hindi style & Pop Rock mix), plus it's worth wading through the tears to get to the fun parts. It ends the way a typical relationship of this type would, but that's not exactly a bad thing in this case. I recommend it to everyone."
        ],
        [
         "43",
         "2",
         "Amazing...",
         "love it...very touch.it's to bad that in the dvd description doesn't mention no subtitles"
        ],
        [
         "44",
         "2",
         "Leslie in a nutshell",
         "Danelectro DJ-20C Rocky Road Spin Speaker Mini Effects Pedal, is an amazing little pedal!I use it with guitar, and keyboards.Using with Keyboards, organ mode(doesn't matter which type) jazz, rock, gives me an instant controllable Leslie effects.it includes fast and slow ramp up,boost, volume/drive. thru a mixer in stereo you can do some amazing stuff with this inexpensive unit.The only drawback i have found is the buttons are very hard to engage and disengage.But i'm working on that. i will modify the springs if possible and maybe even send a recommendation to Danelectro."
        ],
        [
         "45",
         "1",
         "More Romance Please and Less Mystery!!",
         "the reason i gave two stars when I usually give 5 stars for ms. feehan's books is b/c this book was tooooooo mystery/gothic genre rather than romance. I really didn't feel like the two main characters were in love, in fact the entire book was almost entirely from the heroine's point of view and I was getting sick of her whining and her point of view. unlike the \"dark\" series, you really didnt feel any passion. the book is better suited for the mystery/gothic genre and NOT romance.even the mystery was not that good! its only in the last chapter that for some unforseen reason the villain confesses all in less than three pages. throughout the entire book, you're kept in suspense of who was the bad guy, if you wanted to know who it was look at the last couple of pages....Ms. Feehan, if your reading, please focuse more on the main characters relation to each other rather then distract us with so much unamusing mystery!"
        ],
        [
         "46",
         "1",
         "A Lost Author",
         "I have read all of the Carpathian novels to date, except one. I very much enjoyed them at first, but nothing EVER gets resolved. You would think that after 16 books something would have been resolved and a new obstacle introduced. As for this book, it is an off-shoot of another Carpathian novel about the Jaguar Line. I was hoping to find out more about this curse, the origins and why the males kill the females. Nothing, not a word about the Jaguar curse. And why do the walls and ceilings change? Ideas introduced and left at that. Ms. Feehan went, once again, off on a tagent. Her books become less and less meaty and more and more expensive. I will NOT be buying any further books by this author. What a shame."
        ],
        [
         "47",
         "1",
         "Okay but Messy....",
         "We purchased this bag for a vacation we were taking a cruise and we wanted to use it when we left the ship. The bag was convenient to carry, however the faux leather began peeling. At first it wasn't so bad but then it became annoying because it then began flaking all over your skin and clothes. I would have rather the bag been a cloth bag with no flaking than the faux leather that I had to keep wisking away from my skin and clothes."
        ],
        [
         "48",
         "2",
         "Patricia Cornwell has turned me into a reader",
         "I was never really a big reader before and somebody put me on to Patricia Cornwell. Well, now I can't put her books down. Her books just get better and better as you go through the Kay Scarpetta series.I really enjoy the series concept and the fact that some of the same characters keep returning from book to book. It's nice to see the characters develop through each story line. It allows you to get comfortable with them, get close to them, and get frustrated with them when they do something out of character.I highly recommend reading not just this book but the entire Kay Scarpetta series."
        ],
        [
         "49",
         "2",
         "Best of the First Four in this series.",
         "This is an awesome book. Kay just keeps getting better and better. It's also fun to see the characters develop more with each book - Kay herself as she seems to be always \"one against the world\", Marino who it appears is heading towards some sort of heart attack, Lucy who seems to be getting more and more quixotic. In this book Kay finds herself smack in the middle of a series of gruesome killings. It appears that a recently executed murderer, who Kay herself has seen on her autopsy table, is still around committing crimes. A number of murders occur where the executed murderer's fingerprints are turning up. Kay, Marino and Benton try to track a killer, but it appears that the corruption goes up a long ways into the political stratosphere. This is a taut and totally believable thriller. I can't wait until the next one because the book ended with the way wide open to the next installment."
        ]
       ],
       "shape": {
        "columns": 3,
        "rows": 399999
       }
      },
      "text/html": [
       "<div>\n",
       "<style scoped>\n",
       "    .dataframe tbody tr th:only-of-type {\n",
       "        vertical-align: middle;\n",
       "    }\n",
       "\n",
       "    .dataframe tbody tr th {\n",
       "        vertical-align: top;\n",
       "    }\n",
       "\n",
       "    .dataframe thead th {\n",
       "        text-align: right;\n",
       "    }\n",
       "</style>\n",
       "<table border=\"1\" class=\"dataframe\">\n",
       "  <thead>\n",
       "    <tr style=\"text-align: right;\">\n",
       "      <th></th>\n",
       "      <th>2</th>\n",
       "      <th>Great CD</th>\n",
       "      <th>My lovely Pat has one of the GREAT voices of her generation. I have listened to this CD for YEARS and I still LOVE IT. When I'm in a good mood it makes me feel better. A bad mood just evaporates like sugar in the rain. This CD just oozes LIFE. Vocals are jusat STUUNNING and lyrics just kill. One of life's hidden gems. This is a desert isle CD in my book. Why she never made it big is just beyond me. Everytime I play this, no matter black, white, young, old, male, female EVERYBODY says one thing \"Who was that singing ?\"</th>\n",
       "    </tr>\n",
       "  </thead>\n",
       "  <tbody>\n",
       "    <tr>\n",
       "      <th>0</th>\n",
       "      <td>2</td>\n",
       "      <td>One of the best game music soundtracks - for a...</td>\n",
       "      <td>Despite the fact that I have only played a sma...</td>\n",
       "    </tr>\n",
       "    <tr>\n",
       "      <th>1</th>\n",
       "      <td>1</td>\n",
       "      <td>Batteries died within a year ...</td>\n",
       "      <td>I bought this charger in Jul 2003 and it worke...</td>\n",
       "    </tr>\n",
       "    <tr>\n",
       "      <th>2</th>\n",
       "      <td>2</td>\n",
       "      <td>works fine, but Maha Energy is better</td>\n",
       "      <td>Check out Maha Energy's website. Their Powerex...</td>\n",
       "    </tr>\n",
       "    <tr>\n",
       "      <th>3</th>\n",
       "      <td>2</td>\n",
       "      <td>Great for the non-audiophile</td>\n",
       "      <td>Reviewed quite a bit of the combo players and ...</td>\n",
       "    </tr>\n",
       "    <tr>\n",
       "      <th>4</th>\n",
       "      <td>1</td>\n",
       "      <td>DVD Player crapped out after one year</td>\n",
       "      <td>I also began having the incorrect disc problem...</td>\n",
       "    </tr>\n",
       "    <tr>\n",
       "      <th>...</th>\n",
       "      <td>...</td>\n",
       "      <td>...</td>\n",
       "      <td>...</td>\n",
       "    </tr>\n",
       "    <tr>\n",
       "      <th>399994</th>\n",
       "      <td>1</td>\n",
       "      <td>Unbelievable- In a Bad Way</td>\n",
       "      <td>We bought this Thomas for our son who is a hug...</td>\n",
       "    </tr>\n",
       "    <tr>\n",
       "      <th>399995</th>\n",
       "      <td>1</td>\n",
       "      <td>Almost Great, Until it Broke...</td>\n",
       "      <td>My son recieved this as a birthday gift 2 mont...</td>\n",
       "    </tr>\n",
       "    <tr>\n",
       "      <th>399996</th>\n",
       "      <td>1</td>\n",
       "      <td>Disappointed !!!</td>\n",
       "      <td>I bought this toy for my son who loves the \"Th...</td>\n",
       "    </tr>\n",
       "    <tr>\n",
       "      <th>399997</th>\n",
       "      <td>2</td>\n",
       "      <td>Classic Jessica Mitford</td>\n",
       "      <td>This is a compilation of a wide range of Mitfo...</td>\n",
       "    </tr>\n",
       "    <tr>\n",
       "      <th>399998</th>\n",
       "      <td>1</td>\n",
       "      <td>Comedy Scene, and Not Heard</td>\n",
       "      <td>This DVD will be a disappointment if you get i...</td>\n",
       "    </tr>\n",
       "  </tbody>\n",
       "</table>\n",
       "<p>399999 rows × 3 columns</p>\n",
       "</div>"
      ],
      "text/plain": [
       "        2                                           Great CD  \\\n",
       "0       2  One of the best game music soundtracks - for a...   \n",
       "1       1                   Batteries died within a year ...   \n",
       "2       2              works fine, but Maha Energy is better   \n",
       "3       2                       Great for the non-audiophile   \n",
       "4       1              DVD Player crapped out after one year   \n",
       "...    ..                                                ...   \n",
       "399994  1                         Unbelievable- In a Bad Way   \n",
       "399995  1                    Almost Great, Until it Broke...   \n",
       "399996  1                                   Disappointed !!!   \n",
       "399997  2                            Classic Jessica Mitford   \n",
       "399998  1                        Comedy Scene, and Not Heard   \n",
       "\n",
       "       My lovely Pat has one of the GREAT voices of her generation. I have listened to this CD for YEARS and I still LOVE IT. When I'm in a good mood it makes me feel better. A bad mood just evaporates like sugar in the rain. This CD just oozes LIFE. Vocals are jusat STUUNNING and lyrics just kill. One of life's hidden gems. This is a desert isle CD in my book. Why she never made it big is just beyond me. Everytime I play this, no matter black, white, young, old, male, female EVERYBODY says one thing \"Who was that singing ?\"  \n",
       "0       Despite the fact that I have only played a sma...                                                                                                                                                                                                                                                                                                                                                                                                                                                                                           \n",
       "1       I bought this charger in Jul 2003 and it worke...                                                                                                                                                                                                                                                                                                                                                                                                                                                                                           \n",
       "2       Check out Maha Energy's website. Their Powerex...                                                                                                                                                                                                                                                                                                                                                                                                                                                                                           \n",
       "3       Reviewed quite a bit of the combo players and ...                                                                                                                                                                                                                                                                                                                                                                                                                                                                                           \n",
       "4       I also began having the incorrect disc problem...                                                                                                                                                                                                                                                                                                                                                                                                                                                                                           \n",
       "...                                                   ...                                                                                                                                                                                                                                                                                                                                                                                                                                                                                           \n",
       "399994  We bought this Thomas for our son who is a hug...                                                                                                                                                                                                                                                                                                                                                                                                                                                                                           \n",
       "399995  My son recieved this as a birthday gift 2 mont...                                                                                                                                                                                                                                                                                                                                                                                                                                                                                           \n",
       "399996  I bought this toy for my son who loves the \"Th...                                                                                                                                                                                                                                                                                                                                                                                                                                                                                           \n",
       "399997  This is a compilation of a wide range of Mitfo...                                                                                                                                                                                                                                                                                                                                                                                                                                                                                           \n",
       "399998  This DVD will be a disappointment if you get i...                                                                                                                                                                                                                                                                                                                                                                                                                                                                                           \n",
       "\n",
       "[399999 rows x 3 columns]"
      ]
     },
     "execution_count": 26,
     "metadata": {},
     "output_type": "execute_result"
    }
   ],
   "source": [
    "test_df = pd.read_csv('test.csv')\n",
    "test_df"
   ]
  },
  {
   "cell_type": "code",
   "execution_count": 27,
   "metadata": {},
   "outputs": [],
   "source": [
    "test_df = test_df.drop(columns='Great CD')"
   ]
  },
  {
   "cell_type": "code",
   "execution_count": 28,
   "metadata": {},
   "outputs": [
    {
     "name": "stdout",
     "output_type": "stream",
     "text": [
      "<class 'pandas.core.frame.DataFrame'>\n",
      "RangeIndex: 399999 entries, 0 to 399998\n",
      "Data columns (total 2 columns):\n",
      " #   Column                                                                                                                                                                                                                                                                                                                                                                                                                                                                                                                                       Non-Null Count   Dtype \n",
      "---  ------                                                                                                                                                                                                                                                                                                                                                                                                                                                                                                                                       --------------   ----- \n",
      " 0   2                                                                                                                                                                                                                                                                                                                                                                                                                                                                                                                                            399999 non-null  int64 \n",
      " 1   My lovely Pat has one of the GREAT voices of her generation. I have listened to this CD for YEARS and I still LOVE IT. When I'm in a good mood it makes me feel better. A bad mood just evaporates like sugar in the rain. This CD just oozes LIFE. Vocals are jusat STUUNNING and lyrics just kill. One of life's hidden gems. This is a desert isle CD in my book. Why she never made it big is just beyond me. Everytime I play this, no matter black, white, young, old, male, female EVERYBODY says one thing \"Who was that singing ?\"  399999 non-null  object\n",
      "dtypes: int64(1), object(1)\n",
      "memory usage: 6.1+ MB\n"
     ]
    }
   ],
   "source": [
    "test_df.info()"
   ]
  },
  {
   "cell_type": "code",
   "execution_count": 29,
   "metadata": {},
   "outputs": [],
   "source": [
    "#Let's first change the columns name for the ease of access.\n",
    "test_df['Target'] = test_df['2']\n",
    "test_df['Reviews'] = test_df['My lovely Pat has one of the GREAT voices of her generation. I have listened to this CD for YEARS and I still LOVE IT. When I\\'m in a good mood it makes me feel better. A bad mood just evaporates like sugar in the rain. This CD just oozes LIFE. Vocals are jusat STUUNNING and lyrics just kill. One of life\\'s hidden gems. This is a desert isle CD in my book. Why she never made it big is just beyond me. Everytime I play this, no matter black, white, young, old, male, female EVERYBODY says one thing \"Who was that singing ?\"']"
   ]
  },
  {
   "cell_type": "code",
   "execution_count": 30,
   "metadata": {},
   "outputs": [],
   "source": [
    "# Dropping the unwanted columns..\n",
    "test_df = test_df.drop(columns=['2'])\n",
    "test_df = test_df.drop(columns=['My lovely Pat has one of the GREAT voices of her generation. I have listened to this CD for YEARS and I still LOVE IT. When I\\'m in a good mood it makes me feel better. A bad mood just evaporates like sugar in the rain. This CD just oozes LIFE. Vocals are jusat STUUNNING and lyrics just kill. One of life\\'s hidden gems. This is a desert isle CD in my book. Why she never made it big is just beyond me. Everytime I play this, no matter black, white, young, old, male, female EVERYBODY says one thing \"Who was that singing ?\"'])"
   ]
  },
  {
   "cell_type": "code",
   "execution_count": 31,
   "metadata": {},
   "outputs": [],
   "source": [
    "test_ds = AmazonDataset(test_df, is_test=True)"
   ]
  },
  {
   "cell_type": "code",
   "execution_count": 32,
   "metadata": {},
   "outputs": [
    {
     "data": {
      "text/plain": [
       "(tensor([1022,    3,  335,   16,    5,   25,   67,  523,    7,  267, 2497,   10,\n",
       "            3,  160,    4,    3,  132,    5,  313,   40,  609,    3, 1292,    8,\n",
       "            0, 4857,   93,   18,   49,   29,   79,   38, 1671,   53,    8,  290,\n",
       "            3, 1074,    4,    6,    9, 2401,   31,   10,   27,  330,  561,    2,\n",
       "           59,   13,   51, 1042,  927,   10,  254,    4, 2809,    4,    6, 1695,\n",
       "          167,    2,  182,  720,    6,  416,  522,    5,  342,   37,    4,   29,\n",
       "           59,   11,   23]),\n",
       " tensor(2.))"
      ]
     },
     "execution_count": 32,
     "metadata": {},
     "output_type": "execute_result"
    }
   ],
   "source": [
    "test_ds[0]"
   ]
  },
  {
   "cell_type": "markdown",
   "metadata": {},
   "source": [
    "- Now we have to create PyTorch DataLoaders for making inputs the data into the Deep Learning Models using Batches."
   ]
  },
  {
   "cell_type": "code",
   "execution_count": 33,
   "metadata": {},
   "outputs": [],
   "source": [
    "# Importing the DataLoader module..\n",
    "from torch.utils.data import DataLoader\n",
    "\n",
    "# Defining the batch size..\n",
    "BATCH_SIZE = 200\n",
    "\n",
    "# Making the dataloaders for train, val and test dfs..\n",
    "train_dl = DataLoader(train_ds, batch_size=BATCH_SIZE, shuffle=True, num_workers=8, pin_memory=True)\n",
    "val_dl = DataLoader(val_ds, batch_size=BATCH_SIZE*2, num_workers=8, pin_memory=True)\n",
    "test_dl = DataLoader(test_ds, batch_size=BATCH_SIZE*2, num_workers=8, pin_memory=True)"
   ]
  },
  {
   "cell_type": "markdown",
   "metadata": {},
   "source": [
    "## Building a RNN Model.."
   ]
  },
  {
   "cell_type": "code",
   "execution_count": 34,
   "metadata": {},
   "outputs": [],
   "source": [
    "import torch.nn as nn\n",
    "import torch.functional as F"
   ]
  },
  {
   "cell_type": "code",
   "execution_count": null,
   "metadata": {},
   "outputs": [],
   "source": [
    "# Creating the embedding layer..\n",
    "emb_layer = nn.Embedding(VOCAB_SIZE, 256, 1)"
   ]
  },
  {
   "cell_type": "code",
   "execution_count": null,
   "metadata": {},
   "outputs": [],
   "source": [
    "# Creating the RNN Layer..\n",
    "rnn_layer = nn.RNN(256, 128, 1, batch_first=True)"
   ]
  },
  {
   "cell_type": "code",
   "execution_count": 37,
   "metadata": {},
   "outputs": [
    {
     "name": "stdout",
     "output_type": "stream",
     "text": [
      "Collecting pytorch_lightning\n",
      "  Downloading pytorch_lightning-2.5.0.post0-py3-none-any.whl.metadata (21 kB)\n",
      "Requirement already satisfied: torch>=2.1.0 in d:\\python\\lib\\site-packages (from pytorch_lightning) (2.2.0+cu118)\n",
      "Requirement already satisfied: tqdm>=4.57.0 in d:\\python\\lib\\site-packages (from pytorch_lightning) (4.67.1)\n",
      "Collecting PyYAML>=5.4 (from pytorch_lightning)\n",
      "  Downloading PyYAML-6.0.2-cp311-cp311-win_amd64.whl.metadata (2.1 kB)\n",
      "Requirement already satisfied: fsspec>=2022.5.0 in d:\\python\\lib\\site-packages (from fsspec[http]>=2022.5.0->pytorch_lightning) (2025.2.0)\n",
      "Collecting torchmetrics>=0.7.0 (from pytorch_lightning)\n",
      "  Downloading torchmetrics-1.6.1-py3-none-any.whl.metadata (21 kB)\n",
      "Requirement already satisfied: packaging>=20.0 in c:\\users\\asus\\appdata\\roaming\\python\\python311\\site-packages (from pytorch_lightning) (24.2)\n",
      "Requirement already satisfied: typing-extensions>=4.4.0 in d:\\python\\lib\\site-packages (from pytorch_lightning) (4.12.2)\n",
      "Collecting lightning-utilities>=0.10.0 (from pytorch_lightning)\n",
      "  Downloading lightning_utilities-0.12.0-py3-none-any.whl.metadata (5.6 kB)\n",
      "Collecting aiohttp!=4.0.0a0,!=4.0.0a1 (from fsspec[http]>=2022.5.0->pytorch_lightning)\n",
      "  Downloading aiohttp-3.11.13-cp311-cp311-win_amd64.whl.metadata (8.0 kB)\n",
      "Requirement already satisfied: setuptools in d:\\python\\lib\\site-packages (from lightning-utilities>=0.10.0->pytorch_lightning) (65.5.0)\n",
      "Requirement already satisfied: filelock in d:\\python\\lib\\site-packages (from torch>=2.1.0->pytorch_lightning) (3.17.0)\n",
      "Requirement already satisfied: sympy in d:\\python\\lib\\site-packages (from torch>=2.1.0->pytorch_lightning) (1.13.1)\n",
      "Requirement already satisfied: networkx in d:\\python\\lib\\site-packages (from torch>=2.1.0->pytorch_lightning) (3.4.2)\n",
      "Requirement already satisfied: jinja2 in d:\\python\\lib\\site-packages (from torch>=2.1.0->pytorch_lightning) (3.1.5)\n",
      "Requirement already satisfied: numpy>1.20.0 in d:\\python\\lib\\site-packages (from torchmetrics>=0.7.0->pytorch_lightning) (2.2.3)\n",
      "Requirement already satisfied: colorama in d:\\python\\lib\\site-packages (from tqdm>=4.57.0->pytorch_lightning) (0.4.6)\n",
      "Collecting aiohappyeyeballs>=2.3.0 (from aiohttp!=4.0.0a0,!=4.0.0a1->fsspec[http]>=2022.5.0->pytorch_lightning)\n",
      "  Using cached aiohappyeyeballs-2.4.6-py3-none-any.whl.metadata (5.9 kB)\n",
      "Collecting aiosignal>=1.1.2 (from aiohttp!=4.0.0a0,!=4.0.0a1->fsspec[http]>=2022.5.0->pytorch_lightning)\n",
      "  Using cached aiosignal-1.3.2-py2.py3-none-any.whl.metadata (3.8 kB)\n",
      "Collecting attrs>=17.3.0 (from aiohttp!=4.0.0a0,!=4.0.0a1->fsspec[http]>=2022.5.0->pytorch_lightning)\n",
      "  Downloading attrs-25.1.0-py3-none-any.whl.metadata (10 kB)\n",
      "Collecting frozenlist>=1.1.1 (from aiohttp!=4.0.0a0,!=4.0.0a1->fsspec[http]>=2022.5.0->pytorch_lightning)\n",
      "  Downloading frozenlist-1.5.0-cp311-cp311-win_amd64.whl.metadata (14 kB)\n",
      "Collecting multidict<7.0,>=4.5 (from aiohttp!=4.0.0a0,!=4.0.0a1->fsspec[http]>=2022.5.0->pytorch_lightning)\n",
      "  Downloading multidict-6.1.0-cp311-cp311-win_amd64.whl.metadata (5.1 kB)\n",
      "Collecting propcache>=0.2.0 (from aiohttp!=4.0.0a0,!=4.0.0a1->fsspec[http]>=2022.5.0->pytorch_lightning)\n",
      "  Downloading propcache-0.3.0-cp311-cp311-win_amd64.whl.metadata (10 kB)\n",
      "Collecting yarl<2.0,>=1.17.0 (from aiohttp!=4.0.0a0,!=4.0.0a1->fsspec[http]>=2022.5.0->pytorch_lightning)\n",
      "  Downloading yarl-1.18.3-cp311-cp311-win_amd64.whl.metadata (71 kB)\n",
      "Requirement already satisfied: MarkupSafe>=2.0 in d:\\python\\lib\\site-packages (from jinja2->torch>=2.1.0->pytorch_lightning) (3.0.2)\n",
      "Requirement already satisfied: mpmath<1.4,>=1.1.0 in d:\\python\\lib\\site-packages (from sympy->torch>=2.1.0->pytorch_lightning) (1.3.0)\n",
      "Requirement already satisfied: idna>=2.0 in d:\\python\\lib\\site-packages (from yarl<2.0,>=1.17.0->aiohttp!=4.0.0a0,!=4.0.0a1->fsspec[http]>=2022.5.0->pytorch_lightning) (3.10)\n",
      "Downloading pytorch_lightning-2.5.0.post0-py3-none-any.whl (819 kB)\n",
      "   ---------------------------------------- 0.0/819.3 kB ? eta -:--:--\n",
      "   ---------------------------------------- 0.0/819.3 kB ? eta -:--:--\n",
      "   ---------------------------------------- 0.0/819.3 kB ? eta -:--:--\n",
      "   ---------------------------------------- 0.0/819.3 kB ? eta -:--:--\n",
      "   ---------------------------------------- 0.0/819.3 kB ? eta -:--:--\n",
      "   ---------------------------------------- 0.0/819.3 kB ? eta -:--:--\n",
      "   ------------ --------------------------- 262.1/819.3 kB ? eta -:--:--\n",
      "   ------------ --------------------------- 262.1/819.3 kB ? eta -:--:--\n",
      "   ------------ --------------------------- 262.1/819.3 kB ? eta -:--:--\n",
      "   ------------------------ ------------- 524.3/819.3 kB 558.9 kB/s eta 0:00:01\n",
      "   ------------------------ ------------- 524.3/819.3 kB 558.9 kB/s eta 0:00:01\n",
      "   -------------------------------------- 819.3/819.3 kB 540.4 kB/s eta 0:00:00\n",
      "Downloading lightning_utilities-0.12.0-py3-none-any.whl (28 kB)\n",
      "Downloading PyYAML-6.0.2-cp311-cp311-win_amd64.whl (161 kB)\n",
      "Downloading torchmetrics-1.6.1-py3-none-any.whl (927 kB)\n",
      "   ---------------------------------------- 0.0/927.3 kB ? eta -:--:--\n",
      "   ---------------------------------------- 0.0/927.3 kB ? eta -:--:--\n",
      "   ----------- ---------------------------- 262.1/927.3 kB ? eta -:--:--\n",
      "   ----------- ---------------------------- 262.1/927.3 kB ? eta -:--:--\n",
      "   --------------------- ---------------- 524.3/927.3 kB 509.0 kB/s eta 0:00:01\n",
      "   --------------------- ---------------- 524.3/927.3 kB 509.0 kB/s eta 0:00:01\n",
      "   --------------------- ---------------- 524.3/927.3 kB 509.0 kB/s eta 0:00:01\n",
      "   --------------------- ---------------- 524.3/927.3 kB 509.0 kB/s eta 0:00:01\n",
      "   -------------------------------- ----- 786.4/927.3 kB 419.4 kB/s eta 0:00:01\n",
      "   -------------------------------------- 927.3/927.3 kB 425.8 kB/s eta 0:00:00\n",
      "Downloading aiohttp-3.11.13-cp311-cp311-win_amd64.whl (442 kB)\n",
      "Using cached aiohappyeyeballs-2.4.6-py3-none-any.whl (14 kB)\n",
      "Using cached aiosignal-1.3.2-py2.py3-none-any.whl (7.6 kB)\n",
      "Downloading attrs-25.1.0-py3-none-any.whl (63 kB)\n",
      "Downloading frozenlist-1.5.0-cp311-cp311-win_amd64.whl (51 kB)\n",
      "Downloading multidict-6.1.0-cp311-cp311-win_amd64.whl (28 kB)\n",
      "Downloading propcache-0.3.0-cp311-cp311-win_amd64.whl (44 kB)\n",
      "Downloading yarl-1.18.3-cp311-cp311-win_amd64.whl (91 kB)\n",
      "Installing collected packages: PyYAML, propcache, multidict, lightning-utilities, frozenlist, attrs, aiohappyeyeballs, yarl, aiosignal, torchmetrics, aiohttp, pytorch_lightning\n",
      "Successfully installed PyYAML-6.0.2 aiohappyeyeballs-2.4.6 aiohttp-3.11.13 aiosignal-1.3.2 attrs-25.1.0 frozenlist-1.5.0 lightning-utilities-0.12.0 multidict-6.1.0 propcache-0.3.0 pytorch_lightning-2.5.0.post0 torchmetrics-1.6.1 yarl-1.18.3\n"
     ]
    }
   ],
   "source": [
    "! pip install pytorch_lightning"
   ]
  },
  {
   "cell_type": "code",
   "execution_count": null,
   "metadata": {},
   "outputs": [],
   "source": []
  }
 ],
 "metadata": {
  "kernelspec": {
   "display_name": "Python 3",
   "language": "python",
   "name": "python3"
  },
  "language_info": {
   "codemirror_mode": {
    "name": "ipython",
    "version": 3
   },
   "file_extension": ".py",
   "mimetype": "text/x-python",
   "name": "python",
   "nbconvert_exporter": "python",
   "pygments_lexer": "ipython3",
   "version": "3.11.0"
  }
 },
 "nbformat": 4,
 "nbformat_minor": 2
}
